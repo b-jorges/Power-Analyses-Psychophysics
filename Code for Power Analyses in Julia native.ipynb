{
 "cells": [
  {
   "cell_type": "code",
   "execution_count": 3,
   "metadata": {},
   "outputs": [
    {
     "name": "stderr",
     "output_type": "stream",
     "text": [
      "\u001b[32m\u001b[1m Activating\u001b[22m\u001b[39m environment at `C:\\Users\\bjoer\\.julia\\environments\\v1.4\\Project.toml`\n"
     ]
    },
    {
     "name": "stdout",
     "output_type": "stream",
     "text": [
      "\n",
      "R version 3.6.1 (2019-07-05) -- \"Action of the Toes\"\n",
      "Copyright (C) 2019 The R Foundation for Statistical Computing\n",
      "Platform: x86_64-w64-mingw32/x64 (64-bit)\n",
      "\n",
      "R is free software and comes with ABSOLUTELY NO WARRANTY.\n",
      "You are welcome to redistribute it under certain conditions.\n",
      "Type 'license()' or 'licence()' for distribution details.\n",
      "\n",
      "R is a collaborative project with many contributors.\n",
      "Type 'contributors()' for more information and\n",
      "'citation()' on how to cite R or R packages in publications.\n",
      "\n",
      "Type 'demo()' for some demos, 'help()' for on-line help, or\n",
      "'help.start()' for an HTML browser interface to help.\n",
      "Type 'q()' to quit R.\n",
      "\n"
     ]
    }
   ],
   "source": [
    "using Pkg\n",
    "Pkg.activate()\n",
    "Pkg.instantiate()\n",
    "using MixedModels\n",
    "using RCall\n",
    "using DataFrames, Tables\n",
    "using Random\n",
    "using CSV\n",
    "using RData\n",
    "using CategoricalArrays\n",
    "using Statistics\n",
    "using Dates"
   ]
  },
  {
   "cell_type": "code",
   "execution_count": 27,
   "metadata": {},
   "outputs": [
    {
     "data": {
      "text/html": [
       "<table class=\"data-frame\"><thead><tr><th></th><th>ID</th><th>ConditionOfInterest</th><th>StandardValues</th><th>reps</th></tr><tr><th></th><th>String</th><th>Int64</th><th>Int64</th><th>Int64</th></tr></thead><tbody><p>2,200 rows × 4 columns</p><tr><th>1</th><td>1</td><td>0</td><td>5</td><td>1</td></tr><tr><th>2</th><td>1</td><td>0</td><td>5</td><td>2</td></tr><tr><th>3</th><td>1</td><td>0</td><td>5</td><td>3</td></tr><tr><th>4</th><td>1</td><td>0</td><td>5</td><td>4</td></tr><tr><th>5</th><td>1</td><td>0</td><td>5</td><td>5</td></tr><tr><th>6</th><td>1</td><td>0</td><td>5</td><td>6</td></tr><tr><th>7</th><td>1</td><td>0</td><td>5</td><td>7</td></tr><tr><th>8</th><td>1</td><td>0</td><td>5</td><td>8</td></tr><tr><th>9</th><td>1</td><td>0</td><td>5</td><td>9</td></tr><tr><th>10</th><td>1</td><td>0</td><td>5</td><td>10</td></tr><tr><th>11</th><td>1</td><td>0</td><td>5</td><td>11</td></tr><tr><th>12</th><td>1</td><td>0</td><td>5</td><td>12</td></tr><tr><th>13</th><td>1</td><td>0</td><td>5</td><td>13</td></tr><tr><th>14</th><td>1</td><td>0</td><td>5</td><td>14</td></tr><tr><th>15</th><td>1</td><td>0</td><td>5</td><td>15</td></tr><tr><th>16</th><td>1</td><td>0</td><td>5</td><td>16</td></tr><tr><th>17</th><td>1</td><td>0</td><td>5</td><td>17</td></tr><tr><th>18</th><td>1</td><td>0</td><td>5</td><td>18</td></tr><tr><th>19</th><td>1</td><td>0</td><td>5</td><td>19</td></tr><tr><th>20</th><td>1</td><td>0</td><td>5</td><td>20</td></tr><tr><th>21</th><td>1</td><td>0</td><td>5</td><td>21</td></tr><tr><th>22</th><td>1</td><td>0</td><td>5</td><td>22</td></tr><tr><th>23</th><td>1</td><td>0</td><td>5</td><td>23</td></tr><tr><th>24</th><td>1</td><td>0</td><td>5</td><td>24</td></tr><tr><th>25</th><td>1</td><td>0</td><td>5</td><td>25</td></tr><tr><th>26</th><td>1</td><td>0</td><td>5</td><td>26</td></tr><tr><th>27</th><td>1</td><td>0</td><td>5</td><td>27</td></tr><tr><th>28</th><td>1</td><td>0</td><td>5</td><td>28</td></tr><tr><th>29</th><td>1</td><td>0</td><td>5</td><td>29</td></tr><tr><th>30</th><td>1</td><td>0</td><td>5</td><td>30</td></tr><tr><th>&vellip;</th><td>&vellip;</td><td>&vellip;</td><td>&vellip;</td><td>&vellip;</td></tr></tbody></table>"
      ],
      "text/latex": [
       "\\begin{tabular}{r|cccc}\n",
       "\t& ID & ConditionOfInterest & StandardValues & reps\\\\\n",
       "\t\\hline\n",
       "\t& String & Int64 & Int64 & Int64\\\\\n",
       "\t\\hline\n",
       "\t1 & 1 & 0 & 5 & 1 \\\\\n",
       "\t2 & 1 & 0 & 5 & 2 \\\\\n",
       "\t3 & 1 & 0 & 5 & 3 \\\\\n",
       "\t4 & 1 & 0 & 5 & 4 \\\\\n",
       "\t5 & 1 & 0 & 5 & 5 \\\\\n",
       "\t6 & 1 & 0 & 5 & 6 \\\\\n",
       "\t7 & 1 & 0 & 5 & 7 \\\\\n",
       "\t8 & 1 & 0 & 5 & 8 \\\\\n",
       "\t9 & 1 & 0 & 5 & 9 \\\\\n",
       "\t10 & 1 & 0 & 5 & 10 \\\\\n",
       "\t11 & 1 & 0 & 5 & 11 \\\\\n",
       "\t12 & 1 & 0 & 5 & 12 \\\\\n",
       "\t13 & 1 & 0 & 5 & 13 \\\\\n",
       "\t14 & 1 & 0 & 5 & 14 \\\\\n",
       "\t15 & 1 & 0 & 5 & 15 \\\\\n",
       "\t16 & 1 & 0 & 5 & 16 \\\\\n",
       "\t17 & 1 & 0 & 5 & 17 \\\\\n",
       "\t18 & 1 & 0 & 5 & 18 \\\\\n",
       "\t19 & 1 & 0 & 5 & 19 \\\\\n",
       "\t20 & 1 & 0 & 5 & 20 \\\\\n",
       "\t21 & 1 & 0 & 5 & 21 \\\\\n",
       "\t22 & 1 & 0 & 5 & 22 \\\\\n",
       "\t23 & 1 & 0 & 5 & 23 \\\\\n",
       "\t24 & 1 & 0 & 5 & 24 \\\\\n",
       "\t25 & 1 & 0 & 5 & 25 \\\\\n",
       "\t26 & 1 & 0 & 5 & 26 \\\\\n",
       "\t27 & 1 & 0 & 5 & 27 \\\\\n",
       "\t28 & 1 & 0 & 5 & 28 \\\\\n",
       "\t29 & 1 & 0 & 5 & 29 \\\\\n",
       "\t30 & 1 & 0 & 5 & 30 \\\\\n",
       "\t$\\dots$ & $\\dots$ & $\\dots$ & $\\dots$ & $\\dots$ \\\\\n",
       "\\end{tabular}\n"
      ],
      "text/plain": [
       "2200×4 DataFrame\n",
       "│ Row  │ ID     │ ConditionOfInterest │ StandardValues │ reps  │\n",
       "│      │ \u001b[90mString\u001b[39m │ \u001b[90mInt64\u001b[39m               │ \u001b[90mInt64\u001b[39m          │ \u001b[90mInt64\u001b[39m │\n",
       "├──────┼────────┼─────────────────────┼────────────────┼───────┤\n",
       "│ 1    │ 1      │ 0                   │ 5              │ 1     │\n",
       "│ 2    │ 1      │ 0                   │ 5              │ 2     │\n",
       "│ 3    │ 1      │ 0                   │ 5              │ 3     │\n",
       "│ 4    │ 1      │ 0                   │ 5              │ 4     │\n",
       "│ 5    │ 1      │ 0                   │ 5              │ 5     │\n",
       "│ 6    │ 1      │ 0                   │ 5              │ 6     │\n",
       "│ 7    │ 1      │ 0                   │ 5              │ 7     │\n",
       "│ 8    │ 1      │ 0                   │ 5              │ 8     │\n",
       "│ 9    │ 1      │ 0                   │ 5              │ 9     │\n",
       "│ 10   │ 1      │ 0                   │ 5              │ 10    │\n",
       "⋮\n",
       "│ 2190 │ 10     │ 1                   │ 8              │ 45    │\n",
       "│ 2191 │ 10     │ 1                   │ 8              │ 46    │\n",
       "│ 2192 │ 10     │ 1                   │ 8              │ 47    │\n",
       "│ 2193 │ 10     │ 1                   │ 8              │ 48    │\n",
       "│ 2194 │ 10     │ 1                   │ 8              │ 49    │\n",
       "│ 2195 │ 10     │ 1                   │ 8              │ 50    │\n",
       "│ 2196 │ 10     │ 1                   │ 8              │ 51    │\n",
       "│ 2197 │ 10     │ 1                   │ 8              │ 52    │\n",
       "│ 2198 │ 10     │ 1                   │ 8              │ 53    │\n",
       "│ 2199 │ 10     │ 1                   │ 8              │ 54    │\n",
       "│ 2200 │ 10     │ 1                   │ 8              │ 55    │"
      ]
     },
     "execution_count": 27,
     "metadata": {},
     "output_type": "execute_result"
    }
   ],
   "source": [
    "\n",
    "ConditionOfInterest = [0;1]\n",
    "StandardValues = [5;8]\n",
    "reps = 55\n",
    "PSE_Difference = 0.1\n",
    "JND_Difference = 0.3\n",
    "Multiplicator_PSE_Standard = 0\n",
    "Multiplicator_SD_Standard = 0.108\n",
    "SD_ResponseFunction = 0.1\n",
    "Mean_Variability_Between = 0.1\n",
    "SD_Variability_Between = 0.1\n",
    "nIterations = 100\n",
    "nParticipants = 10\n",
    "\n",
    "#function = SimulatePsychometricFunction_Staircase(ID, \n",
    "#                                                  ConditionOfInterest, \n",
    "#                                                  StandardValues, \n",
    "#                                                  reps, \n",
    "#                                                  PSE_Difference, \n",
    "#                                                  JND_Difference, \n",
    "#                                                  Multiplicator_PSE_Standard, \n",
    "#                                                  Multiplicator_SD_Standard, \n",
    "#                                                  SD_ResponseFunction, \n",
    "#                                                  Mean_Variability_Between, \n",
    "#                                                  SD_Variability_Between)\n",
    "\n",
    "ID=[]\n",
    "for i in 1:nParticipants\n",
    "    ID = [ID;string(i)]\n",
    "end\n",
    "\n",
    "for i in ID\n",
    "    for j in ConditionOfInterest\n",
    "        for k in StandardValues\n",
    "            for l in 1:reps\n",
    "                if i == ID[1] && j == ConditionOfInterest[1] && k == StandardValues[1] && l == 1\n",
    "                    global Psychometric = DataFrame(ID=i,ConditionOfInterest=j,StandardValues=k,reps=l)\n",
    "                else\n",
    "                    row = DataFrame(ID=i,ConditionOfInterest=j,StandardValues=k,reps=l)\n",
    "                    Psychometric = append!(Psychometric,row)\n",
    "                end\n",
    "            end\n",
    "        end\n",
    "    end\n",
    "end\n",
    "\n"
   ]
  },
  {
   "cell_type": "code",
   "execution_count": 23,
   "metadata": {},
   "outputs": [
    {
     "data": {
      "text/plain": [
       "SimulateDataframe (generic function with 1 method)"
      ]
     },
     "execution_count": 23,
     "metadata": {},
     "output_type": "execute_result"
    }
   ],
   "source": [
    "function SimulateDataframe(n,\n",
    "        ConditionOfInterest,\n",
    "        StandardValues,\n",
    "        reps,\n",
    "        PSE_Difference,\n",
    "        JND_Difference,\n",
    "        Multiplicator_PSE_Standard,\n",
    "        Multiplicator_SD_Standard,\n",
    "        SD_ResponseFunction,\n",
    "        Mean_Variability_Between,\n",
    "        SD_Variability_Between)\n",
    "    \n",
    "    @rput n ConditionOfInterest StandardValues reps PSE_Difference JND_Difference Multiplicator_PSE_Standard Multiplicator_SD_Standard SD_ResponseFunction Mean_Variability_Between SD_Variability_Between\n",
    "\n",
    "    R\"\"\"\n",
    "    ID = paste0(\"s\",1:n)\n",
    "        Psychometric = SimulatePsychometricFunction_Staircase(ID,\n",
    "            ConditionOfInterest,\n",
    "            StandardValues,\n",
    "            1:reps,\n",
    "            PSE_Difference,\n",
    "            JND_Difference,\n",
    "            Multiplicator_PSE_Standard,\n",
    "            Multiplicator_SD_Standard,\n",
    "            SD_ResponseFunction,\n",
    "            Mean_Variability_Between,\n",
    "            SD_Variability_Between)\n",
    "    \"\"\";\n",
    "    \n",
    "    @rget Psychometric\n",
    "    \n",
    "    Psychometric[:StandardValuesAsFactor] = \"placeholder\"\n",
    "    \n",
    "    for i = 1:length(Psychometric[!,:StandardValues])\n",
    "        Psychometric[i,:StandardValuesAsFactor] = string(Psychometric[i,:StandardValues])\n",
    "    end\n",
    "    \n",
    "    Psychometric[!,:StandardValuesAsFactor] = CategoricalArray(Psychometric[!,:StandardValuesAsFactor])\n",
    "    Psychometric\n",
    "\n",
    "end"
   ]
  },
  {
   "cell_type": "code",
   "execution_count": 26,
   "metadata": {},
   "outputs": [
    {
     "data": {
      "text/plain": [
       "GLMM_Precision (generic function with 1 method)"
      ]
     },
     "execution_count": 26,
     "metadata": {},
     "output_type": "execute_result"
    }
   ],
   "source": [
    "function GLMM_Accuracy(Psychometric)\n",
    "    formulaAccuracy = @formula(Answer ~ 1 + ConditionOfInterest + (1 + Difference|ID) + (1 + Difference|StandardValuesAsFactor));\n",
    "    modelAccuracy = GeneralizedLinearMixedModel(formulaAccuracy, Psychometric, Bernoulli())\n",
    "(coeftable(modelAccuracy)).cols[4][2]\n",
    "end\n",
    "\n",
    "function GLMM_Precision(Psychometric)\n",
    "    formula1 = @formula(Answer ~ Difference*ConditionOfInterest + (Difference|ID) + (Difference|StandardValuesAsFactor));\n",
    "    modelPrecision = fit!(GeneralizedLinearMixedModel(formula1, Psychometric, Binomial()), fast=true)\n",
    "(coeftable(modelPrecision)).cols[4][4]\n",
    "end"
   ]
  },
  {
   "cell_type": "code",
   "execution_count": 95,
   "metadata": {},
   "outputs": [
    {
     "name": "stdout",
     "output_type": "stream",
     "text": [
      "RUNTHROUGH 1 out of 12: 10 40 0.1 0.3 0.0 1.0 END. RUNTHROUGH 2 out of 12: 12 40 0.1 0.3 0.0 0.5 END. RUNTHROUGH 3 out of 12: 14 40 0.1 0.3 0.0 1.0 END. RUNTHROUGH 4 out of 12: 16 40 0.1 0.3 0.5 0.5 END. RUNTHROUGH 5 out of 12: 18 40 0.1 0.3 0.0 1.0 END. RUNTHROUGH 6 out of 12: 20 40 0.1 0.3 0.0 1.0 END. RUNTHROUGH 7 out of 12: 10 60 0.1 0.3 0.0 1.0 END. RUNTHROUGH 8 out of 12: 12 60 0.1 0.3 0.0 1.0 END. RUNTHROUGH 9 out of 12: 14 60 0.1 0.3 0.5 1.0 END. RUNTHROUGH 10 out of 12: 16 60 0.1 0.3 0.0 1.0 END. RUNTHROUGH 11 out of 12: 18 60 0.1 0.3 0.5 1.0 END. RUNTHROUGH 12 out of 12: 20 60 0.1 0.3 0.0 1.0 END. "
     ]
    }
   ],
   "source": [
    "ConditionOfInterest = [0;1]\n",
    "StandardValues = [5;8]\n",
    "Range_reps = [40,60]\n",
    "PSE_Difference = 0.1\n",
    "JND_Difference = 0.3\n",
    "Multiplicator_PSE_Standard = 0\n",
    "Multiplicator_SD_Standard = 0.108\n",
    "SD_ResponseFunction = 0.1\n",
    "Mean_Variability_Between = 0.1\n",
    "SD_Variability_Between = 0.1\n",
    "nIterations = 100\n",
    "Range_Participants = [10,12,14,16,18,20]\n",
    "nIterations = 2\n",
    "\n",
    "TotalNumber = length(Range_reps)*length(Range_Participants)\n",
    "CurrentRunthrough = 0\n",
    "rightnow = Dates.now()\n",
    "\n",
    "for reps in Range_reps\n",
    "    for n in Range_Participants\n",
    "   \n",
    "        TimeStartTrial = Dates.now()\n",
    "                \n",
    "        Pvalues_Accuracy = []\n",
    "        Pvalues_Precision = []\n",
    "        Pvalues_Accuracy_TwoLevel = []\n",
    "        Pvalues_Precision_TwoLevel = []\n",
    "                \n",
    "        for j in 1:nIterations\n",
    "        Psychometric = SimulateDataframe(n, \n",
    "                                    ConditionOfInterest, \n",
    "                                    StandardValues, \n",
    "                                    reps, \n",
    "                                    PSE_Difference, \n",
    "                                    JND_Difference, \n",
    "                                    Multiplicator_PSE_Standard, \n",
    "                                    Multiplicator_SD_Standard, \n",
    "                                    SD_ResponseFunction, \n",
    "                                    Mean_Variability_Between, \n",
    "                                    SD_Variability_Between)\n",
    "        Pvalues_Accuracy = [Pvalues_Accuracy;GLMM_Accuracy(Psychometric)]\n",
    "        Pvalues_Precision = [Pvalues_Precision;GLMM_Precision(Psychometric)]\n",
    "        end\n",
    "                \n",
    "        CurrentRunthrough = CurrentRunthrough + 1\n",
    "\n",
    "        if CurrentRunthrough == 1\n",
    "\n",
    "        global PowerfulDataframe = DataFrame(n=n, \n",
    "                        ConditionsOfInterest=length(ConditionOfInterest), \n",
    "                        StandardValue1=StandardValues[1],\n",
    "                        StandardValue2=StandardValues[2], \n",
    "                        reps=reps, \n",
    "                        PSE_Difference=PSE_Difference, \n",
    "                        JND_Difference=JND_Difference, \n",
    "                        Multiplicator_PSE_Standard=Multiplicator_PSE_Standard, \n",
    "                        Multiplicator_SD_Standard=Multiplicator_SD_Standard, \n",
    "                        SD_ResponseFunction=SD_ResponseFunction, \n",
    "                        Mean_Variability_Between=Mean_Variability_Between, \n",
    "                        SD_Variability_Between=SD_Variability_Between, \n",
    "                        power_Accuracy = mean(Pvalues_Accuracy .< 0.05),  \n",
    "                        power_Precision = mean(Pvalues_Precision .< 0.05))\n",
    "\n",
    "        else\n",
    "        row = DataFrame(n=n, \n",
    "                        ConditionsOfInterest=length(ConditionOfInterest), \n",
    "                        StandardValue1=StandardValues[1],\n",
    "                        StandardValue2=StandardValues[2], \n",
    "                        reps=reps, \n",
    "                        PSE_Difference=PSE_Difference, \n",
    "                        JND_Difference=JND_Difference, \n",
    "                        Multiplicator_PSE_Standard=Multiplicator_PSE_Standard, \n",
    "                        Multiplicator_SD_Standard=Multiplicator_SD_Standard, \n",
    "                        SD_ResponseFunction=SD_ResponseFunction, \n",
    "                        Mean_Variability_Between=Mean_Variability_Between, \n",
    "                        SD_Variability_Between=SD_Variability_Between, \n",
    "                        power_Accuracy = mean(Pvalues_Accuracy .< 0.05),  \n",
    "                        power_Precision = mean(Pvalues_Precision .< 0.05))\n",
    "                    \n",
    "        PowerfulDataframe = append!(PowerfulDataframe,row)\n",
    "        end\n",
    "                \n",
    "        print(\"RUNTHROUGH \", CurrentRunthrough, \" out of \", TotalNumber,\": \", n, \" \", reps, \" \", \n",
    "            PSE_Difference, \" \", JND_Difference, \" \", mean(Pvalues_Accuracy .< 0.05), \" \", \n",
    "            mean(Pvalues_Precision .< 0.05), \" END. \")\n",
    "    end\n",
    "end"
   ]
  },
  {
   "cell_type": "code",
   "execution_count": 97,
   "metadata": {},
   "outputs": [
    {
     "data": {
      "text/plain": [
       "\"55reps_5participants_Power.csv\""
      ]
     },
     "execution_count": 97,
     "metadata": {},
     "output_type": "execute_result"
    }
   ],
   "source": [
    "CSV.write(join([reps,\"reps_\", n, \"participants_Power.csv\"]),PowerfulDataframe)"
   ]
  },
  {
   "cell_type": "code",
   "execution_count": 136,
   "metadata": {},
   "outputs": [
    {
     "data": {
      "image/png": "[encoded data removed]"
     },
     "metadata": {},
     "output_type": "display_data"
    },
    {
     "data": {
      "text/plain": [
       "RObject{VecSxp}\n"
      ]
     },
     "execution_count": 136,
     "metadata": {},
     "output_type": "execute_result"
    }
   ],
   "source": [
    "@rput PowerfulDataframe\n",
    "R\"\"\"\n",
    "plot = ggplot(PowerfulDataframe) +\n",
    "geom_line(aes(n,power_Precision),color=\"red\") +\n",
    "geom_line(aes(n,power_Accuracy),color=\"blue\") +\n",
    "facet_grid(.~reps) +\n",
    "geom_hline(yintercept = 0.8, linetype=5) +\n",
    "geom_hline(yintercept = 0.9, linetype=2) +\n",
    "geom_hline(yintercept = 0.95, linetype=3)\n",
    "plot\n",
    "\"\"\""
   ]
  },
  {
   "cell_type": "code",
   "execution_count": 135,
   "metadata": {},
   "outputs": [
    {
     "data": {
      "image/png": "[encoded data removed]"
     },
     "metadata": {},
     "output_type": "display_data"
    },
    {
     "data": {
      "text/plain": [
       "RObject{VecSxp}\n"
      ]
     },
     "execution_count": 135,
     "metadata": {},
     "output_type": "execute_result"
    }
   ],
   "source": []
  },
  {
   "cell_type": "code",
   "execution_count": 99,
   "metadata": {},
   "outputs": [
    {
     "data": {
      "text/plain": [
       "55"
      ]
     },
     "execution_count": 99,
     "metadata": {},
     "output_type": "execute_result"
    }
   ],
   "source": [
    "reps"
   ]
  },
  {
   "cell_type": "code",
   "execution_count": 83,
   "metadata": {},
   "outputs": [
    {
     "data": {
      "text/html": [
       "<table class=\"data-frame\"><thead><tr><th></th><th>n</th><th>ConditionsOfInterest</th><th>StandardValue1</th><th>StandardValue2</th><th>reps</th><th>PSE_Difference</th></tr><tr><th></th><th>Int64</th><th>Int64</th><th>Int64</th><th>Int64</th><th>Int64</th><th>Float64</th></tr></thead><tbody><p>6 rows × 15 columns (omitted printing of 9 columns)</p><tr><th>1</th><td>10</td><td>2</td><td>5</td><td>8</td><td>60</td><td>0.1</td></tr><tr><th>2</th><td>12</td><td>2</td><td>5</td><td>8</td><td>60</td><td>0.1</td></tr><tr><th>3</th><td>14</td><td>2</td><td>5</td><td>8</td><td>60</td><td>0.1</td></tr><tr><th>4</th><td>16</td><td>2</td><td>5</td><td>8</td><td>60</td><td>0.1</td></tr><tr><th>5</th><td>18</td><td>2</td><td>5</td><td>8</td><td>60</td><td>0.1</td></tr><tr><th>6</th><td>20</td><td>2</td><td>5</td><td>8</td><td>60</td><td>0.1</td></tr></tbody></table>"
      ],
      "text/latex": [
       "\\begin{tabular}{r|ccccccc}\n",
       "\t& n & ConditionsOfInterest & StandardValue1 & StandardValue2 & reps & PSE\\_Difference & \\\\\n",
       "\t\\hline\n",
       "\t& Int64 & Int64 & Int64 & Int64 & Int64 & Float64 & \\\\\n",
       "\t\\hline\n",
       "\t1 & 10 & 2 & 5 & 8 & 60 & 0.1 & $\\dots$ \\\\\n",
       "\t2 & 12 & 2 & 5 & 8 & 60 & 0.1 & $\\dots$ \\\\\n",
       "\t3 & 14 & 2 & 5 & 8 & 60 & 0.1 & $\\dots$ \\\\\n",
       "\t4 & 16 & 2 & 5 & 8 & 60 & 0.1 & $\\dots$ \\\\\n",
       "\t5 & 18 & 2 & 5 & 8 & 60 & 0.1 & $\\dots$ \\\\\n",
       "\t6 & 20 & 2 & 5 & 8 & 60 & 0.1 & $\\dots$ \\\\\n",
       "\\end{tabular}\n"
      ],
      "text/plain": [
       "6×15 DataFrame. Omitted printing of 10 columns\n",
       "│ Row │ n     │ ConditionsOfInterest │ StandardValue1 │ StandardValue2 │ reps  │\n",
       "│     │ \u001b[90mInt64\u001b[39m │ \u001b[90mInt64\u001b[39m                │ \u001b[90mInt64\u001b[39m          │ \u001b[90mInt64\u001b[39m          │ \u001b[90mInt64\u001b[39m │\n",
       "├─────┼───────┼──────────────────────┼────────────────┼────────────────┼───────┤\n",
       "│ 1   │ 10    │ 2                    │ 5              │ 8              │ 60    │\n",
       "│ 2   │ 12    │ 2                    │ 5              │ 8              │ 60    │\n",
       "│ 3   │ 14    │ 2                    │ 5              │ 8              │ 60    │\n",
       "│ 4   │ 16    │ 2                    │ 5              │ 8              │ 60    │\n",
       "│ 5   │ 18    │ 2                    │ 5              │ 8              │ 60    │\n",
       "│ 6   │ 20    │ 2                    │ 5              │ 8              │ 60    │"
      ]
     },
     "execution_count": 83,
     "metadata": {},
     "output_type": "execute_result"
    }
   ],
   "source": [
    "PowerfulDataframe"
   ]
  },
  {
   "cell_type": "code",
   "execution_count": 7,
   "metadata": {},
   "outputs": [
    {
     "data": {
      "text/plain": [
       "\"5\""
      ]
     },
     "execution_count": 7,
     "metadata": {},
     "output_type": "execute_result"
    }
   ],
   "source": [
    "string(5)"
   ]
  },
  {
   "cell_type": "code",
   "execution_count": 74,
   "metadata": {},
   "outputs": [
    {
     "ename": "MethodError",
     "evalue": "MethodError: no method matching sexpclass(::Millisecond)\nClosest candidates are:\n  sexpclass(!Matched::Nothing) at C:\\Users\\bjoer\\.julia\\packages\\RCall\\g7dhB\\src\\convert\\default.jl:218\n  sexpclass(!Matched::Missing) at C:\\Users\\bjoer\\.julia\\packages\\RCall\\g7dhB\\src\\convert\\default.jl:219\n  sexpclass(!Matched::Symbol) at C:\\Users\\bjoer\\.julia\\packages\\RCall\\g7dhB\\src\\convert\\default.jl:222\n  ...",
     "output_type": "error",
     "traceback": [
      "MethodError: no method matching sexpclass(::Millisecond)\nClosest candidates are:\n  sexpclass(!Matched::Nothing) at C:\\Users\\bjoer\\.julia\\packages\\RCall\\g7dhB\\src\\convert\\default.jl:218\n  sexpclass(!Matched::Missing) at C:\\Users\\bjoer\\.julia\\packages\\RCall\\g7dhB\\src\\convert\\default.jl:219\n  sexpclass(!Matched::Symbol) at C:\\Users\\bjoer\\.julia\\packages\\RCall\\g7dhB\\src\\convert\\default.jl:222\n  ...",
      "",
      "Stacktrace:",
      " [1] sexp(::Millisecond) at C:\\Users\\bjoer\\.julia\\packages\\RCall\\g7dhB\\src\\convert\\default.jl:214",
      " [2] setindex!(::Ptr{VecSxp}, ::Millisecond, ::Int64) at C:\\Users\\bjoer\\.julia\\packages\\RCall\\g7dhB\\src\\methods.jl:188",
      " [3] sexp(::Type{RCall.RClass{:list}}, ::Array{Millisecond,1}) at C:\\Users\\bjoer\\.julia\\packages\\RCall\\g7dhB\\src\\convert\\base.jl:295",
      " [4] sexp(::Array{Millisecond,1}) at C:\\Users\\bjoer\\.julia\\packages\\RCall\\g7dhB\\src\\convert\\default.jl:214",
      " [5] sexp(::Type{RCall.RClass{:list}}, ::DataFrame) at C:\\Users\\bjoer\\.julia\\packages\\RCall\\g7dhB\\src\\convert\\dataframe.jl:25",
      " [6] sexp(::DataFrame) at C:\\Users\\bjoer\\.julia\\packages\\RCall\\g7dhB\\src\\convert\\default.jl:214",
      " [7] rlang_p(::RObject{ClosSxp}, ::DataFrame, ::Vararg{Any,N} where N; kwargs::Base.Iterators.Pairs{Union{},Union{},Tuple{},NamedTuple{,Tuple{}}}) at C:\\Users\\bjoer\\.julia\\packages\\RCall\\g7dhB\\src\\language.jl:9",
      " [8] rlang_p(::RObject{ClosSxp}, ::DataFrame, ::Vararg{Any,N} where N) at C:\\Users\\bjoer\\.julia\\packages\\RCall\\g7dhB\\src\\language.jl:3",
      " [9] rcall_p(::RObject{ClosSxp}, ::DataFrame, ::Vararg{Any,N} where N; kwargs::Base.Iterators.Pairs{Union{},Union{},Tuple{},NamedTuple{,Tuple{}}}) at C:\\Users\\bjoer\\.julia\\packages\\RCall\\g7dhB\\src\\language.jl:30",
      " [10] rcall_p(::RObject{ClosSxp}, ::DataFrame, ::Vararg{Any,N} where N) at C:\\Users\\bjoer\\.julia\\packages\\RCall\\g7dhB\\src\\language.jl:30",
      " [11] rcall(::RObject{ClosSxp}, ::DataFrame, ::Vararg{Any,N} where N; kwargs::Base.Iterators.Pairs{Union{},Union{},Tuple{},NamedTuple{,Tuple{}}}) at C:\\Users\\bjoer\\.julia\\packages\\RCall\\g7dhB\\src\\language.jl:37",
      " [12] rcall(::RObject{ClosSxp}, ::DataFrame, ::Vararg{Any,N} where N) at C:\\Users\\bjoer\\.julia\\packages\\RCall\\g7dhB\\src\\language.jl:37",
      " [13] (::RObject{ClosSxp})(::DataFrame, ::Vararg{Any,N} where N; kwargs::Base.Iterators.Pairs{Union{},Union{},Tuple{},NamedTuple{,Tuple{}}}) at C:\\Users\\bjoer\\.julia\\packages\\RCall\\g7dhB\\src\\language.jl:39",
      " [14] (::RObject{ClosSxp})(::DataFrame, ::Vararg{Any,N} where N) at C:\\Users\\bjoer\\.julia\\packages\\RCall\\g7dhB\\src\\language.jl:39",
      " [15] top-level scope at In[74]:1"
     ]
    }
   ],
   "source": [
    "    for \n",
    "  Psychometric = Psychometric %>%\n",
    "    group_by(ID) %>%#\n",
    "    mutate(PSE_Factor_ID = rnorm(1,1,Mean_Variability_Between),\n",
    "           SD_Factor_ID = rnorm(1,1,SD_Variability_Between))\n",
    "  \n",
    "  Psychometric = Psychometric %>%\n",
    "    mutate(\n",
    "      Mean_Standard = StandardValues+StandardValues*Multiplicator_PSE_Standard,\n",
    "      SD_Standard = StandardValues*Multiplicator_SD_Standard,\n",
    "      Mean = (Mean_Standard + (ConditionOfInterest==ConditionOfInterest[2])*StandardValues*PSE_Difference)*PSE_Factor_ID,\n",
    "      SD = abs((SD_Standard + (ConditionOfInterest==ConditionOfInterest[2])*SD_Standard*JND_Difference)*SD_Factor_ID),\n",
    "      staircase_factor = rcauchy(length(reps),1,SD_ResponseFunction), \n",
    "      Presented_TestStimulusStrength = Mean*staircase_factor,\n",
    "      Difference = Presented_TestStimulusStrength - StandardValues,\n",
    "      AnswerProbability = pnorm(Presented_TestStimulusStrength,Mean,SD),\n",
    "      Answer = as.numeric(rbernoulli(length(AnswerProbability),AnswerProbability))\n",
    "    )\n",
    "  \n",
    "  Psychometric = Psychometric %>%\n",
    "    filter(abs(staircase_factor-1) < 0.75) %>%\n",
    "    group_by(ID,ConditionOfInterest,StandardValues,Difference) %>%\n",
    "    mutate(Yes = sum(Answer==1),\n",
    "           Total = length(ConditionOfInterest))\n",
    "  \n",
    "  Psychometric\n",
    "}\n",
    "\"\"\";"
   ]
  }
 ],
 "metadata": {
  "kernelspec": {
   "display_name": "Julia 1.4.0",
   "language": "julia",
   "name": "julia-1.4"
  },
  "language_info": {
   "file_extension": ".jl",
   "mimetype": "application/julia",
   "name": "julia",
   "version": "1.4.0"
  }
 },
 "nbformat": 4,
 "nbformat_minor": 4
}
