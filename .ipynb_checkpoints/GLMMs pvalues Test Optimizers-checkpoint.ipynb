{
 "cells": [
  {
   "cell_type": "code",
   "execution_count": null,
   "metadata": {},
   "outputs": [],
   "source": [
    "cd(@__DIR__) #makes the directory where this script is located the new working directory\n",
    "using Pkg\n",
    "Pkg.activate()\n",
    "Pkg.instantiate()\n",
    "using MixedModels\n",
    "using RCall\n",
    "using DataFrames\n",
    "using CSV\n",
    "using RData\n",
    "using Statistics\n",
    "using Dates\n",
    "\n",
    "R\"\"\"\n",
    "require(dplyr, quietly = TRUE)   # for data wrangling\n",
    "require(tidyverse, quietly = TRUE)   # for data wrangling\n",
    "require(lme4)\n",
    "require(lmerTest)\n",
    "require(quickpsy)\n",
    "\n",
    "SimulatePsychometricFunction_Staircase = function(ID, \n",
    "                                                  ConditionOfInterest, \n",
    "                                                  StandardValues, \n",
    "                                                  reps, \n",
    "                                                  PSE_Difference, \n",
    "                                                  JND_Difference, \n",
    "                                                  Multiplicator_PSE_Standard, \n",
    "                                                  Multiplicator_SD_Standard, \n",
    "                                                  SD_ResponseFunction, \n",
    "                                                  Mean_Variability_Between = 0.1, \n",
    "                                                  SD_Variability_Between = 0.1){\n",
    "  Psychometric = expand.grid(ID=ID, ConditionOfInterest=ConditionOfInterest, StandardValues=StandardValues, reps = reps)\n",
    "  \n",
    "  Psychometric = Psychometric %>%\n",
    "    group_by(ID) %>%#\n",
    "    mutate(PSE_Factor_ID = rnorm(1,1,Mean_Variability_Between),\n",
    "           SD_Factor_ID = rnorm(1,1,SD_Variability_Between))\n",
    "  \n",
    "  Psychometric = Psychometric %>%\n",
    "    mutate(\n",
    "      Mean_Standard = StandardValues+StandardValues*Multiplicator_PSE_Standard,\n",
    "      SD_Standard = StandardValues*Multiplicator_SD_Standard,\n",
    "      Mean = (Mean_Standard + (ConditionOfInterest==ConditionOfInterest[2])*StandardValues*PSE_Difference)*PSE_Factor_ID,\n",
    "      SD = abs((SD_Standard + (ConditionOfInterest==ConditionOfInterest[2])*SD_Standard*JND_Difference)*SD_Factor_ID),\n",
    "      staircase_factor = rcauchy(length(reps),1,SD_ResponseFunction), \n",
    "      Presented_TestStimulusStrength = Mean*staircase_factor,\n",
    "      Difference = Presented_TestStimulusStrength - StandardValues,\n",
    "      AnswerProbability = pnorm(Presented_TestStimulusStrength,Mean,SD),\n",
    "      Answer = as.numeric(rbernoulli(length(AnswerProbability),AnswerProbability))\n",
    "    )\n",
    "  \n",
    "  Psychometric = Psychometric %>%\n",
    "    filter(abs(staircase_factor-1) < 0.75) %>%\n",
    "    group_by(ID,ConditionOfInterest,StandardValues,Difference) %>%\n",
    "    mutate(Yes = sum(Answer==1),\n",
    "           Total = length(ConditionOfInterest))\n",
    "  \n",
    "  Psychometric\n",
    "}\n",
    "\"\"\";"
   ]
  },
  {
   "cell_type": "code",
   "execution_count": null,
   "metadata": {
    "scrolled": true
   },
   "outputs": [
    {
     "name": "stdout",
     "output_type": "stream",
     "text": [
      "Starting runthrough N° 1 out of 24"
     ]
    },
    {
     "name": "stderr",
     "output_type": "stream",
     "text": [
      "┌ Warning: RCall.jl: Warning in checkConv(attr(opt, \"derivs\"), opt$par, ctrl = control$checkConv,  :\n",
      "│   Model failed to converge with max|grad| = 0.0198147 (tol = 0.001, component 1)\n",
      "└ @ RCall C:\\Users\\bjoer\\.julia\\packages\\RCall\\g7dhB\\src\\io.jl:113\n",
      "┌ Warning: RCall.jl: boundary (singular) fit: see ?isSingular\n",
      "└ @ RCall C:\\Users\\bjoer\\.julia\\packages\\RCall\\g7dhB\\src\\io.jl:113\n",
      "┌ Warning: RCall.jl: boundary (singular) fit: see ?isSingular\n",
      "└ @ RCall C:\\Users\\bjoer\\.julia\\packages\\RCall\\g7dhB\\src\\io.jl:113\n"
     ]
    },
    {
     "name": "stdout",
     "output_type": "stream",
     "text": [
      "This runthrough took 45372 milliseconds sStarting runthrough N° 2 out of 24"
     ]
    },
    {
     "name": "stderr",
     "output_type": "stream",
     "text": [
      "┌ Warning: RCall.jl: Warning in checkConv(attr(opt, \"derivs\"), opt$par, ctrl = control$checkConv,  :\n",
      "│   Model failed to converge with max|grad| = 0.00463952 (tol = 0.001, component 1)\n",
      "└ @ RCall C:\\Users\\bjoer\\.julia\\packages\\RCall\\g7dhB\\src\\io.jl:113\n",
      "┌ Warning: RCall.jl: boundary (singular) fit: see ?isSingular\n",
      "└ @ RCall C:\\Users\\bjoer\\.julia\\packages\\RCall\\g7dhB\\src\\io.jl:113\n",
      "┌ Warning: RCall.jl: Warning in checkConv(attr(opt, \"derivs\"), opt$par, ctrl = control$checkConv,  :\n",
      "│   Model failed to converge with max|grad| = 0.0440189 (tol = 0.001, component 1)\n",
      "└ @ RCall C:\\Users\\bjoer\\.julia\\packages\\RCall\\g7dhB\\src\\io.jl:113\n"
     ]
    },
    {
     "name": "stdout",
     "output_type": "stream",
     "text": [
      "This runthrough took 42418 milliseconds sStarting runthrough N° 3 out of 24"
     ]
    },
    {
     "name": "stderr",
     "output_type": "stream",
     "text": [
      "┌ Warning: RCall.jl: Warning in checkConv(attr(opt, \"derivs\"), opt$par, ctrl = control$checkConv,  :\n",
      "│   Model failed to converge with max|grad| = 0.0343234 (tol = 0.001, component 1)\n",
      "└ @ RCall C:\\Users\\bjoer\\.julia\\packages\\RCall\\g7dhB\\src\\io.jl:113\n",
      "┌ Warning: RCall.jl: boundary (singular) fit: see ?isSingular\n",
      "└ @ RCall C:\\Users\\bjoer\\.julia\\packages\\RCall\\g7dhB\\src\\io.jl:113\n"
     ]
    },
    {
     "name": "stdout",
     "output_type": "stream",
     "text": [
      "This runthrough took 68555 milliseconds sStarting runthrough N° 4 out of 24"
     ]
    },
    {
     "name": "stderr",
     "output_type": "stream",
     "text": [
      "┌ Warning: RCall.jl: Warning in checkConv(attr(opt, \"derivs\"), opt$par, ctrl = control$checkConv,  :\n",
      "│   Model failed to converge with max|grad| = 0.00959344 (tol = 0.001, component 1)\n",
      "└ @ RCall C:\\Users\\bjoer\\.julia\\packages\\RCall\\g7dhB\\src\\io.jl:113\n",
      "┌ Warning: RCall.jl: Warning in checkConv(attr(opt, \"derivs\"), opt$par, ctrl = control$checkConv,  :\n",
      "│   Model failed to converge with max|grad| = 0.00745544 (tol = 0.001, component 1)\n",
      "└ @ RCall C:\\Users\\bjoer\\.julia\\packages\\RCall\\g7dhB\\src\\io.jl:113\n",
      "┌ Warning: RCall.jl: boundary (singular) fit: see ?isSingular\n",
      "└ @ RCall C:\\Users\\bjoer\\.julia\\packages\\RCall\\g7dhB\\src\\io.jl:113\n",
      "┌ Warning: RCall.jl: boundary (singular) fit: see ?isSingular\n",
      "└ @ RCall C:\\Users\\bjoer\\.julia\\packages\\RCall\\g7dhB\\src\\io.jl:113\n"
     ]
    },
    {
     "name": "stdout",
     "output_type": "stream",
     "text": [
      "This runthrough took 62209 milliseconds sStarting runthrough N° 5 out of 24"
     ]
    },
    {
     "name": "stderr",
     "output_type": "stream",
     "text": [
      "┌ Warning: RCall.jl: Warning in checkConv(attr(opt, \"derivs\"), opt$par, ctrl = control$checkConv,  :\n",
      "│   Model failed to converge with max|grad| = 0.0120896 (tol = 0.001, component 1)\n",
      "└ @ RCall C:\\Users\\bjoer\\.julia\\packages\\RCall\\g7dhB\\src\\io.jl:113\n",
      "┌ Warning: RCall.jl: boundary (singular) fit: see ?isSingular\n",
      "└ @ RCall C:\\Users\\bjoer\\.julia\\packages\\RCall\\g7dhB\\src\\io.jl:113\n"
     ]
    },
    {
     "name": "stdout",
     "output_type": "stream",
     "text": [
      "This runthrough took 114130 milliseconds sStarting runthrough N° 6 out of "
     ]
    },
    {
     "name": "stderr",
     "output_type": "stream",
     "text": [
      "┌ Warning: RCall.jl: boundary (singular) fit: see ?isSingular\n",
      "└ @ RCall C:\\Users\\bjoer\\.julia\\packages\\RCall\\g7dhB\\src\\io.jl:113\n"
     ]
    },
    {
     "name": "stdout",
     "output_type": "stream",
     "text": [
      "24"
     ]
    },
    {
     "name": "stderr",
     "output_type": "stream",
     "text": [
      "┌ Warning: RCall.jl: boundary (singular) fit: see ?isSingular\n",
      "└ @ RCall C:\\Users\\bjoer\\.julia\\packages\\RCall\\g7dhB\\src\\io.jl:113\n",
      "┌ Warning: RCall.jl: boundary (singular) fit: see ?isSingular\n",
      "└ @ RCall C:\\Users\\bjoer\\.julia\\packages\\RCall\\g7dhB\\src\\io.jl:113\n"
     ]
    },
    {
     "name": "stdout",
     "output_type": "stream",
     "text": [
      "This runthrough took 144331 milliseconds sStarting runthrough N° 7 out of "
     ]
    },
    {
     "name": "stderr",
     "output_type": "stream",
     "text": [
      "┌ Warning: RCall.jl: boundary (singular) fit: see ?isSingular\n",
      "└ @ RCall C:\\Users\\bjoer\\.julia\\packages\\RCall\\g7dhB\\src\\io.jl:113\n"
     ]
    },
    {
     "name": "stdout",
     "output_type": "stream",
     "text": [
      "24"
     ]
    },
    {
     "name": "stderr",
     "output_type": "stream",
     "text": [
      "┌ Warning: RCall.jl: Warning in checkConv(attr(opt, \"derivs\"), opt$par, ctrl = control$checkConv,  :\n",
      "│   Model failed to converge with max|grad| = 0.0125247 (tol = 0.001, component 1)\n",
      "└ @ RCall C:\\Users\\bjoer\\.julia\\packages\\RCall\\g7dhB\\src\\io.jl:113\n",
      "┌ Warning: RCall.jl: boundary (singular) fit: see ?isSingular\n",
      "└ @ RCall C:\\Users\\bjoer\\.julia\\packages\\RCall\\g7dhB\\src\\io.jl:113\n"
     ]
    },
    {
     "name": "stdout",
     "output_type": "stream",
     "text": [
      "This runthrough took 81828 milliseconds sStarting runthrough N° 8 out of 24"
     ]
    },
    {
     "name": "stderr",
     "output_type": "stream",
     "text": [
      "┌ Warning: RCall.jl: boundary (singular) fit: see ?isSingular\n",
      "└ @ RCall C:\\Users\\bjoer\\.julia\\packages\\RCall\\g7dhB\\src\\io.jl:113\n",
      "┌ Warning: RCall.jl: boundary (singular) fit: see ?isSingular\n",
      "└ @ RCall C:\\Users\\bjoer\\.julia\\packages\\RCall\\g7dhB\\src\\io.jl:113\n",
      "┌ Warning: RCall.jl: boundary (singular) fit: see ?isSingular\n",
      "└ @ RCall C:\\Users\\bjoer\\.julia\\packages\\RCall\\g7dhB\\src\\io.jl:113\n",
      "┌ Warning: RCall.jl: boundary (singular) fit: see ?isSingular\n",
      "└ @ RCall C:\\Users\\bjoer\\.julia\\packages\\RCall\\g7dhB\\src\\io.jl:113\n"
     ]
    },
    {
     "name": "stdout",
     "output_type": "stream",
     "text": [
      "This runthrough took 89991 milliseconds sStarting runthrough N° 9 out of 24"
     ]
    },
    {
     "name": "stderr",
     "output_type": "stream",
     "text": [
      "┌ Warning: RCall.jl: Warning in checkConv(attr(opt, \"derivs\"), opt$par, ctrl = control$checkConv,  :\n",
      "│   Model failed to converge with max|grad| = 0.00912843 (tol = 0.001, component 1)\n",
      "└ @ RCall C:\\Users\\bjoer\\.julia\\packages\\RCall\\g7dhB\\src\\io.jl:113\n",
      "┌ Warning: RCall.jl: boundary (singular) fit: see ?isSingular\n",
      "└ @ RCall C:\\Users\\bjoer\\.julia\\packages\\RCall\\g7dhB\\src\\io.jl:113\n"
     ]
    },
    {
     "name": "stdout",
     "output_type": "stream",
     "text": [
      "This runthrough took 101974 milliseconds sStarting runthrough N° 10 out of 24"
     ]
    },
    {
     "name": "stderr",
     "output_type": "stream",
     "text": [
      "┌ Warning: RCall.jl: boundary (singular) fit: see ?isSingular\n",
      "└ @ RCall C:\\Users\\bjoer\\.julia\\packages\\RCall\\g7dhB\\src\\io.jl:113\n",
      "┌ Warning: RCall.jl: Warning in checkConv(attr(opt, \"derivs\"), opt$par, ctrl = control$checkConv,  :\n",
      "│   Model failed to converge with max|grad| = 0.0170394 (tol = 0.001, component 1)\n",
      "└ @ RCall C:\\Users\\bjoer\\.julia\\packages\\RCall\\g7dhB\\src\\io.jl:113\n",
      "┌ Warning: RCall.jl: boundary (singular) fit: see ?isSingular\n",
      "└ @ RCall C:\\Users\\bjoer\\.julia\\packages\\RCall\\g7dhB\\src\\io.jl:113\n",
      "┌ Warning: RCall.jl: boundary (singular) fit: see ?isSingular\n",
      "└ @ RCall C:\\Users\\bjoer\\.julia\\packages\\RCall\\g7dhB\\src\\io.jl:113\n"
     ]
    },
    {
     "name": "stdout",
     "output_type": "stream",
     "text": [
      "This runthrough took 108753 milliseconds sStarting runthrough N° 11 out of 24"
     ]
    },
    {
     "name": "stderr",
     "output_type": "stream",
     "text": [
      "┌ Warning: RCall.jl: Warning in checkConv(attr(opt, \"derivs\"), opt$par, ctrl = control$checkConv,  :\n",
      "│   Model failed to converge with max|grad| = 0.0170001 (tol = 0.001, component 1)\n",
      "└ @ RCall C:\\Users\\bjoer\\.julia\\packages\\RCall\\g7dhB\\src\\io.jl:113\n",
      "┌ Warning: RCall.jl: boundary (singular) fit: see ?isSingular\n",
      "└ @ RCall C:\\Users\\bjoer\\.julia\\packages\\RCall\\g7dhB\\src\\io.jl:113\n",
      "┌ Warning: RCall.jl: boundary (singular) fit: see ?isSingular\n",
      "└ @ RCall C:\\Users\\bjoer\\.julia\\packages\\RCall\\g7dhB\\src\\io.jl:113\n"
     ]
    },
    {
     "name": "stdout",
     "output_type": "stream",
     "text": [
      "This runthrough took 146153 milliseconds sStarting runthrough N° 12 out of 24"
     ]
    },
    {
     "name": "stderr",
     "output_type": "stream",
     "text": [
      "┌ Warning: RCall.jl: Warning in checkConv(attr(opt, \"derivs\"), opt$par, ctrl = control$checkConv,  :\n",
      "│   Model failed to converge with max|grad| = 0.011765 (tol = 0.001, component 1)\n",
      "└ @ RCall C:\\Users\\bjoer\\.julia\\packages\\RCall\\g7dhB\\src\\io.jl:113\n",
      "┌ Warning: RCall.jl: boundary (singular) fit: see ?isSingular\n",
      "└ @ RCall C:\\Users\\bjoer\\.julia\\packages\\RCall\\g7dhB\\src\\io.jl:113\n",
      "┌ Warning: RCall.jl: boundary (singular) fit: see ?isSingular\n",
      "└ @ RCall C:\\Users\\bjoer\\.julia\\packages\\RCall\\g7dhB\\src\\io.jl:113\n"
     ]
    },
    {
     "name": "stdout",
     "output_type": "stream",
     "text": [
      "This runthrough took 137446 milliseconds sStarting runthrough N° 13 out of 24"
     ]
    },
    {
     "name": "stderr",
     "output_type": "stream",
     "text": [
      "┌ Warning: RCall.jl: Warning in checkConv(attr(opt, \"derivs\"), opt$par, ctrl = control$checkConv,  :\n",
      "│   Model failed to converge with max|grad| = 0.00321599 (tol = 0.001, component 1)\n",
      "└ @ RCall C:\\Users\\bjoer\\.julia\\packages\\RCall\\g7dhB\\src\\io.jl:113\n",
      "┌ Warning: RCall.jl: boundary (singular) fit: see ?isSingular\n",
      "└ @ RCall C:\\Users\\bjoer\\.julia\\packages\\RCall\\g7dhB\\src\\io.jl:113\n"
     ]
    },
    {
     "name": "stdout",
     "output_type": "stream",
     "text": [
      "This runthrough took 74790 milliseconds sStarting runthrough N° 14 out of "
     ]
    },
    {
     "name": "stderr",
     "output_type": "stream",
     "text": [
      "┌ Warning: RCall.jl: boundary (singular) fit: see ?isSingular\n",
      "└ @ RCall C:\\Users\\bjoer\\.julia\\packages\\RCall\\g7dhB\\src\\io.jl:113\n"
     ]
    },
    {
     "name": "stdout",
     "output_type": "stream",
     "text": [
      "24"
     ]
    },
    {
     "name": "stderr",
     "output_type": "stream",
     "text": [
      "┌ Warning: RCall.jl: Warning in checkConv(attr(opt, \"derivs\"), opt$par, ctrl = control$checkConv,  :\n",
      "│   Model failed to converge with max|grad| = 0.0102926 (tol = 0.001, component 1)\n",
      "└ @ RCall C:\\Users\\bjoer\\.julia\\packages\\RCall\\g7dhB\\src\\io.jl:113\n",
      "┌ Warning: RCall.jl: boundary (singular) fit: see ?isSingular\n",
      "└ @ RCall C:\\Users\\bjoer\\.julia\\packages\\RCall\\g7dhB\\src\\io.jl:113\n"
     ]
    }
   ],
   "source": [
    "ConditionOfInterest = [0;1]\n",
    "StandardValues = [5;8]\n",
    "Range_reps = [30,40,50,60]\n",
    "PSE_Difference = 0.025\n",
    "JND_Difference = 0.5\n",
    "Multiplicator_PSE_Standard = 0\n",
    "Multiplicator_SD_Standard = 0.108\n",
    "SD_ResponseFunction = 0.1\n",
    "Mean_Variability_Between = 0.1\n",
    "SD_Variability_Between = 0.1\n",
    "nIterations = 25\n",
    "Range_Participants = [10,12,14,16,18,20]\n",
    "\n",
    "TotalNumber = length(Range_reps)*length(Range_Participants)\n",
    "CurrentRunthrough = 0\n",
    "rightnow = Dates.now()\n",
    "formula1 = @formula(Answer ~ Difference*ConditionOfInterest + (Difference + ConditionOfInterest |ID) + (Difference + ConditionOfInterest|StandardValues));\n",
    "\n",
    "for reps in Range_reps\n",
    "    for n in Range_Participants\n",
    "        CurrentRunthrough = CurrentRunthrough + 1\n",
    "\n",
    "        if CurrentRunthrough > 1\n",
    "        print(\"This runthrough took \", Dates.now()-TimeStartRunthrough, \" s\")                \n",
    "        end\n",
    "        \n",
    "        print(\"Starting runthrough N° \", CurrentRunthrough, \" out of \", TotalNumber)\n",
    "        global TimeStartRunthrough = Dates.now()\n",
    "\n",
    "        for j in 1:nIterations\n",
    "            \n",
    "            @rput reps n j ConditionOfInterest StandardValues PSE_Difference JND_Difference Multiplicator_PSE_Standard\n",
    "            @rput Multiplicator_SD_Standard SD_ResponseFunction Mean_Variability_Between SD_Variability_Between\n",
    "            \n",
    "            R\"\"\"\n",
    "            ID = paste0(\"s\",1:n)\n",
    "            \n",
    "            TimeStartTrial = Sys.time() #get time at beginning of trial            \n",
    "            Psychometric = SimulatePsychometricFunction_Staircase(ID,\n",
    "                            ConditionOfInterest,\n",
    "                            StandardValues,\n",
    "                            1:reps,\n",
    "                            PSE_Difference,\n",
    "                            JND_Difference,\n",
    "                            Multiplicator_PSE_Standard,\n",
    "                            Multiplicator_SD_Standard,\n",
    "                            SD_ResponseFunction,\n",
    "                            Mean_Variability_Between,\n",
    "                            SD_Variability_Between)\n",
    "            \n",
    "              Psychometric$StandardValues = as.character(Psychometric$StandardValues)\n",
    "              Duration_SimulateDataset = Sys.time() - TimeStartTrial #get duration of fitting\n",
    "            \n",
    "              TimeStartTrial = Sys.time() #get time at beginning of trial\n",
    "              GLMM = glmer(cbind(Yes, Total - Yes) ~ ConditionOfInterest*Difference + (ConditionOfInterest+Difference| ID) + (ConditionOfInterest+Difference| StandardValues), \n",
    "                           family = binomial(link = \"logit\"), \n",
    "                           data = Psychometric,\n",
    "                           nAGQ = 0)\n",
    "              RDuration_NelderMead_nAGQ0 = Sys.time() - TimeStartTrial #get duration of fitting\n",
    "              RPvalues_NelderMead_nAGQ0 = summary(GLMM)$coefficients[c(14,16)]\n",
    "              RCoefficients_NelderMead_nAGQ0 = summary(GLMM)$coefficients[c(2,4)]\n",
    "              RAIC_NelderMead_nAGQ0 = AIC(GLMM)\n",
    "\n",
    "              TimeStartTrial = Sys.time() #get time at beginning of trial\n",
    "              GLMM = glmer(cbind(Yes, Total - Yes) ~ ConditionOfInterest*Difference + (ConditionOfInterest+Difference| ID) + (ConditionOfInterest+Difference| StandardValues), \n",
    "                           family = binomial(link = \"logit\"), \n",
    "                           data = Psychometric,\n",
    "                           nAGQ = 1)\n",
    "              RDuration_NelderMead_nAGQ1 = Sys.time() - TimeStartTrial #get duration of fitting\n",
    "              RPvalues_NelderMead_nAGQ1 = summary(GLMM)$coefficients[c(14,16)]\n",
    "              RCoefficients_NelderMead_nAGQ1 = summary(GLMM)$coefficients[c(2,4)]\n",
    "              RAIC_NelderMead_nAGQ1 = AIC(GLMM)\n",
    "\n",
    "              TimeStartTrial = Sys.time() #get time at beginning of trial\n",
    "              GLMM = glmer(cbind(Yes, Total - Yes) ~ ConditionOfInterest*Difference + (ConditionOfInterest+Difference| ID) + (ConditionOfInterest+Difference| StandardValues), \n",
    "                           family = binomial(link = \"logit\"), \n",
    "                           data = Psychometric,\n",
    "                           nAGQ = 0,\n",
    "                           glmerControl(optimizer = \"bobyqa\"))\n",
    "              RDuration_Bobyqa_nAGQ0 = Sys.time() - TimeStartTrial #get duration of fitting\n",
    "              RPvalues_Bobyqa_nAGQ0 = summary(GLMM)$coefficients[c(14,16)] \n",
    "              RCoefficients_Bobyqa_nAGQ0 = summary(GLMM)$coefficients[c(2,4)]\n",
    "              RAIC_Bobyqa_nAGQ0 = AIC(GLMM)\n",
    "\n",
    "              TimeStartTrial = Sys.time() #get time at beginning of trial\n",
    "              GLMM = glmer(cbind(Yes, Total - Yes) ~ ConditionOfInterest*Difference + (ConditionOfInterest+Difference| ID) + (ConditionOfInterest+Difference| StandardValues), \n",
    "                           family = binomial(link = \"logit\"), \n",
    "                           data = Psychometric,\n",
    "                           nAGQ = 1,\n",
    "                           glmerControl(optimizer = \"bobyqa\"))\n",
    "              RDuration_Bobyqa_nAGQ1 = Sys.time() - TimeStartTrial #get duration of fitting\n",
    "              RPvalues_Bobyqa_nAGQ1 = summary(GLMM)$coefficients[c(14,16)]\n",
    "              RCoefficients_Bobyqa_nAGQ1 = summary(GLMM)$coefficients[c(2,4)]\n",
    "              RAIC_Bobyqa_nAGQ1 = AIC(GLMM)\n",
    "\n",
    "              TimeStartTrial = Sys.time() #get time at beginning of trial\n",
    "              GLMM = glmer(cbind(Yes, Total - Yes) ~ ConditionOfInterest*Difference + (ConditionOfInterest+Difference| ID) + (ConditionOfInterest+Difference| StandardValues), \n",
    "                           family = binomial(link = \"logit\"), \n",
    "                           data = Psychometric,\n",
    "                           nAGQ = 0,\n",
    "                           glmerControl(optimizer = \"nloptwrap\"))\n",
    "              RDuration_nloptwrap_nAGQ0 = Sys.time() - TimeStartTrial #get duration of fitting\n",
    "              RPvalues_nloptwrap_nAGQ0 = summary(GLMM)$coefficients[c(14,16)]\n",
    "              RCoefficients_nloptwrap_nAGQ0 = summary(GLMM)$coefficients[c(2,4)]            \n",
    "              RAIC_nloptwrap_nAGQ0 = AIC(GLMM)\n",
    "\n",
    "              TimeStartTrial = Sys.time() #get time at beginning of trial\n",
    "              GLMM = glmer(cbind(Yes, Total - Yes) ~ ConditionOfInterest*Difference + (ConditionOfInterest+Difference| ID) + (ConditionOfInterest+Difference| StandardValues), \n",
    "                           family = binomial(link = \"logit\"), \n",
    "                           data = Psychometric,\n",
    "                           nAGQ = 1,\n",
    "                           glmerControl(optimizer = \"nloptwrap\"))\n",
    "              RDuration_nloptwrap_nAGQ1 = Sys.time() - TimeStartTrial #get duration of fitting\n",
    "              RPvalues_nloptwrap_nAGQ1 = summary(GLMM)$coefficients[c(14,16)]\n",
    "              RCoefficients_nloptwrap_nAGQ1 = summary(GLMM)$coefficients[c(2,4)]            \n",
    "              RAIC_nloptwrap_nAGQ1 = AIC(GLMM)\n",
    "            \n",
    "            \n",
    "            R = data.frame(iteration = j, \n",
    "                 reps = reps,\n",
    "                 n = n, \n",
    "            \n",
    "                label = c(\"NelderMead_nAGQ0\",\"NelderMead_nAGQ1\",\"Bobyqa_nAGQ0\", \"Bobyqa_nAGQ1\",\n",
    "                        \"nloptwrap_nAGQ0\",\"nloptwrap_nAGQ1\"), \n",
    "                AIC = c(RAIC_NelderMead_nAGQ0,RAIC_NelderMead_nAGQ1,RAIC_Bobyqa_nAGQ0,RAIC_Bobyqa_nAGQ1,\n",
    "                        RAIC_nloptwrap_nAGQ0,RAIC_nloptwrap_nAGQ1),\n",
    "                Pvalues_Accuracy = c(RPvalues_NelderMead_nAGQ0[1],RPvalues_NelderMead_nAGQ1[1],RPvalues_Bobyqa_nAGQ0[1],\n",
    "                        RPvalues_Bobyqa_nAGQ1[1],RPvalues_nloptwrap_nAGQ0[1],RPvalues_nloptwrap_nAGQ1[1]),\n",
    "                Pvalues_Interaction = c(RPvalues_NelderMead_nAGQ0[2],RPvalues_NelderMead_nAGQ1[2],RPvalues_Bobyqa_nAGQ0[2],\n",
    "                        RPvalues_Bobyqa_nAGQ1[2],RPvalues_nloptwrap_nAGQ0[2],RPvalues_nloptwrap_nAGQ1[2]),\n",
    "                Duration = c(RDuration_NelderMead_nAGQ0,RDuration_NelderMead_nAGQ1,RDuration_Bobyqa_nAGQ0,\n",
    "                        RDuration_Bobyqa_nAGQ1,RDuration_nloptwrap_nAGQ0,RDuration_nloptwrap_nAGQ1),\n",
    "                Coefficients_Accuracy = c(RCoefficients_NelderMead_nAGQ0[1],RCoefficients_NelderMead_nAGQ1[1],\n",
    "                                          RCoefficients_Bobyqa_nAGQ0[1], RCoefficients_Bobyqa_nAGQ1[1],\n",
    "                                          RCoefficients_nloptwrap_nAGQ0[1],RCoefficients_nloptwrap_nAGQ1[1]),\n",
    "                Coefficients_Interaction = c(RCoefficients_NelderMead_nAGQ0[2],RCoefficients_NelderMead_nAGQ1[2],\n",
    "                                          RCoefficients_Bobyqa_nAGQ0[2], RCoefficients_Bobyqa_nAGQ1[2],\n",
    "                                          RCoefficients_nloptwrap_nAGQ0[2],RCoefficients_nloptwrap_nAGQ1[2]),\n",
    "            \n",
    "                ConditionsOfInterest=rep(length(ConditionOfInterest),6), \n",
    "                StandardValue1=rep(StandardValues[1],6),\n",
    "                StandardValue2=rep(StandardValues[2],6), \n",
    "                PSE_Difference=rep(PSE_Difference,6), \n",
    "                JND_Difference=rep(JND_Difference,6), \n",
    "                Multiplicator_PSE_Standard=rep(Multiplicator_PSE_Standard,6), \n",
    "                Multiplicator_SD_Standard=rep(Multiplicator_SD_Standard,6),\n",
    "                SD_ResponseFunction = rep(SD_ResponseFunction,6),\n",
    "                Mean_Variability_Between = rep(Mean_Variability_Between,6),\n",
    "                SD_Variability_Between = rep(SD_Variability_Between,6),\n",
    "                Program = rep(\"R\",6),\n",
    "                Duration_SimulateDataset=rep(Duration_SimulateDataset,6))\n",
    "\n",
    "            \"\"\"\n",
    "            \n",
    "            @rget Psychometric Duration_SimulateDataset R\n",
    "            \n",
    "            GLMM_Model = GeneralizedLinearMixedModel(formula1, Psychometric, Binomial())\n",
    "            GLMM_Model.optsum.optimizer = :LN_NELDERMEAD\n",
    "            TimeStartTrial = Dates.now()\n",
    "            GLMM = fit!(GLMM_Model, fast=true)\n",
    "            JuliaDurationGLMM_NeldMeader_AGP0 = ((Dates.now()) - TimeStartTrial)\n",
    "            JuliaAIC_NeldMeader_AGP0 = aic(GLMM)\n",
    "            JuliaPvalues_NeldMeader_AGP0 = [(coeftable(GLMM)).cols[4][3];(coeftable(GLMM)).cols[4][4]]\n",
    "            JuliaCoefficients_NeldMeader_AGP0 = [(coeftable(GLMM)).cols[1][3];(coeftable(GLMM)).cols[1][4]]\n",
    "          \n",
    "            GLMM_Model = GeneralizedLinearMixedModel(formula1, Psychometric, Binomial())\n",
    "            GLMM_Model.optsum.optimizer = :LN_NELDERMEAD\n",
    "            TimeStartTrial = Dates.now()\n",
    "            GLMM = fit!(GLMM_Model, fast=false)\n",
    "            JuliaDurationGLMM_NeldMeader_AGP1 = ((Dates.now()) - TimeStartTrial)\n",
    "            JuliaAIC_NeldMeader_AGP1 = aic(GLMM)\n",
    "            JuliaPvalues_NeldMeader_AGP1 = [(coeftable(GLMM)).cols[4][3];(coeftable(GLMM)).cols[4][4]]\n",
    "            JuliaCoefficients_NeldMeader_AGP1 = [(coeftable(GLMM)).cols[1][3];(coeftable(GLMM)).cols[1][4]]  \n",
    "\n",
    "            GLMM_Model = GeneralizedLinearMixedModel(formula1, Psychometric, Binomial())\n",
    "            TimeStartTrial = Dates.now()\n",
    "            GLMM = fit!(GLMM_Model, fast=false) #default optimizer is bobyqa\n",
    "            JuliaDurationGLMM_bobyqa_AGP1 = ((Dates.now()) - TimeStartTrial)\n",
    "            JuliaAIC_bobyqa_AGP1 = aic(GLMM)\n",
    "            JuliaPvalues_bobyqa_AGP1 = [(coeftable(GLMM)).cols[4][3];(coeftable(GLMM)).cols[4][4]]\n",
    "            JuliaCoefficients_bobyqa_AGP1 = [(coeftable(GLMM)).cols[1][3];(coeftable(GLMM)).cols[1][4]]\n",
    "            \n",
    "            GLMM_Model = GeneralizedLinearMixedModel(formula1, Psychometric, Binomial())\n",
    "            TimeStartTrial = Dates.now()\n",
    "            GLMM = fit!(GLMM_Model, fast=true) #default optimizer is bobyqa\n",
    "            JuliaDurationGLMM_bobyqa_AGP0 = ((Dates.now()) - TimeStartTrial)\n",
    "            JuliaAIC_bobyqa_AGP0 = aic(GLMM)\n",
    "            JuliaPvalues_bobyqa_AGP0 = [(coeftable(GLMM)).cols[4][3];(coeftable(GLMM)).cols[4][4]]\n",
    "            JuliaCoefficients_bobyqa_AGP0 = [(coeftable(GLMM)).cols[1][3];(coeftable(GLMM)).cols[1][4]]\n",
    "            \n",
    "            formulaNull_Interaction = @formula(Answer ~ Difference + ConditionOfInterest + \n",
    "                                            (Difference + ConditionOfInterest | ID) + \n",
    "                                            (Difference + ConditionOfInterest | StandardValues));\n",
    "            GLMMNull = fit!(GeneralizedLinearMixedModel(formulaNull_Interaction, Psychometric, Bernoulli()),fast=true)\n",
    "            TimeStartTrial = Dates.now()\n",
    "            Pvalue_LRT = MixedModels.likelihoodratiotest(GLMM,GLMMNull).pvalues[1]\n",
    "            JuliaDurationLRT = ((Dates.now()) - TimeStartTrial)\n",
    "            \n",
    "            \n",
    "            Julia = DataFrame(\n",
    "                        iteration = j,\n",
    "                        reps = reps,\n",
    "                        n = n,\n",
    "                        \n",
    "                        label = [\"JuliaAIC_NeldMeader_AGP0\",\"JuliaAIC_bobyqa_AGP0\",\n",
    "                                 \"JuliaAIC_NeldMeader_AGP1\",\"JuliaAIC_bobyqa_AGP1\",\"JuliaLRT\"],\n",
    "                        AIC = [JuliaAIC_NeldMeader_AGP0,JuliaAIC_bobyqa_AGP0,\n",
    "                               JuliaAIC_NeldMeader_AGP1,JuliaAIC_bobyqa_AGP1,0],\n",
    "                        Pvalues_Accuracy = [JuliaPvalues_NeldMeader_AGP0[1],JuliaPvalues_bobyqa_AGP0[1],\n",
    "                                            JuliaPvalues_NeldMeader_AGP1[1],JuliaPvalues_bobyqa_AGP1[1],0],\n",
    "                        Pvalues_Interaction = [JuliaPvalues_NeldMeader_AGP0[2],JuliaPvalues_bobyqa_AGP0[2],JuliaPvalues_NeldMeader_AGP1[2],\n",
    "                                               JuliaPvalues_bobyqa_AGP1[2],Pvalue_LRT],\n",
    "                        Duration = [JuliaDurationGLMM_NeldMeader_AGP0.value/1000,JuliaDurationGLMM_bobyqa_AGP0.value/1000,\n",
    "                                    JuliaDurationGLMM_NeldMeader_AGP1.value/1000,JuliaDurationGLMM_bobyqa_AGP1.value/1000,\n",
    "                                    JuliaDurationLRT.value/1000],\n",
    "                        Coefficients_Accuracy = [JuliaCoefficients_NeldMeader_AGP0[1],JuliaCoefficients_NeldMeader_AGP1[1],\n",
    "                                                 JuliaCoefficients_bobyqa_AGP1[1],JuliaCoefficients_bobyqa_AGP0[1],0],\n",
    "                        Coefficients_Interaction = [JuliaCoefficients_NeldMeader_AGP0[2],JuliaCoefficients_NeldMeader_AGP1[2],\n",
    "                                                 JuliaCoefficients_bobyqa_AGP1[2],JuliaCoefficients_bobyqa_AGP0[2],0],\n",
    "                \n",
    "                        ConditionsOfInterest=length(ConditionOfInterest), \n",
    "                        StandardValue1=StandardValues[1],\n",
    "                        StandardValue2=StandardValues[2], \n",
    "                        PSE_Difference=PSE_Difference, \n",
    "                        JND_Difference=JND_Difference, \n",
    "                        Multiplicator_PSE_Standard=Multiplicator_PSE_Standard, \n",
    "                        Multiplicator_SD_Standard=Multiplicator_SD_Standard,\n",
    "                        SD_ResponseFunction = SD_ResponseFunction,\n",
    "                        Mean_Variability_Between = Mean_Variability_Between,\n",
    "                        SD_Variability_Between = SD_Variability_Between,\n",
    "                        Program = \"Julia\",\n",
    "                        Duration_SimulateDataset=Duration_SimulateDataset)\n",
    "            \n",
    "            if CurrentRunthrough == 1 && j == 1 && reps == Range_reps[1] && n == Range_Participants[1]\n",
    "            \n",
    "                global PowerfulDataframe = append!(R,Julia)\n",
    "                \n",
    "            else\n",
    "                \n",
    "                PowerfulDataframe = append!(PowerfulDataframe,R)\n",
    "                PowerfulDataframe = append!(PowerfulDataframe,Julia)\n",
    "            end\n",
    "        end\n",
    "    end\n",
    "end\n",
    "\n",
    "CSV.write(join([\"Pvalues_Julia2.csv\"]),PowerfulDataframe)"
   ]
  },
  {
   "cell_type": "code",
   "execution_count": 9,
   "metadata": {},
   "outputs": [
    {
     "name": "stderr",
     "output_type": "stream",
     "text": [
      "┌ Warning: RCall.jl: boundary (singular) fit: see ?isSingular\n",
      "└ @ RCall C:\\Users\\bjoer\\.julia\\packages\\RCall\\g7dhB\\src\\io.jl:113\n",
      "┌ Warning: RCall.jl: boundary (singular) fit: see ?isSingular\n",
      "└ @ RCall C:\\Users\\bjoer\\.julia\\packages\\RCall\\g7dhB\\src\\io.jl:113\n",
      "┌ Warning: RCall.jl: boundary (singular) fit: see ?isSingular\n",
      "└ @ RCall C:\\Users\\bjoer\\.julia\\packages\\RCall\\g7dhB\\src\\io.jl:113\n"
     ]
    },
    {
     "data": {
      "text/plain": [
       "2-element Array{Float64,1}:\n",
       " 0.5067957478396171\n",
       " 0.6955474110381241"
      ]
     },
     "execution_count": 9,
     "metadata": {},
     "output_type": "execute_result"
    }
   ],
   "source": []
  },
  {
   "cell_type": "code",
   "execution_count": 15,
   "metadata": {},
   "outputs": [
    {
     "data": {
      "text/plain": [
       "1601 milliseconds"
      ]
     },
     "execution_count": 15,
     "metadata": {},
     "output_type": "execute_result"
    }
   ],
   "source": []
  }
 ],
 "metadata": {
  "kernelspec": {
   "display_name": "Julia 1.4.0",
   "language": "julia",
   "name": "julia-1.4"
  },
  "language_info": {
   "file_extension": ".jl",
   "mimetype": "application/julia",
   "name": "julia",
   "version": "1.4.0"
  }
 },
 "nbformat": 4,
 "nbformat_minor": 4
}
