{
 "cells": [
  {
   "cell_type": "code",
   "execution_count": 1,
   "metadata": {},
   "outputs": [
    {
     "name": "stderr",
     "output_type": "stream",
     "text": [
      "\u001b[32m\u001b[1m Activating\u001b[22m\u001b[39m environment at `C:\\Users\\bjoer\\.julia\\environments\\v1.4\\Project.toml`"
     ]
    },
    {
     "name": "stdout",
     "output_type": "stream",
     "text": [
      "\n",
      "R version 3.6.1 (2019-07-05) -- \"Action of the Toes\"\n",
      "Copyright (C) 2019 The R Foundation for Statistical Computing\n",
      "Platform: x86_64-w64-mingw32/x64 (64-bit)\n",
      "\n",
      "R is free software and comes with ABSOLUTELY NO WARRANTY.\n",
      "You are welcome to redistribute it under certain conditions.\n",
      "Type 'license()' or 'licence()' for distribution details.\n",
      "\n",
      "R is a collaborative project with many contributors.\n",
      "Type 'contributors()' for more information and\n",
      "'citation()' on how to cite R or R packages in publications.\n",
      "\n",
      "Type 'demo()' for some demos, 'help()' for on-line help, or\n",
      "'help.start()' for an HTML browser interface to help.\n",
      "Type 'q()' to quit R.\n",
      "\n"
     ]
    },
    {
     "name": "stderr",
     "output_type": "stream",
     "text": [
      "\n",
      "┌ Warning: RCall.jl: [Previously saved workspace restored]\n",
      "│ \n",
      "└ @ RCall C:\\Users\\bjoer\\.julia\\packages\\RCall\\g7dhB\\src\\io.jl:113\n"
     ]
    }
   ],
   "source": [
    "cd(\"C:/Users/bjoer/Documents/GitHub/Power-Analyses-Psychophysics/\") #makes the directory where this script is located the new working directory\n",
    "using Pkg\n",
    "Pkg.activate()\n",
    "Pkg.instantiate()\n",
    "using MixedModels\n",
    "using RCall\n",
    "using DataFrames\n",
    "using Random\n",
    "using CSV\n",
    "using RData\n",
    "using Statistics\n",
    "using Dates"
   ]
  },
  {
   "cell_type": "code",
   "execution_count": 2,
   "metadata": {},
   "outputs": [
    {
     "name": "stderr",
     "output_type": "stream",
     "text": [
      "┌ Warning: RCall.jl: Warning: package 'dplyr' was built under R version 3.6.3\n",
      "│ \n",
      "│ Attaching package: 'dplyr'\n",
      "│ \n",
      "│ The following objects are masked from 'package:stats':\n",
      "│ \n",
      "│     filter, lag\n",
      "│ \n",
      "│ The following objects are masked from 'package:base':\n",
      "│ \n",
      "│     intersect, setdiff, setequal, union\n",
      "│ \n",
      "└ @ RCall C:\\Users\\bjoer\\.julia\\packages\\RCall\\g7dhB\\src\\io.jl:113\n",
      "┌ Warning: RCall.jl: Warning: package 'tidyverse' was built under R version 3.6.3\n",
      "│ -- Attaching packages --------------------------------------- tidyverse 1.3.0 --\n",
      "│ v ggplot2 3.3.0     v purrr   0.3.3\n",
      "│ v tibble  3.0.0     v stringr 1.4.0\n",
      "│ v tidyr   1.0.2     v forcats 0.5.0\n",
      "│ v readr   1.3.1     \n",
      "│ Warning: package 'ggplot2' was built under R version 3.6.3\n",
      "│ Warning: package 'tibble' was built under R version 3.6.3\n",
      "│ Warning: package 'tidyr' was built under R version 3.6.3\n",
      "│ Warning: package 'forcats' was built under R version 3.6.3\n",
      "│ -- Conflicts ------------------------------------------ tidyverse_conflicts() --\n",
      "│ x dplyr::filter() masks stats::filter()\n",
      "│ x dplyr::lag()    masks stats::lag()\n",
      "└ @ RCall C:\\Users\\bjoer\\.julia\\packages\\RCall\\g7dhB\\src\\io.jl:113\n",
      "┌ Warning: RCall.jl: Loading required package: lme4\n",
      "│ Loading required package: Matrix\n",
      "│ \n",
      "│ Attaching package: 'Matrix'\n",
      "│ \n",
      "│ The following objects are masked from 'package:tidyr':\n",
      "│ \n",
      "│     expand, pack, unpack\n",
      "│ \n",
      "└ @ RCall C:\\Users\\bjoer\\.julia\\packages\\RCall\\g7dhB\\src\\io.jl:113\n",
      "┌ Warning: RCall.jl: Loading required package: lmerTest\n",
      "│ Warning: package 'lmerTest' was built under R version 3.6.3\n",
      "│ \n",
      "│ Attaching package: 'lmerTest'\n",
      "│ \n",
      "│ The following object is masked from 'package:lme4':\n",
      "│ \n",
      "│     lmer\n",
      "│ \n",
      "│ The following object is masked from 'package:stats':\n",
      "│ \n",
      "│     step\n",
      "│ \n",
      "└ @ RCall C:\\Users\\bjoer\\.julia\\packages\\RCall\\g7dhB\\src\\io.jl:113\n",
      "┌ Warning: RCall.jl: Loading required package: quickpsy\n",
      "│ Warning: package 'quickpsy' was built under R version 3.6.3\n",
      "│ Loading required package: DEoptim\n",
      "│ Warning: package 'DEoptim' was built under R version 3.6.3\n",
      "│ Loading required package: parallel\n",
      "│ \n",
      "│ DEoptim package\n",
      "│ Differential Evolution algorithm in R\n",
      "│ Authors: D. Ardia, K. Mullen, B. Peterson and J. Ulrich\n",
      "│ \n",
      "│ \n",
      "│ Attaching package: 'quickpsy'\n",
      "│ \n",
      "│ The following object is masked from 'package:stats':\n",
      "│ \n",
      "│     deviance\n",
      "│ \n",
      "└ @ RCall C:\\Users\\bjoer\\.julia\\packages\\RCall\\g7dhB\\src\\io.jl:113\n"
     ]
    }
   ],
   "source": [
    "R\"\"\"\n",
    "require(dplyr, quietly = TRUE)   # for data wrangling\n",
    "require(tidyverse, quietly = TRUE)   # for data wrangling\n",
    "require(lme4)\n",
    "require(lmerTest)\n",
    "require(quickpsy)\n",
    "\n",
    "SimulatePsychometricFunction_Staircase = function(ID, \n",
    "                                                  ConditionOfInterest, \n",
    "                                                  StandardValues, \n",
    "                                                  reps, \n",
    "                                                  PSE_Difference, \n",
    "                                                  JND_Difference, \n",
    "                                                  Multiplicator_PSE_Standard, \n",
    "                                                  Multiplicator_SD_Standard, \n",
    "                                                  SD_ResponseFunction, \n",
    "                                                  Mean_Variability_Between = 0.1, \n",
    "                                                  SD_Variability_Between = 0.1){\n",
    "  Psychometric = expand.grid(ID=ID, ConditionOfInterest=ConditionOfInterest, StandardValues=StandardValues, reps = reps)\n",
    "  \n",
    "  Psychometric = Psychometric %>%\n",
    "    group_by(ID) %>%#\n",
    "    mutate(PSE_Factor_ID = rnorm(1,1,Mean_Variability_Between),\n",
    "           SD_Factor_ID = rnorm(1,1,SD_Variability_Between))\n",
    "  \n",
    "  Psychometric = Psychometric %>%\n",
    "    mutate(\n",
    "      Mean_Standard = StandardValues+StandardValues*Multiplicator_PSE_Standard,\n",
    "      SD_Standard = StandardValues*Multiplicator_SD_Standard,\n",
    "      Mean = (Mean_Standard + (ConditionOfInterest==ConditionOfInterest[2])*StandardValues*PSE_Difference)*PSE_Factor_ID,\n",
    "      SD = abs((SD_Standard + (ConditionOfInterest==ConditionOfInterest[2])*SD_Standard*JND_Difference)*SD_Factor_ID),\n",
    "      staircase_factor = rcauchy(length(reps),1,SD_ResponseFunction), \n",
    "      Presented_TestStimulusStrength = Mean*staircase_factor,\n",
    "      Difference = Presented_TestStimulusStrength - StandardValues,\n",
    "      AnswerProbability = pnorm(Presented_TestStimulusStrength,Mean,SD),\n",
    "      Answer = as.numeric(rbernoulli(length(AnswerProbability),AnswerProbability))\n",
    "    )\n",
    "  \n",
    "  Psychometric = Psychometric %>%\n",
    "    filter(abs(staircase_factor-1) < 0.75) %>%\n",
    "    group_by(ID,ConditionOfInterest,StandardValues,Difference) %>%\n",
    "    mutate(Yes = sum(Answer==1),\n",
    "           Total = length(ConditionOfInterest))\n",
    "  \n",
    "  Psychometric\n",
    "}\n",
    "\"\"\";"
   ]
  },
  {
   "cell_type": "code",
   "execution_count": 7,
   "metadata": {},
   "outputs": [
    {
     "data": {
      "text/plain": [
       "SimulateDataframe (generic function with 1 method)"
      ]
     },
     "execution_count": 7,
     "metadata": {},
     "output_type": "execute_result"
    }
   ],
   "source": [
    "function SimulateDataframe(n,\n",
    "        ConditionOfInterest,\n",
    "        StandardValues,\n",
    "        reps,\n",
    "        PSE_Difference,\n",
    "        JND_Difference,\n",
    "        Multiplicator_PSE_Standard,\n",
    "        Multiplicator_SD_Standard,\n",
    "        SD_ResponseFunction,\n",
    "        Mean_Variability_Between,\n",
    "        SD_Variability_Between)\n",
    "    \n",
    "    @rput n ConditionOfInterest StandardValues reps PSE_Difference JND_Difference Multiplicator_PSE_Standard Multiplicator_SD_Standard SD_ResponseFunction Mean_Variability_Between SD_Variability_Between\n",
    "\n",
    "    R\"\"\"\n",
    "    ID = paste0(\"s\",1:n)\n",
    "        Psychometric = SimulatePsychometricFunction_Staircase(ID,\n",
    "            ConditionOfInterest,\n",
    "            StandardValues,\n",
    "            1:reps,\n",
    "            PSE_Difference,\n",
    "            JND_Difference,\n",
    "            Multiplicator_PSE_Standard,\n",
    "            Multiplicator_SD_Standard,\n",
    "            SD_ResponseFunction,\n",
    "            Mean_Variability_Between,\n",
    "            SD_Variability_Between)\n",
    "    \n",
    "        Parameters = quickpsy(Psychometric,Difference,Answer,grouping = .(ID,ConditionOfInterest,StandardValues), bootstrap = \"none\")$par\n",
    "        Parameters2 = Parameters %>%\n",
    "        filter(parn == \"p1\") %>%\n",
    "        select(ID,ConditionOfInterest,Mean=par, StandardValues)\n",
    "        Parameters2$SD = Parameters$par[Parameters$parn == \"p2\"]\n",
    "        FittedPsychometricFunctions = Parameters2\n",
    "    \n",
    "        FittedPsychometricFunctions$StandardValues = as.character(FittedPsychometricFunctions$StandardValues)\n",
    "        Psychometric$StandardValues = as.character(Psychometric$StandardValues)\n",
    "    \n",
    "    \"\"\"\n",
    "    @rget Psychometric FittedPsychometricFunctions\n",
    "    \n",
    "    Psychometric[:StandardValuesAsFactor] = \"placeholder\"\n",
    "    \n",
    "    formula1 = @formula(Answer ~ Difference*ConditionOfInterest + (Difference+ConditionOfInterest|ID) + (Difference+ConditionOfInterest|StandardValues));\n",
    "    GLMM = fit!(GeneralizedLinearMixedModel(formula1, Psychometric, Binomial()), fast=true)\n",
    "    \n",
    "    formula2 = @formula(Mean ~ ConditionOfInterest + (1|ID) + (1|StandardValues));\n",
    "    TwoLevelMean = fit(MixedModel,formula2, FittedPsychometricFunctions)\n",
    "    \n",
    "    formula3 = @formula(SD ~ ConditionOfInterest + (1|ID) + (1|StandardValues));\n",
    "    TwoLevelSD = fit(MixedModel,formula3, FittedPsychometricFunctions)\n",
    "\n",
    "    [(coeftable(GLMM)).cols[4][3];(coeftable(GLMM)).cols[4][4];(coeftable(TwoLevelMean)).cols[4][2];(coeftable(TwoLevelSD)).cols[4][2]]\n",
    "    \n",
    "end"
   ]
  },
  {
   "cell_type": "code",
   "execution_count": null,
   "metadata": {},
   "outputs": [
    {
     "name": "stderr",
     "output_type": "stream",
     "text": [
      "┌ Warning: Implicit broadcasting to a new column in DataFrame assignment is deprecated.Use `df[!, col_ind] .= v`  when `df` has some columns\n",
      "│   caller = SimulateDataframe(::Int64, ::Array{Int64,1}, ::Array{Int64,1}, ::Int64, ::Float64, ::Float64, ::Int64, ::Float64, ::Float64, ::Float64, ::Float64) at In[12]:42\n",
      "└ @ Main .\\In[12]:42\n"
     ]
    },
    {
     "name": "stdout",
     "output_type": "stream",
     "text": [
      "|==============================                        | 56% ~3 s remaining     UGH 2 out of 30: 12 60 -0.3 -0.5 1.0 1.0 335807 milliseconds END. RUNTHROUGH 3 out of 30: 14 60 -0.3 -0.5 1.0 1.0 396273 milliseconds END.                                                                   RUNTHROUGH 4 out of 30: 16 60 -0.3 -0.5 1.0 1.0 444242 milliseconds END.                                                                                                                                                         RUNTHROUGH 5 out of 30: 18 60 -0.3 -0.5 0.99 1.0 507121 milliseconds END.                                                                                                                                                                                                                                                     RUNTHROUGH 6 out of 30: 20 60 -0.3 -0.5 1.0 1.0 567850 milliseconds END. RUNTHROUGH 7 out of 30: 10 60 -0.3 -0.25 1.0 0.98 238278 milliseconds END. RUNTHROUGH 8 out of 30: 12 60 -0.3 -0.25 1.0 1.0 320534 milliseconds END. RUNTHROUGH 9 out of 30: 14 60 -0.3 -0.25 1.0 0.98 375739 milliseconds END.                                                                                                                                                                                                                                                                                                                                                                                                                                                                                                                                                                     RUNTHROUGH 10 out of 30: 16 60 -0.3 -0.25 1.0 1.0 691745 milliseconds END.                                                                                                                                                                                                                                                                                                                                                                                                                                                                                                                                                                   "
     ]
    },
    {
     "name": "stderr",
     "output_type": "stream",
     "text": [
      "Excessive output truncated after 524334 bytes."
     ]
    },
    {
     "name": "stdout",
     "output_type": "stream",
     "text": [
      "\r"
     ]
    }
   ],
   "source": [
    "ConditionOfInterest = [0;1]\n",
    "StandardValues = [5;8]\n",
    "Range_reps = [60]\n",
    "Range_PSE_Difference = [-0.1,-0.05,0,0.05,0.1]\n",
    "Range_JND_Difference = [-0.2,-0.1,0,0.1,0.2]\n",
    "Multiplicator_PSE_Standard = 0\n",
    "Multiplicator_SD_Standard = 0.108\n",
    "SD_ResponseFunction = 0.1\n",
    "Mean_Variability_Between = 0.1\n",
    "SD_Variability_Between = 0.1\n",
    "nIterations = 100\n",
    "Range_Participants = [10,12,14,16,18,20]\n",
    "\n",
    "TotalNumber = length(Range_reps)*length(Range_PSE_Difference)*length(Range_JND_Difference)*length(Range_Participants)\n",
    "CurrentRunthrough = 0\n",
    "rightnow = Dates.now()\n",
    "n = []\n",
    "\n",
    "for reps in Range_reps\n",
    "    for PSE_Difference in Range_PSE_Difference\n",
    "        for JND_Difference in Range_JND_Difference\n",
    "            for n in Range_Participants\n",
    "                \n",
    "                TimeStartTrial = Dates.now()\n",
    "                \n",
    "                Pvalues_Accuracy = []\n",
    "                Pvalues_Precision = []\n",
    "                Pvalues_Accuracy_TwoLevel = []\n",
    "                Pvalues_Precision_TwoLevel = []\n",
    "                \n",
    "                for j in 1:nIterations\n",
    "                Pvalues = SimulateDataframe(n, \n",
    "                                      ConditionOfInterest, \n",
    "                                      StandardValues, \n",
    "                                      reps, \n",
    "                                      PSE_Difference, \n",
    "                                      JND_Difference, \n",
    "                                      Multiplicator_PSE_Standard, \n",
    "                                      Multiplicator_SD_Standard, \n",
    "                                      SD_ResponseFunction, \n",
    "                                      Mean_Variability_Between, \n",
    "                                      SD_Variability_Between)\n",
    "                    Pvalues_Accuracy = [Pvalues_Accuracy;Pvalues[1]]\n",
    "                    Pvalues_Precision = [Pvalues_Precision;Pvalues[2]]\n",
    "                    Pvalues_Accuracy_TwoLevel = [Pvalues_Accuracy_TwoLevel;Pvalues[3]]\n",
    "                    Pvalues_Precision_TwoLevel = [Pvalues_Precision_TwoLevel;Pvalues[4]]\n",
    "                end\n",
    "                \n",
    "                CurrentRunthrough = CurrentRunthrough + 1\n",
    "\n",
    "                if CurrentRunthrough == 1\n",
    "\n",
    "                   global PowerfulDataframe = DataFrame(n=n, \n",
    "                        ConditionsOfInterest=length(ConditionOfInterest), \n",
    "                        StandardValue1=StandardValues[1],\n",
    "                        StandardValue2=StandardValues[2], reps=reps, \n",
    "                        PSE_Difference=PSE_Difference, \n",
    "                        JND_Difference=JND_Difference, \n",
    "                        Multiplicator_PSE_Standard=Multiplicator_PSE_Standard, \n",
    "                        Multiplicator_SD_Standard=Multiplicator_SD_Standard, \n",
    "                        SD_ResponseFunction=SD_ResponseFunction, \n",
    "                        Mean_Variability_Between=Mean_Variability_Between, \n",
    "                        SD_Variability_Between=SD_Variability_Between, \n",
    "                        power_Accuracy = mean(Pvalues_Accuracy .< 0.05),  \n",
    "                        power_Precision = mean(Pvalues_Precision .< 0.05),\n",
    "                        power_Accuracy_Twolevel = mean(Pvalues_Accuracy_TwoLevel .< 0.05),  \n",
    "                        power_Precision_Twolevel = mean(Pvalues_Precision_TwoLevel .< 0.05),\n",
    "                        Duration = ((Dates.now()) - TimeStartTrial))   \n",
    "\n",
    "                else\n",
    "                    row = DataFrame(n=n, \n",
    "                        ConditionsOfInterest=length(ConditionOfInterest), \n",
    "                        StandardValue1=StandardValues[1],StandardValue2=StandardValues[2], \n",
    "                        reps=reps, \n",
    "                        PSE_Difference=PSE_Difference, \n",
    "                        JND_Difference=JND_Difference, \n",
    "                        Multiplicator_PSE_Standard=Multiplicator_PSE_Standard, \n",
    "                        Multiplicator_SD_Standard=Multiplicator_SD_Standard, \n",
    "                        SD_ResponseFunction=SD_ResponseFunction, \n",
    "                        Mean_Variability_Between=Mean_Variability_Between, \n",
    "                        SD_Variability_Between=SD_Variability_Between, \n",
    "                        power_Accuracy = mean(Pvalues_Accuracy .< 0.05),  \n",
    "                        power_Precision = mean(Pvalues_Precision .< 0.05),\n",
    "                        power_Accuracy_Twolevel = mean(Pvalues_Accuracy_TwoLevel .< 0.05),  \n",
    "                        power_Precision_Twolevel = mean(Pvalues_Precision_TwoLevel .< 0.05),\n",
    "                        Duration=((Dates.now()) - TimeStartTrial))\n",
    "                    \n",
    "                    PowerfulDataframe = append!(PowerfulDataframe,row)\n",
    "                end\n",
    "                \n",
    "                print(\"RUNTHROUGH \", CurrentRunthrough, \" out of \", TotalNumber,\": \", n, \" \", reps, \" \", PSE_Difference, \" \", JND_Difference, \" \", mean(Pvalues_Accuracy .< 0.05), \" \", \n",
    "                    mean(Pvalues_Precision .< 0.05), \" \", PowerfulDataframe[!,:Duration][CurrentRunthrough], \" END. \")\n",
    "\n",
    "            end\n",
    "            CSV.write(join([reps,\"_\", n, \"_\", PSE_Difference, \"_\", JND_Difference, \".csv\"]),PowerfulDataframe)\n",
    "        end\n",
    "    end\n",
    "end\n",
    "\n"
   ]
  },
  {
   "cell_type": "code",
   "execution_count": 4,
   "metadata": {},
   "outputs": [],
   "source": []
  },
  {
   "cell_type": "code",
   "execution_count": 5,
   "metadata": {},
   "outputs": [
    {
     "data": {
      "text/plain": [
       "\"C:\\\\Users\\\\bjoer\\\\Documents\\\\GitHub\\\\Power-Analyses-Psychophysics\""
      ]
     },
     "execution_count": 5,
     "metadata": {},
     "output_type": "execute_result"
    }
   ],
   "source": []
  },
  {
   "cell_type": "code",
   "execution_count": 24,
   "metadata": {},
   "outputs": [
    {
     "data": {
      "text/plain": [
       "\"In[24]\""
      ]
     },
     "execution_count": 24,
     "metadata": {},
     "output_type": "execute_result"
    }
   ],
   "source": []
  },
  {
   "cell_type": "code",
   "execution_count": 21,
   "metadata": {},
   "outputs": [
    {
     "data": {
      "text/plain": [
       "\"In[21]\""
      ]
     },
     "execution_count": 21,
     "metadata": {},
     "output_type": "execute_result"
    }
   ],
   "source": []
  },
  {
   "cell_type": "code",
   "execution_count": 4,
   "metadata": {},
   "outputs": [
    {
     "data": {
      "text/plain": [
       "10"
      ]
     },
     "execution_count": 4,
     "metadata": {},
     "output_type": "execute_result"
    }
   ],
   "source": [
    "ConditionOfInterest = [0;1]\n",
    "StandardValues = [5;8]\n",
    "reps = [60]\n",
    "PSE_Difference = -0.1\n",
    "JND_Difference = 0.1\n",
    "Multiplicator_PSE_Standard = 0\n",
    "Multiplicator_SD_Standard = 0.108\n",
    "SD_ResponseFunction = 0.1\n",
    "Mean_Variability_Between = 0.1\n",
    "SD_Variability_Between = 0.1\n",
    "nIterations = 100\n",
    "n = 10"
   ]
  },
  {
   "cell_type": "code",
   "execution_count": 11,
   "metadata": {},
   "outputs": [
    {
     "name": "stdout",
     "output_type": "stream",
     "text": [
      "|======================================================|100% ~0 s remaining     "
     ]
    },
    {
     "name": "stderr",
     "output_type": "stream",
     "text": [
      "┌ Warning: Implicit broadcasting to a new column in DataFrame assignment is deprecated.Use `df[!, col_ind] .= v`  when `df` has some columns\n",
      "│   caller = top-level scope at In[11]:30\n",
      "└ @ Core In[11]:30\n"
     ]
    },
    {
     "data": {
      "text/plain": [
       "4-element Array{Float64,1}:\n",
       " 1.0511421502741406e-18\n",
       " 0.056483139877829984\n",
       " 4.654408803490514e-17\n",
       " 0.18267546245922908"
      ]
     },
     "execution_count": 11,
     "metadata": {},
     "output_type": "execute_result"
    }
   ],
   "source": [
    "@rput n ConditionOfInterest StandardValues reps PSE_Difference JND_Difference Multiplicator_PSE_Standard Multiplicator_SD_Standard SD_ResponseFunction Mean_Variability_Between SD_Variability_Between\n",
    "\n",
    "    R\"\"\"\n",
    "    ID = paste0(\"s\",1:n)\n",
    "        Psychometric = SimulatePsychometricFunction_Staircase(ID,\n",
    "            ConditionOfInterest,\n",
    "            StandardValues,\n",
    "            1:reps,\n",
    "            PSE_Difference,\n",
    "            JND_Difference,\n",
    "            Multiplicator_PSE_Standard,\n",
    "            Multiplicator_SD_Standard,\n",
    "            SD_ResponseFunction,\n",
    "            Mean_Variability_Between,\n",
    "            SD_Variability_Between)\n",
    "\n",
    "    require(quickpsy)\n",
    "        Parameters = quickpsy(Psychometric,Difference,Answer,grouping = .(ID,ConditionOfInterest,StandardValues), bootstrap = \"none\")$par\n",
    "        Parameters2 = Parameters %>%\n",
    "        filter(parn == \"p1\") %>%\n",
    "        select(ID,ConditionOfInterest,Mean=par, StandardValues)\n",
    "        Parameters2$SD = Parameters$par[Parameters$parn == \"p2\"]\n",
    "        FittedPsychometricFunctions = Parameters2\n",
    "        \n",
    "        FittedPsychometricFunctions$StandardValues = as.character(FittedPsychometricFunctions$StandardValues)\n",
    "        Psychometric$StandardValues = as.character(Psychometric$StandardValues)\n",
    "    \n",
    "    \"\"\"\n",
    "    @rget Psychometric FittedPsychometricFunctions\n",
    "    \n",
    "    Psychometric[:StandardValuesAsFactor] = \"placeholder\"\n",
    "\n",
    "#    for i = 1:length(Psychometric[!,:StandardValues])\n",
    "#        Psychometric[i,:StandardValuesAsFactor] = string(Psychometric[i,:StandardValues])\n",
    "#    end\n",
    "#    \n",
    "#    Psychometric[!,:StandardValuesAsFactor] = CategoricalArray(Psychometric[!,:StandardValuesAsFactor])\n",
    "\n",
    "#    FittedPsychometricFunctions[:StandardValuesAsFactor] = \"placeholder\"\n",
    "    \n",
    "#    for i = 1:length(FittedPsychometricFunctions[!,:StandardValues])\n",
    "#        FittedPsychometricFunctions[i,:StandardValuesAsFactor] = string(FittedPsychometricFunctions[i,:StandardValues])\n",
    "#    end\n",
    "    \n",
    "#    FittedPsychometricFunctions[!,:StandardValuesAsFactor] = CategoricalArray(FittedPsychometricFunctions[!,:StandardValuesAsFactor])\n",
    "\n",
    "    \n",
    "    #formulaAccuracy = @formula(Answer ~ 1 + ConditionOfInterest + (1 + Difference|ID) + (1 + Difference|StandardValuesAsFactor));\n",
    "    #modelAccuracy = GeneralizedLinearMixedModel(formulaAccuracy, Psychometric, Bernoulli())\n",
    "    \n",
    "    formula1 = @formula(Answer ~ Difference*ConditionOfInterest + (Difference+ConditionOfInterest|ID) + (Difference+ConditionOfInterest|StandardValues));\n",
    "    GLMM = fit!(GeneralizedLinearMixedModel(formula1, Psychometric, Binomial()), fast=true)\n",
    "    \n",
    "    formula2 = @formula(Mean ~ ConditionOfInterest + (1|ID) + (1|StandardValues));\n",
    "    TwoLevelMean = fit(MixedModel,formula2, FittedPsychometricFunctions)\n",
    "    \n",
    "    formula3 = @formula(SD ~ ConditionOfInterest + (1|ID) + (1|StandardValues));\n",
    "    TwoLevelSD = fit(MixedModel,formula3, FittedPsychometricFunctions)\n",
    "\n",
    "    [(coeftable(GLMM)).cols[4][3];(coeftable(GLMM)).cols[4][4];(coeftable(TwoLevelMean)).cols[4][2];(coeftable(TwoLevelSD)).cols[4][2]]\n"
   ]
  },
  {
   "cell_type": "code",
   "execution_count": 10,
   "metadata": {},
   "outputs": [
    {
     "data": {
      "text/plain": [
       "Generalized Linear Mixed Model fit by maximum likelihood (nAGQ = 1)\n",
       "  Answer ~ 1 + Difference + ConditionOfInterest + Difference & ConditionOfInterest + (1 + Difference + ConditionOfInterest | ID) + (1 + Difference + ConditionOfInterest | StandardValues)\n",
       "  Distribution: Bernoulli{Float64}\n",
       "  Link: LogitLink()\n",
       "\n",
       "  Deviance: 1960.7757\n",
       "\n",
       "Variance components:\n",
       "                      Column         Variance     Std.Dev.    Corr.\n",
       "ID             (Intercept)          2.9205964822 1.708975273\n",
       "               Difference           0.0472136989 0.217287135  0.95\n",
       "               ConditionOfInterest  0.0062960915 0.079347914 -0.59 -0.82\n",
       "StandardValues (Intercept)          0.0019990723 0.044710986\n",
       "               Difference           0.3228771423 0.568222793 -1.00\n",
       "               ConditionOfInterest  0.0178005164 0.133418576 -1.00  1.00\n",
       "\n",
       " Number of obs: 2196; levels of grouping factors: 10, 2\n",
       "\n",
       "Fixed-effects parameters:\n",
       "──────────────────────────────────────────────────────────────────────────\n",
       "                                   Estimate  Std.Error    z value  P(>|z|)\n",
       "──────────────────────────────────────────────────────────────────────────\n",
       "(Intercept)                       -0.290053   0.547058  -0.530206   0.5960\n",
       "Difference                         2.50739    0.426736   5.87573    <1e-8\n",
       "ConditionOfInterest                1.5629     0.158885   9.83668    <1e-22\n",
       "Difference & ConditionOfInterest  -0.10372    0.116006  -0.89409    0.3713\n",
       "──────────────────────────────────────────────────────────────────────────"
      ]
     },
     "execution_count": 10,
     "metadata": {},
     "output_type": "execute_result"
    }
   ],
   "source": [
    "GLMM"
   ]
  },
  {
   "cell_type": "code",
   "execution_count": 18,
   "metadata": {},
   "outputs": [
    {
     "data": {
      "text/plain": [
       "Linear mixed model fit by maximum likelihood\n",
       " Mean ~ 1 + ConditionOfInterest + (1 | ID) + (1 | StandardValuesAsFactor)\n",
       "     logLik        -2 logLik          AIC             BIC       \n",
       "  5.98111566×10³ -1.19622313×10⁴ -1.19522313×10⁴  -1.1916621×10⁴\n",
       "\n",
       "Variance components:\n",
       "                          Column     Variance   Std.Dev.  \n",
       "ID                     (Intercept)  0.326686181 0.57156468\n",
       "StandardValuesAsFactor (Intercept)  2.180685079 1.47671428\n",
       "Residual                            0.015652497 0.12510994\n",
       " Number of obs: 9155; levels of grouping factors: 10, 2\n",
       "\n",
       "  Fixed-effects parameters:\n",
       "───────────────────────────────────────────────────────────────\n",
       "                        Estimate   Std.Error   z value  P(>|z|)\n",
       "───────────────────────────────────────────────────────────────\n",
       "(Intercept)          6.3537       1.05972     5.99562    <1e-8\n",
       "ConditionOfInterest  0.000688873  0.00261543  0.263388   0.7923\n",
       "───────────────────────────────────────────────────────────────"
      ]
     },
     "execution_count": 18,
     "metadata": {},
     "output_type": "execute_result"
    }
   ],
   "source": [
    "TwoLevelMean"
   ]
  },
  {
   "cell_type": "code",
   "execution_count": 28,
   "metadata": {},
   "outputs": [
    {
     "data": {
      "text/plain": [
       "CategoricalString{UInt32} \"s1\""
      ]
     },
     "execution_count": 28,
     "metadata": {},
     "output_type": "execute_result"
    }
   ],
   "source": [
    "Psychometric[!,:ID][1]"
   ]
  },
  {
   "cell_type": "code",
   "execution_count": 21,
   "metadata": {},
   "outputs": [
    {
     "data": {
      "text/plain": [
       "4-element Array{Float64,1}:\n",
       " 3.7046258636649417e-13\n",
       " 0.0005415493655042497\n",
       " 0.7922518980824794\n",
       " 0.0"
      ]
     },
     "execution_count": 21,
     "metadata": {},
     "output_type": "execute_result"
    }
   ],
   "source": []
  },
  {
   "cell_type": "code",
   "execution_count": null,
   "metadata": {},
   "outputs": [],
   "source": [
    "n ConditionOfInterest StandardValues reps PSE_Difference JND_Difference Multiplicator_PSE_Standard Multiplicator_SD_Standard SD_ResponseFunction"
   ]
  },
  {
   "cell_type": "code",
   "execution_count": 33,
   "metadata": {},
   "outputs": [
    {
     "data": {
      "text/plain": [
       "\"C:\\\\Users\\\\bjoer\""
      ]
     },
     "execution_count": 33,
     "metadata": {},
     "output_type": "execute_result"
    }
   ],
   "source": [
    "@__DIR__"
   ]
  }
 ],
 "metadata": {
  "kernelspec": {
   "display_name": "Julia 1.4.0",
   "language": "julia",
   "name": "julia-1.4"
  },
  "language_info": {
   "file_extension": ".jl",
   "mimetype": "application/julia",
   "name": "julia",
   "version": "1.4.0"
  }
 },
 "nbformat": 4,
 "nbformat_minor": 4
}
