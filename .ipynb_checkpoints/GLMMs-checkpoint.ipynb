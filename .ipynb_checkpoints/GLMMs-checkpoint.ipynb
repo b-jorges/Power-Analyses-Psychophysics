{
 "cells": [
  {
   "cell_type": "code",
   "execution_count": null,
   "metadata": {},
   "outputs": [],
   "source": [
    "cd(@__DIR__) #makes the directory where this script is located the new working directory\n",
    "using Pkg\n",
    "Pkg.activate()\n",
    "Pkg.instantiate()\n",
    "using MixedModels\n",
    "using RCall\n",
    "using DataFrames\n",
    "using CSV\n",
    "using RData\n",
    "using Statistics\n",
    "using Dates"
   ]
  },
  {
   "cell_type": "code",
   "execution_count": null,
   "metadata": {},
   "outputs": [],
   "source": [
    "R\"\"\"\n",
    "require(dplyr, quietly = TRUE)   # for data wrangling\n",
    "require(tidyverse, quietly = TRUE)   # for data wrangling\n",
    "require(lme4)\n",
    "require(lmerTest)\n",
    "require(quickpsy)\n",
    "\n",
    "SimulatePsychometricFunction_Staircase = function(ID, \n",
    "                                                  ConditionOfInterest, \n",
    "                                                  StandardValues, \n",
    "                                                  reps, \n",
    "                                                  PSE_Difference, \n",
    "                                                  JND_Difference, \n",
    "                                                  Multiplicator_PSE_Standard, \n",
    "                                                  Multiplicator_SD_Standard, \n",
    "                                                  SD_ResponseFunction, \n",
    "                                                  Mean_Variability_Between = 0.1, \n",
    "                                                  SD_Variability_Between = 0.1){\n",
    "  Psychometric = expand.grid(ID=ID, ConditionOfInterest=ConditionOfInterest, StandardValues=StandardValues, reps = reps)\n",
    "  \n",
    "  Psychometric = Psychometric %>%\n",
    "    group_by(ID) %>%#\n",
    "    mutate(PSE_Factor_ID = rnorm(1,1,Mean_Variability_Between),\n",
    "           SD_Factor_ID = rnorm(1,1,SD_Variability_Between))\n",
    "  \n",
    "  Psychometric = Psychometric %>%\n",
    "    mutate(\n",
    "      Mean_Standard = StandardValues+StandardValues*Multiplicator_PSE_Standard,\n",
    "      SD_Standard = StandardValues*Multiplicator_SD_Standard,\n",
    "      Mean = (Mean_Standard + (ConditionOfInterest==ConditionOfInterest[2])*StandardValues*PSE_Difference)*PSE_Factor_ID,\n",
    "      SD = abs((SD_Standard + (ConditionOfInterest==ConditionOfInterest[2])*SD_Standard*JND_Difference)*SD_Factor_ID),\n",
    "      staircase_factor = rcauchy(length(reps),1,SD_ResponseFunction), \n",
    "      Presented_TestStimulusStrength = Mean*staircase_factor,\n",
    "      Difference = Presented_TestStimulusStrength - StandardValues,\n",
    "      AnswerProbability = pnorm(Presented_TestStimulusStrength,Mean,SD),\n",
    "      Answer = as.numeric(rbernoulli(length(AnswerProbability),AnswerProbability))\n",
    "    )\n",
    "  \n",
    "  Psychometric = Psychometric %>%\n",
    "    filter(abs(staircase_factor-1) < 0.75) %>%\n",
    "    group_by(ID,ConditionOfInterest,StandardValues,Difference) %>%\n",
    "    mutate(Yes = sum(Answer==1),\n",
    "           Total = length(ConditionOfInterest))\n",
    "  \n",
    "  Psychometric\n",
    "}\n",
    "\"\"\";"
   ]
  },
  {
   "cell_type": "code",
   "execution_count": null,
   "metadata": {},
   "outputs": [],
   "source": [
    "function SimulateDataframe_Twolevel(n,\n",
    "        ConditionOfInterest,\n",
    "        StandardValues,\n",
    "        reps,\n",
    "        PSE_Difference,\n",
    "        JND_Difference,\n",
    "        Multiplicator_PSE_Standard,\n",
    "        Multiplicator_SD_Standard,\n",
    "        SD_ResponseFunction,\n",
    "        Mean_Variability_Between,\n",
    "        SD_Variability_Between)\n",
    "    \n",
    "    @rput n ConditionOfInterest StandardValues reps PSE_Difference JND_Difference Multiplicator_PSE_Standard Multiplicator_SD_Standard SD_ResponseFunction Mean_Variability_Between SD_Variability_Between\n",
    "\n",
    "    R\"\"\"\n",
    "    ID = paste0(\"s\",1:n)\n",
    "        Psychometric = SimulatePsychometricFunction_Staircase(ID,\n",
    "            ConditionOfInterest,\n",
    "            StandardValues,\n",
    "            1:reps,\n",
    "            PSE_Difference,\n",
    "            JND_Difference,\n",
    "            Multiplicator_PSE_Standard,\n",
    "            Multiplicator_SD_Standard,\n",
    "            SD_ResponseFunction,\n",
    "            Mean_Variability_Between,\n",
    "            SD_Variability_Between)\n",
    "    \n",
    "        Parameters = quickpsy(Psychometric,Difference,Answer,grouping = .(ID,ConditionOfInterest,StandardValues), bootstrap = \"none\")$par\n",
    "        Parameters2 = Parameters %>%\n",
    "        filter(parn == \"p1\") %>%\n",
    "        select(ID,ConditionOfInterest,Mean=par, StandardValues)\n",
    "        Parameters2$SD = Parameters$par[Parameters$parn == \"p2\"]\n",
    "        FittedPsychometricFunctions = Parameters2\n",
    "    \n",
    "        FittedPsychometricFunctions$StandardValues = as.character(FittedPsychometricFunctions$StandardValues)\n",
    "        Psychometric$StandardValues = as.character(Psychometric$StandardValues)\n",
    "    \n",
    "    \"\"\"\n",
    "    @rget Psychometric FittedPsychometricFunctions\n",
    "    \n",
    "    Psychometric[:StandardValuesAsFactor] = \"placeholder\"\n",
    "    \n",
    "    formula1 = @formula(Answer ~ Difference*ConditionOfInterest + (Difference + ConditionOfInterest |ID) + (Difference + ConditionOfInterest|StandardValues));\n",
    "    GLMM = fit!(GeneralizedLinearMixedModel(formula1, Psychometric, Binomial()), fast=true)\n",
    "    \n",
    "    formulaNull = @formula(Answer ~ Difference + ConditionOfInterest + (Difference + ConditionOfInterest |ID) + (Difference + ConditionOfInterest|StandardValues));\n",
    "    GLMMNull = fit!(GeneralizedLinearMixedModel(formulaNull, Psychometric, Binomial()), fast=true)\n",
    "    Pvalue_LRT = MixedModels.likelihoodratiotest(GLMM,GLMMNull).pvalues[1]\n",
    "    \n",
    "    \n",
    "    formula2 = @formula(Mean ~ ConditionOfInterest + (1|ID) + (1|StandardValues));\n",
    "    TwoLevelMean = fit(MixedModel,formula2, FittedPsychometricFunctions)\n",
    "    \n",
    "    formula3 = @formula(SD ~ ConditionOfInterest + (1|ID) + (1|StandardValues));\n",
    "    TwoLevelSD = fit(MixedModel,formula3, FittedPsychometricFunctions)\n",
    "\n",
    "    [(coeftable(GLMM)).cols[4][2];\n",
    "        Pvalue_LRT;\n",
    "        (coeftable(TwoLevelMean)).cols[4][2];\n",
    "        (coeftable(TwoLevelSD)).cols[4][2]]\n",
    "end"
   ]
  },
  {
   "cell_type": "code",
   "execution_count": null,
   "metadata": {},
   "outputs": [
    {
     "name": "stderr",
     "output_type": "stream",
     "text": [
      "┌ Warning: Implicit broadcasting to a new column in DataFrame assignment is deprecated.Use `df[!, col_ind] .= v`  when `df` has some columns\n",
      "│   caller = SimulateDataframe_Twolevel(::Int64, ::Array{Int64,1}, ::Array{Int64,1}, ::Int64, ::Float64, ::Float64, ::Int64, ::Float64, ::Float64, ::Float64, ::Float64) at In[4]:42\n",
      "└ @ Main .\\In[4]:42\n"
     ]
    },
    {
     "name": "stdout",
     "output_type": "stream",
     "text": [
      "|===================================================   | 95% ~0 s remaining      RUNTHROUGH 2 out of 90: 12 60 0.0 -0.2 1.0 0.69 613201 milliseconds END.          RUNTHROUGH 3 out of 90: 14 60 0.0 -0.2 1.0 0.74 724616 milliseconds END.                                                                                                                                                     RUNTHROUGH 4 out of 90: 16 60 0.0 -0.2 1.0 0.72 914303 milliseconds END.                                                                                                                                                                                                                                      RUNTHROUGH 5 out of 90: 18 60 0.0 -0.2 1.0 0.88 1074357 milliseconds END.                                                                                                                                                                                                                                                                                                                                                                                                                                                                                                                                                         RUNTHROUGH 6 out of 90: 20 60 0.0 -0.2 1.0 0.94 1316955 milliseconds END. RUNTHROUGH 7 out of 90: 10 60 0.0 -0.1 1.0 0.11 507249 milliseconds END.                                        RUNTHROUGH 8 out of 90: 12 60 0.0 -0.1 1.0 0.22 671679 milliseconds END.                                                                                                                                                                                                                                                                                                                                                RUNTHROUGH 9 out of 90: 14 60 0.0 -0.1 1.0 0.23 878311 milliseconds END.                                                                                                                                                                                                                                                                                                RUNTHROUGH 10 out of 90: 16 60 0.0 -0.1 1.0 0.21 952323 milliseconds END.                                                                                                                                                                                 RUNTHROUGH 11 out of 90: 18 60 0.0 -0.1 1.0 0.31 981699 milliseconds END.                                         "
     ]
    },
    {
     "name": "stderr",
     "output_type": "stream",
     "text": [
      "Excessive output truncated after 524330 bytes."
     ]
    },
    {
     "name": "stdout",
     "output_type": "stream",
     "text": [
      "\r",
      "|====================================================  | 98% ~0 s remaining     \r"
     ]
    }
   ],
   "source": [
    "ConditionOfInterest = [0;1]\n",
    "StandardValues = [5;8]\n",
    "Range_reps = 60\n",
    "Range_PSE_Difference = [0.05]\n",
    "Range_JND_Difference = [0.2]\n",
    "Multiplicator_PSE_Standard = 0\n",
    "Multiplicator_SD_Standard = 0.108\n",
    "SD_ResponseFunction = 0.1\n",
    "Mean_Variability_Between = 0.1\n",
    "SD_Variability_Between = 0.1\n",
    "nIterations = 100\n",
    "Range_Participants = [10,12,14,16,18,20]\n",
    "\n",
    "TotalNumber = length(Range_reps)*length(Range_PSE_Difference)*length(Range_JND_Difference)*length(Range_Participants)\n",
    "CurrentRunthrough = 0\n",
    "rightnow = Dates.now()\n",
    "\n",
    "for reps in Range_reps\n",
    "    for PSE_Difference in Range_PSE_Difference\n",
    "        for JND_Difference in Range_JND_Difference\n",
    "            for n in Range_Participants\n",
    "                \n",
    "                TimeStartTrial = Dates.now()\n",
    "                \n",
    "                Pvalues_Accuracy = []\n",
    "                Pvalues_Precision = []\n",
    "                Pvalues_Accuracy_TwoLevel = []\n",
    "                Pvalues_Precision_TwoLevel = []\n",
    "                \n",
    "                for j in 1:nIterations\n",
    "                Pvalues = SimulateDataframe_Twolevel(n, \n",
    "                                      ConditionOfInterest, \n",
    "                                      StandardValues, \n",
    "                                      reps, \n",
    "                                      PSE_Difference, \n",
    "                                      JND_Difference, \n",
    "                                      Multiplicator_PSE_Standard, \n",
    "                                      Multiplicator_SD_Standard, \n",
    "                                      SD_ResponseFunction, \n",
    "                                      Mean_Variability_Between, \n",
    "                                      SD_Variability_Between)\n",
    "                    Pvalues_Accuracy = [Pvalues_Accuracy;Pvalues[1]]\n",
    "                    Pvalues_Precision = [Pvalues_Precision;Pvalues[2]]\n",
    "                    Pvalues_Accuracy_TwoLevel = [Pvalues_Accuracy_TwoLevel;Pvalues[3]]\n",
    "                    Pvalues_Precision_TwoLevel = [Pvalues_Precision_TwoLevel;Pvalues[4]]\n",
    "                end\n",
    "                \n",
    "                CurrentRunthrough = CurrentRunthrough + 1\n",
    "\n",
    "                if CurrentRunthrough == 1\n",
    "\n",
    "                   global PowerfulDataframe = DataFrame(n=n, \n",
    "                        ConditionsOfInterest=length(ConditionOfInterest), \n",
    "                        StandardValue1=StandardValues[1],\n",
    "                        StandardValue2=StandardValues[2], reps=reps, \n",
    "                        PSE_Difference=PSE_Difference, \n",
    "                        JND_Difference=JND_Difference, \n",
    "                        Multiplicator_PSE_Standard=Multiplicator_PSE_Standard, \n",
    "                        Multiplicator_SD_Standard=Multiplicator_SD_Standard, \n",
    "                        SD_ResponseFunction=SD_ResponseFunction, \n",
    "                        Mean_Variability_Between=Mean_Variability_Between, \n",
    "                        SD_Variability_Between=SD_Variability_Between, \n",
    "                        power_Accuracy = mean(Pvalues_Accuracy .< 0.05),  \n",
    "                        power_Precision = mean(Pvalues_Precision .< 0.05),\n",
    "                        power_Accuracy_Twolevel = mean(Pvalues_Accuracy_TwoLevel .< 0.05),  \n",
    "                        power_Precision_Twolevel = mean(Pvalues_Precision_TwoLevel .< 0.05),\n",
    "                        Duration = ((Dates.now()) - TimeStartTrial))   \n",
    "\n",
    "                else\n",
    "                    row = DataFrame(n=n, \n",
    "                        ConditionsOfInterest=length(ConditionOfInterest), \n",
    "                        StandardValue1=StandardValues[1],StandardValue2=StandardValues[2], \n",
    "                        reps=reps, \n",
    "                        PSE_Difference=PSE_Difference, \n",
    "                        JND_Difference=JND_Difference, \n",
    "                        Multiplicator_PSE_Standard=Multiplicator_PSE_Standard, \n",
    "                        Multiplicator_SD_Standard=Multiplicator_SD_Standard, \n",
    "                        SD_ResponseFunction=SD_ResponseFunction, \n",
    "                        Mean_Variability_Between=Mean_Variability_Between, \n",
    "                        SD_Variability_Between=SD_Variability_Between, \n",
    "                        power_Accuracy = mean(Pvalues_Accuracy .< 0.05),  \n",
    "                        power_Precision = mean(Pvalues_Precision .< 0.05),\n",
    "                        power_Accuracy_Twolevel = mean(Pvalues_Accuracy_TwoLevel .< 0.05),  \n",
    "                        power_Precision_Twolevel = mean(Pvalues_Precision_TwoLevel .< 0.05),\n",
    "                        Duration=((Dates.now()) - TimeStartTrial))\n",
    "                    \n",
    "                    PowerfulDataframe = append!(PowerfulDataframe,row)\n",
    "                end\n",
    "                \n",
    "                print(\"RUNTHROUGH \", CurrentRunthrough, \" out of \", TotalNumber,\": \", n, \" \", reps, \" \", PSE_Difference, \" \", JND_Difference, \" \", mean(Pvalues_Accuracy .< 0.05), \" \", \n",
    "                    mean(Pvalues_Precision .< 0.05), \" \", PowerfulDataframe[!,:Duration][CurrentRunthrough], \" END. \")\n",
    "\n",
    "            end\n",
    "            CSV.write(join([reps,\"_\", PSE_Difference, \"_\", JND_Difference, \".csv\"]),PowerfulDataframe)\n",
    "        end\n",
    "    end\n",
    "end\n",
    "\n"
   ]
  },
  {
   "cell_type": "code",
   "execution_count": null,
   "metadata": {},
   "outputs": [],
   "source": []
  },
  {
   "cell_type": "code",
   "execution_count": null,
   "metadata": {},
   "outputs": [],
   "source": [
    "function SimulateDataframe(n,\n",
    "        ConditionOfInterest,\n",
    "        StandardValues,\n",
    "        reps,\n",
    "        PSE_Difference,\n",
    "        JND_Difference,\n",
    "        Multiplicator_PSE_Standard,\n",
    "        Multiplicator_SD_Standard,\n",
    "        SD_ResponseFunction,\n",
    "        Mean_Variability_Between,\n",
    "        SD_Variability_Between)\n",
    "    \n",
    "    @rput n ConditionOfInterest StandardValues reps PSE_Difference JND_Difference Multiplicator_PSE_Standard Multiplicator_SD_Standard SD_ResponseFunction Mean_Variability_Between SD_Variability_Between\n",
    "\n",
    "    TimeBeforeDataframeinR = Dates.now()\n",
    "    R\"\"\"\n",
    "    ID = paste0(\"s\",1:n)\n",
    "        Psychometric = SimulatePsychometricFunction_Staircase(ID,\n",
    "            ConditionOfInterest,\n",
    "            StandardValues,\n",
    "            1:reps,\n",
    "            PSE_Difference,\n",
    "            JND_Difference,\n",
    "            Multiplicator_PSE_Standard,\n",
    "            Multiplicator_SD_Standard,\n",
    "            SD_ResponseFunction,\n",
    "            Mean_Variability_Between,\n",
    "            SD_Variability_Between)\n",
    "    \n",
    "        Psychometric$StandardValues = as.character(Psychometric$StandardValues)\n",
    "    \n",
    "    \"\"\"\n",
    "    @rget Psychometric FittedPsychometricFunctions\n",
    "\n",
    "    DurationSimulateDataframe = Dates.now() - TimeBeforeDataframeinR\n",
    "    \n",
    "    TimeStartTrial = Dates.now()\n",
    "    \n",
    "    formula1 = @formula(Answer ~ Difference*ConditionOfInterest + (Difference + ConditionOfInterest |ID) + (Difference + ConditionOfInterest|StandardValues));\n",
    "    GLMM = fit!(GeneralizedLinearMixedModel(formula1, Psychometric, Binomial()), fast=false)\n",
    "    \n",
    "    DurationGLMM = ((Dates.now()) - TimeStartTrial)\n",
    "    [(coeftable(GLMM)).cols[4][2];(coeftable(GLMM)).cols[4][4];DurationGLMM;DurationSimulateDataframe]\n",
    "    \n",
    "end"
   ]
  },
  {
   "cell_type": "code",
   "execution_count": 47,
   "metadata": {},
   "outputs": [
    {
     "name": "stdout",
     "output_type": "stream",
     "text": [
      "5RUNTHROUGH 1 out of 24: 10 30 492.08 END. 5RUNTHROUGH 2 out of 24: 12 30 657.44 END. 5RUNTHROUGH 3 out of 24: 14 30 716.48 END. 5RUNTHROUGH 4 out of 24: 16 30 869.4 END. 5RUNTHROUGH 5 out of 24: 18 30 903.76 END. 5RUNTHROUGH 6 out of 24: 20 30 1113.72 END. 5RUNTHROUGH 7 out of 24: 10 40 725.96 END. 5RUNTHROUGH 8 out of 24: 12 40 826.36 END. 5RUNTHROUGH 9 out of 24: 14 40 1047.92 END. 5RUNTHROUGH 10 out of 24: 16 40 1806.08 END. 5RUNTHROUGH 11 out of 24: 18 40 1933.44 END. 5RUNTHROUGH 12 out of 24: 20 40 2041.36 END. 5RUNTHROUGH 13 out of 24: 10 50 887.52 END. 5RUNTHROUGH 14 out of 24: 12 50 1015.4 END. 5RUNTHROUGH 15 out of 24: 14 50 2000.76 END. 5RUNTHROUGH 16 out of 24: 16 50 2244.52 END. 5RUNTHROUGH 17 out of 24: 18 50 2301.52 END. 5RUNTHROUGH 18 out of 24: 20 50 2525.72 END. 5RUNTHROUGH 19 out of 24: 10 60 1292.6 END. 5RUNTHROUGH 20 out of 24: 12 60 1752.84 END. 5RUNTHROUGH 21 out of 24: 14 60 2307.2 END. 5RUNTHROUGH 22 out of 24: 16 60 2597.84 END. 5RUNTHROUGH 23 out of 24: 18 60 3063.88 END. 5RUNTHROUGH 24 out of 24: 20 60 3602.44 END. "
     ]
    },
    {
     "data": {
      "text/plain": [
       "\"Durations.csv\""
      ]
     },
     "execution_count": 47,
     "metadata": {},
     "output_type": "execute_result"
    }
   ],
   "source": [
    "ConditionOfInterest = [0;1]\n",
    "StandardValues = [5;8]\n",
    "Range_reps = [30,40,50,60]\n",
    "Range_PSE_Difference = 0.1\n",
    "Range_JND_Difference = 0.2\n",
    "Multiplicator_PSE_Standard = 0\n",
    "Multiplicator_SD_Standard = 0.108\n",
    "SD_ResponseFunction = 0.1\n",
    "Mean_Variability_Between = 0.1\n",
    "SD_Variability_Between = 0.1\n",
    "nIterations = 25\n",
    "Range_Participants = [10,12,14,16,18,20]\n",
    "\n",
    "TotalNumber = length(Range_reps)*length(Range_PSE_Difference)*length(Range_JND_Difference)*length(Range_Participants)\n",
    "CurrentRunthrough = 0\n",
    "rightnow = Dates.now()\n",
    "\n",
    "for reps in Range_reps\n",
    "    for PSE_Difference in Range_PSE_Difference\n",
    "        for JND_Difference in Range_JND_Difference\n",
    "            for n in Range_Participants\n",
    "                \n",
    "                Pvalues_Accuracy = []\n",
    "                Pvalues_Precision = []\n",
    "                DurationsGLMM = []\n",
    "                DurationsDataframe = []\n",
    "\n",
    "                for j in 1:nIterations\n",
    "                Pvalues = SimulateDataframe(n, \n",
    "                                      ConditionOfInterest, \n",
    "                                      StandardValues, \n",
    "                                      reps, \n",
    "                                      PSE_Difference, \n",
    "                                      JND_Difference, \n",
    "                                      Multiplicator_PSE_Standard, \n",
    "                                      Multiplicator_SD_Standard, \n",
    "                                      SD_ResponseFunction, \n",
    "                                      Mean_Variability_Between, \n",
    "                                      SD_Variability_Between)\n",
    "                    Pvalues_Accuracy = [Pvalues_Accuracy;Pvalues[1]]\n",
    "                    Pvalues_Precision = [Pvalues_Precision;Pvalues[2]]\n",
    "                    DurationsGLMM = [DurationsGLMM;Dates.value(Pvalues[3])]\n",
    "                    DurationsDataframe = [DurationsDataframe;Dates.value(Pvalues[4])]\n",
    "                end\n",
    "                \n",
    "                CurrentRunthrough = CurrentRunthrough + 1\n",
    "\n",
    "                if CurrentRunthrough == 1\n",
    "\n",
    "                   global PowerfulDataframe = DataFrame(n=n, \n",
    "                        ConditionsOfInterest=length(ConditionOfInterest), \n",
    "                        StandardValue1=StandardValues[1],\n",
    "                        StandardValue2=StandardValues[2], reps=reps, \n",
    "                        PSE_Difference=PSE_Difference, \n",
    "                        JND_Difference=JND_Difference, \n",
    "                        Multiplicator_PSE_Standard=Multiplicator_PSE_Standard, \n",
    "                        Multiplicator_SD_Standard=Multiplicator_SD_Standard, \n",
    "                        SD_ResponseFunction=SD_ResponseFunction, \n",
    "                        Mean_Variability_Between=Mean_Variability_Between, \n",
    "                        SD_Variability_Between=SD_Variability_Between, \n",
    "                        power_Accuracy = mean(Pvalues_Accuracy .< 0.05),  \n",
    "                        power_Precision = mean(Pvalues_Precision .< 0.05),\n",
    "                        Mean_DurationGLMM = mean(DurationsGLMM),\n",
    "                        SD_DurationGLMM = std(DurationsGLMM),\n",
    "                        Mean_DurationDataframe = mean(DurationsDataframe),\n",
    "                        SD_DurationDataframe = std(DurationsDataframe),\n",
    "                        nIterations = nIterations)\n",
    "\n",
    "                else\n",
    "                    row = DataFrame(n=n, \n",
    "                        ConditionsOfInterest=length(ConditionOfInterest), \n",
    "                        StandardValue1=StandardValues[1],StandardValue2=StandardValues[2], \n",
    "                        reps=reps, \n",
    "                        PSE_Difference=PSE_Difference, \n",
    "                        JND_Difference=JND_Difference, \n",
    "                        Multiplicator_PSE_Standard=Multiplicator_PSE_Standard, \n",
    "                        Multiplicator_SD_Standard=Multiplicator_SD_Standard, \n",
    "                        SD_ResponseFunction=SD_ResponseFunction, \n",
    "                        Mean_Variability_Between=Mean_Variability_Between, \n",
    "                        SD_Variability_Between=SD_Variability_Between, \n",
    "                        power_Accuracy = mean(Pvalues_Accuracy .< 0.05),  \n",
    "                        power_Precision = mean(Pvalues_Precision .< 0.05),\n",
    "                        Mean_DurationGLMM = mean(DurationsGLMM),\n",
    "                        SD_DurationGLMM = std(DurationsGLMM),\n",
    "                        Mean_DurationDataframe = mean(DurationsDataframe),\n",
    "                        SD_DurationDataframe = std(DurationsDataframe),\n",
    "                        nIterations = nIterations)\n",
    "                    \n",
    "                    PowerfulDataframe = append!(PowerfulDataframe,row)\n",
    "                end\n",
    "\n",
    "                print(\"RUNTHROUGH \", CurrentRunthrough, \" out of \", TotalNumber,\": \", n, \" \", reps, \" \", \n",
    "                    PowerfulDataframe[!,:Mean_DurationGLMM][CurrentRunthrough], \" END. \")\n",
    "\n",
    "            end\n",
    "        end\n",
    "    end\n",
    "end\n"
   ]
  },
  {
   "cell_type": "code",
   "execution_count": 7,
   "metadata": {},
   "outputs": [
    {
     "data": {
      "text/plain": [
       "Generalized Linear Mixed Model fit by maximum likelihood (nAGQ = 1)\n",
       "  Answer ~ 1 + Difference + ConditionOfInterest + Difference & ConditionOfInterest + (1 + Difference + ConditionOfInterest | ID) + (1 + Difference + ConditionOfInterest | StandardValues)\n",
       "  Distribution: Bernoulli{Float64}\n",
       "  Link: LogitLink()\n",
       "\n",
       "  Deviance: 7590.1348\n",
       "\n",
       "Variance components:\n",
       "                      Column          Variance     Std.Dev.    Corr.\n",
       "ID             (Intercept)          2.17876557471 1.476064218\n",
       "               Difference           0.06137904602 0.247747949 -0.14\n",
       "               ConditionOfInterest  0.02749597991 0.165819118 -0.72 -0.46\n",
       "StandardValues (Intercept)          0.00016868818 0.012988001\n",
       "               Difference           0.28217597115 0.531202382 +1.00\n",
       "               ConditionOfInterest  0.00016319099 0.012774623 -1.00 -1.00\n",
       "\n",
       " Number of obs: 8796; levels of grouping factors: 20, 2\n",
       "\n",
       "Fixed-effects parameters:\n",
       "───────────────────────────────────────────────────────────────────────\n",
       "                                  Estimate  Std.Error  z value  P(>|z|)\n",
       "───────────────────────────────────────────────────────────────────────\n",
       "(Intercept)                        0.12814  0.333327      0.38   0.7007\n",
       "Difference                         2.67759  0.38715       6.92   <1e-11\n",
       "ConditionOfInterest               -1.36223  0.0768469   -17.73   <1e-69\n",
       "Difference & ConditionOfInterest  -0.43883  0.0754201    -5.82   <1e-8\n",
       "───────────────────────────────────────────────────────────────────────"
      ]
     },
     "execution_count": 7,
     "metadata": {},
     "output_type": "execute_result"
    }
   ],
   "source": [
    "GLMM2"
   ]
  },
  {
   "cell_type": "code",
   "execution_count": 4,
   "metadata": {},
   "outputs": [
    {
     "data": {
      "text/plain": [
       "20"
      ]
     },
     "execution_count": 4,
     "metadata": {},
     "output_type": "execute_result"
    }
   ],
   "source": [
    "ConditionOfInterest = [0;1]\n",
    "StandardValues = [5;8]\n",
    "reps = 120\n",
    "PSE_Difference = 0.1\n",
    "JND_Difference = 0.2\n",
    "Multiplicator_PSE_Standard = 0\n",
    "Multiplicator_SD_Standard = 0.108\n",
    "SD_ResponseFunction = 0.1\n",
    "Mean_Variability_Between = 0.1\n",
    "SD_Variability_Between = 0.1\n",
    "nIterations = 25\n",
    "n = 20"
   ]
  },
  {
   "cell_type": "code",
   "execution_count": 5,
   "metadata": {},
   "outputs": [
    {
     "data": {
      "text/html": [
       "<table class=\"data-frame\"><thead><tr><th></th><th>ID</th><th>ConditionOfInterest</th><th>StandardValues</th><th>reps</th><th>PSE_Factor_ID</th><th>SD_Factor_ID</th></tr><tr><th></th><th>Categorical…</th><th>Int64</th><th>String</th><th>Int64</th><th>Float64</th><th>Float64</th></tr></thead><tbody><p>8,800 rows × 17 columns (omitted printing of 11 columns)</p><tr><th>1</th><td>s1</td><td>0</td><td>5</td><td>1</td><td>1.0166</td><td>0.941017</td></tr><tr><th>2</th><td>s2</td><td>0</td><td>5</td><td>1</td><td>0.937437</td><td>1.11843</td></tr><tr><th>3</th><td>s3</td><td>0</td><td>5</td><td>1</td><td>0.97901</td><td>1.09286</td></tr><tr><th>4</th><td>s4</td><td>0</td><td>5</td><td>1</td><td>0.86776</td><td>1.13173</td></tr><tr><th>5</th><td>s5</td><td>0</td><td>5</td><td>1</td><td>1.21277</td><td>1.09185</td></tr><tr><th>6</th><td>s6</td><td>0</td><td>5</td><td>1</td><td>0.927834</td><td>1.06147</td></tr><tr><th>7</th><td>s8</td><td>0</td><td>5</td><td>1</td><td>1.13755</td><td>0.900144</td></tr><tr><th>8</th><td>s9</td><td>0</td><td>5</td><td>1</td><td>1.17789</td><td>1.01864</td></tr><tr><th>9</th><td>s10</td><td>0</td><td>5</td><td>1</td><td>0.913968</td><td>1.02501</td></tr><tr><th>10</th><td>s11</td><td>0</td><td>5</td><td>1</td><td>0.957654</td><td>1.02305</td></tr><tr><th>11</th><td>s12</td><td>0</td><td>5</td><td>1</td><td>1.02395</td><td>0.960445</td></tr><tr><th>12</th><td>s13</td><td>0</td><td>5</td><td>1</td><td>0.992399</td><td>0.985874</td></tr><tr><th>13</th><td>s14</td><td>0</td><td>5</td><td>1</td><td>0.969761</td><td>0.98224</td></tr><tr><th>14</th><td>s15</td><td>0</td><td>5</td><td>1</td><td>1.05956</td><td>1.02066</td></tr><tr><th>15</th><td>s16</td><td>0</td><td>5</td><td>1</td><td>1.13491</td><td>0.924088</td></tr><tr><th>16</th><td>s17</td><td>0</td><td>5</td><td>1</td><td>0.851624</td><td>1.03584</td></tr><tr><th>17</th><td>s18</td><td>0</td><td>5</td><td>1</td><td>1.12856</td><td>0.912282</td></tr><tr><th>18</th><td>s19</td><td>0</td><td>5</td><td>1</td><td>1.08437</td><td>1.08682</td></tr><tr><th>19</th><td>s20</td><td>0</td><td>5</td><td>1</td><td>0.87025</td><td>0.880607</td></tr><tr><th>20</th><td>s1</td><td>1</td><td>5</td><td>1</td><td>1.0166</td><td>0.941017</td></tr><tr><th>21</th><td>s2</td><td>1</td><td>5</td><td>1</td><td>0.937437</td><td>1.11843</td></tr><tr><th>22</th><td>s3</td><td>1</td><td>5</td><td>1</td><td>0.97901</td><td>1.09286</td></tr><tr><th>23</th><td>s4</td><td>1</td><td>5</td><td>1</td><td>0.86776</td><td>1.13173</td></tr><tr><th>24</th><td>s5</td><td>1</td><td>5</td><td>1</td><td>1.21277</td><td>1.09185</td></tr><tr><th>25</th><td>s6</td><td>1</td><td>5</td><td>1</td><td>0.927834</td><td>1.06147</td></tr><tr><th>26</th><td>s7</td><td>1</td><td>5</td><td>1</td><td>0.923391</td><td>0.869631</td></tr><tr><th>27</th><td>s8</td><td>1</td><td>5</td><td>1</td><td>1.13755</td><td>0.900144</td></tr><tr><th>28</th><td>s9</td><td>1</td><td>5</td><td>1</td><td>1.17789</td><td>1.01864</td></tr><tr><th>29</th><td>s10</td><td>1</td><td>5</td><td>1</td><td>0.913968</td><td>1.02501</td></tr><tr><th>30</th><td>s11</td><td>1</td><td>5</td><td>1</td><td>0.957654</td><td>1.02305</td></tr><tr><th>&vellip;</th><td>&vellip;</td><td>&vellip;</td><td>&vellip;</td><td>&vellip;</td><td>&vellip;</td><td>&vellip;</td></tr></tbody></table>"
      ],
      "text/latex": [
       "\\begin{tabular}{r|ccccccc}\n",
       "\t& ID & ConditionOfInterest & StandardValues & reps & PSE\\_Factor\\_ID & SD\\_Factor\\_ID & \\\\\n",
       "\t\\hline\n",
       "\t& Categorical… & Int64 & String & Int64 & Float64 & Float64 & \\\\\n",
       "\t\\hline\n",
       "\t1 & s1 & 0 & 5 & 1 & 1.0166 & 0.941017 & $\\dots$ \\\\\n",
       "\t2 & s2 & 0 & 5 & 1 & 0.937437 & 1.11843 & $\\dots$ \\\\\n",
       "\t3 & s3 & 0 & 5 & 1 & 0.97901 & 1.09286 & $\\dots$ \\\\\n",
       "\t4 & s4 & 0 & 5 & 1 & 0.86776 & 1.13173 & $\\dots$ \\\\\n",
       "\t5 & s5 & 0 & 5 & 1 & 1.21277 & 1.09185 & $\\dots$ \\\\\n",
       "\t6 & s6 & 0 & 5 & 1 & 0.927834 & 1.06147 & $\\dots$ \\\\\n",
       "\t7 & s8 & 0 & 5 & 1 & 1.13755 & 0.900144 & $\\dots$ \\\\\n",
       "\t8 & s9 & 0 & 5 & 1 & 1.17789 & 1.01864 & $\\dots$ \\\\\n",
       "\t9 & s10 & 0 & 5 & 1 & 0.913968 & 1.02501 & $\\dots$ \\\\\n",
       "\t10 & s11 & 0 & 5 & 1 & 0.957654 & 1.02305 & $\\dots$ \\\\\n",
       "\t11 & s12 & 0 & 5 & 1 & 1.02395 & 0.960445 & $\\dots$ \\\\\n",
       "\t12 & s13 & 0 & 5 & 1 & 0.992399 & 0.985874 & $\\dots$ \\\\\n",
       "\t13 & s14 & 0 & 5 & 1 & 0.969761 & 0.98224 & $\\dots$ \\\\\n",
       "\t14 & s15 & 0 & 5 & 1 & 1.05956 & 1.02066 & $\\dots$ \\\\\n",
       "\t15 & s16 & 0 & 5 & 1 & 1.13491 & 0.924088 & $\\dots$ \\\\\n",
       "\t16 & s17 & 0 & 5 & 1 & 0.851624 & 1.03584 & $\\dots$ \\\\\n",
       "\t17 & s18 & 0 & 5 & 1 & 1.12856 & 0.912282 & $\\dots$ \\\\\n",
       "\t18 & s19 & 0 & 5 & 1 & 1.08437 & 1.08682 & $\\dots$ \\\\\n",
       "\t19 & s20 & 0 & 5 & 1 & 0.87025 & 0.880607 & $\\dots$ \\\\\n",
       "\t20 & s1 & 1 & 5 & 1 & 1.0166 & 0.941017 & $\\dots$ \\\\\n",
       "\t21 & s2 & 1 & 5 & 1 & 0.937437 & 1.11843 & $\\dots$ \\\\\n",
       "\t22 & s3 & 1 & 5 & 1 & 0.97901 & 1.09286 & $\\dots$ \\\\\n",
       "\t23 & s4 & 1 & 5 & 1 & 0.86776 & 1.13173 & $\\dots$ \\\\\n",
       "\t24 & s5 & 1 & 5 & 1 & 1.21277 & 1.09185 & $\\dots$ \\\\\n",
       "\t25 & s6 & 1 & 5 & 1 & 0.927834 & 1.06147 & $\\dots$ \\\\\n",
       "\t26 & s7 & 1 & 5 & 1 & 0.923391 & 0.869631 & $\\dots$ \\\\\n",
       "\t27 & s8 & 1 & 5 & 1 & 1.13755 & 0.900144 & $\\dots$ \\\\\n",
       "\t28 & s9 & 1 & 5 & 1 & 1.17789 & 1.01864 & $\\dots$ \\\\\n",
       "\t29 & s10 & 1 & 5 & 1 & 0.913968 & 1.02501 & $\\dots$ \\\\\n",
       "\t30 & s11 & 1 & 5 & 1 & 0.957654 & 1.02305 & $\\dots$ \\\\\n",
       "\t$\\dots$ & $\\dots$ & $\\dots$ & $\\dots$ & $\\dots$ & $\\dots$ & $\\dots$ &  \\\\\n",
       "\\end{tabular}\n"
      ],
      "text/plain": [
       "8800×17 DataFrame. Omitted printing of 13 columns\n",
       "│ Row  │ ID           │ ConditionOfInterest │ StandardValues │ reps  │\n",
       "│      │ \u001b[90mCategorical…\u001b[39m │ \u001b[90mInt64\u001b[39m               │ \u001b[90mString\u001b[39m         │ \u001b[90mInt64\u001b[39m │\n",
       "├──────┼──────────────┼─────────────────────┼────────────────┼───────┤\n",
       "│ 1    │ s1           │ 0                   │ 5              │ 1     │\n",
       "│ 2    │ s2           │ 0                   │ 5              │ 1     │\n",
       "│ 3    │ s3           │ 0                   │ 5              │ 1     │\n",
       "│ 4    │ s4           │ 0                   │ 5              │ 1     │\n",
       "│ 5    │ s5           │ 0                   │ 5              │ 1     │\n",
       "│ 6    │ s6           │ 0                   │ 5              │ 1     │\n",
       "│ 7    │ s8           │ 0                   │ 5              │ 1     │\n",
       "│ 8    │ s9           │ 0                   │ 5              │ 1     │\n",
       "│ 9    │ s10          │ 0                   │ 5              │ 1     │\n",
       "│ 10   │ s11          │ 0                   │ 5              │ 1     │\n",
       "⋮\n",
       "│ 8790 │ s10          │ 1                   │ 8              │ 120   │\n",
       "│ 8791 │ s11          │ 1                   │ 8              │ 120   │\n",
       "│ 8792 │ s12          │ 1                   │ 8              │ 120   │\n",
       "│ 8793 │ s13          │ 1                   │ 8              │ 120   │\n",
       "│ 8794 │ s14          │ 1                   │ 8              │ 120   │\n",
       "│ 8795 │ s15          │ 1                   │ 8              │ 120   │\n",
       "│ 8796 │ s16          │ 1                   │ 8              │ 120   │\n",
       "│ 8797 │ s17          │ 1                   │ 8              │ 120   │\n",
       "│ 8798 │ s18          │ 1                   │ 8              │ 120   │\n",
       "│ 8799 │ s19          │ 1                   │ 8              │ 120   │\n",
       "│ 8800 │ s20          │ 1                   │ 8              │ 120   │"
      ]
     },
     "execution_count": 5,
     "metadata": {},
     "output_type": "execute_result"
    }
   ],
   "source": [
    "@rput n ConditionOfInterest StandardValues reps PSE_Difference JND_Difference Multiplicator_PSE_Standard Multiplicator_SD_Standard SD_ResponseFunction Mean_Variability_Between SD_Variability_Between\n",
    "\n",
    "    R\"\"\"\n",
    "    ID = paste0(\"s\",1:n)\n",
    "        Psychometric = SimulatePsychometricFunction_Staircase(ID,\n",
    "            ConditionOfInterest,\n",
    "            StandardValues,\n",
    "            1:reps,\n",
    "            PSE_Difference,\n",
    "            JND_Difference,\n",
    "            Multiplicator_PSE_Standard,\n",
    "            Multiplicator_SD_Standard,\n",
    "            SD_ResponseFunction,\n",
    "            Mean_Variability_Between,\n",
    "            SD_Variability_Between)\n",
    "\n",
    "    Psychometric$StandardValues = as.character(Psychometric$StandardValues)\n",
    "    \n",
    "    \"\"\"\n",
    "    @rget Psychometric"
   ]
  },
  {
   "cell_type": "code",
   "execution_count": 9,
   "metadata": {},
   "outputs": [
    {
     "data": {
      "text/plain": [
       "Generalized Linear Mixed Model fit by maximum likelihood (nAGQ = 1)\n",
       "  Answer ~ 1 + Difference + ConditionOfInterest + (1 + Difference + ConditionOfInterest | ID) + (1 + Difference + ConditionOfInterest | StandardValues)\n",
       "  Distribution: Bernoulli{Float64}\n",
       "  Link: LogitLink()\n",
       "\n",
       "  Deviance: 7698.2816\n",
       "\n",
       "Variance components:\n",
       "                      Column          Variance      Std.Dev.    Corr.\n",
       "ID             (Intercept)          2.046782803524 1.430658171\n",
       "               Difference           0.002552054533 0.050517864 +0.44\n",
       "               ConditionOfInterest  0.029498141589 0.171750230 +0.86 +0.84\n",
       "StandardValues (Intercept)          0.000413693067 0.020339446\n",
       "               Difference           0.227042345602 0.476489607 +1.00\n",
       "               ConditionOfInterest  0.000069928815 0.008362345 -1.00 -1.00\n",
       "\n",
       " Number of obs: 8800; levels of grouping factors: 20, 2\n",
       "\n",
       "Fixed-effects parameters:\n",
       "───────────────────────────────────────────────────────────\n",
       "                      Estimate  Std.Error  z value  P(>|z|)\n",
       "───────────────────────────────────────────────────────────\n",
       "(Intercept)          -0.100513   0.322695    -0.31   0.7554\n",
       "Difference            2.29586    0.341648     6.72   <1e-10\n",
       "ConditionOfInterest  -1.46898    0.076899   -19.10   <1e-80\n",
       "───────────────────────────────────────────────────────────"
      ]
     },
     "execution_count": 9,
     "metadata": {},
     "output_type": "execute_result"
    }
   ],
   "source": [
    "formulaTest = @formula(Answer ~ Difference*ConditionOfInterest + \n",
    "    (Difference + ConditionOfInterest | ID) + \n",
    "    (Difference + ConditionOfInterest | StandardValues)); \n",
    "GLMMTest = fit!(GeneralizedLinearMixedModel(formulaTest, Psychometric, Bernoulli()),fast=true)\n",
    "\n",
    "formulaNull = @formula(Answer ~ Difference + ConditionOfInterest + \n",
    "    (Difference + ConditionOfInterest | ID) + \n",
    "    (Difference + ConditionOfInterest | StandardValues)); \n",
    "GLMMNull = fit!(GeneralizedLinearMixedModel(formulaNull, Psychometric, Bernoulli()),fast=true)"
   ]
  },
  {
   "cell_type": "code",
   "execution_count": 49,
   "metadata": {},
   "outputs": [
    {
     "data": {
      "text/plain": [
       "Model Formulae\n",
       "1: Answer ~ 1 + Difference + ConditionOfInterest + (1 + Difference + ConditionOfInterest | ID) + (1 + Difference + ConditionOfInterest | StandardValues)\n",
       "2: Answer ~ 1 + Difference + ConditionOfInterest + Difference & ConditionOfInterest + (1 + Difference + ConditionOfInterest | ID) + (1 + Difference + ConditionOfInterest | StandardValues)\n",
       "──────────────────────────────────────────────────\n",
       "     model-dof   deviance       χ²  χ²-dof  P(>χ²)\n",
       "──────────────────────────────────────────────────\n",
       "[1]         15  7698.2816                         \n",
       "[2]         16  7678.5958  19.6858       1   <1e-5\n",
       "──────────────────────────────────────────────────"
      ]
     },
     "execution_count": 49,
     "metadata": {},
     "output_type": "execute_result"
    }
   ],
   "source": [
    "Hu = MixedModels.likelihoodratiotest(GLMMTest,GLMMNull)"
   ]
  },
  {
   "cell_type": "code",
   "execution_count": 46,
   "metadata": {},
   "outputs": [
    {
     "data": {
      "text/plain": [
       "(:deviance, :formulas, :models, :pvalues, :tests)"
      ]
     },
     "execution_count": 46,
     "metadata": {},
     "output_type": "execute_result"
    }
   ],
   "source": [
    "propertynames(Hu)"
   ]
  },
  {
   "cell_type": "code",
   "execution_count": 52,
   "metadata": {},
   "outputs": [
    {
     "ename": "MethodError",
     "evalue": "MethodError: no method matching getindex(::StatsBase.CoefTable, ::Int64)",
     "output_type": "error",
     "traceback": [
      "MethodError: no method matching getindex(::StatsBase.CoefTable, ::Int64)",
      "",
      "Stacktrace:",
      " [1] top-level scope at In[52]:1"
     ]
    }
   ],
   "source": [
    "coeftable(GLMMTest)[1][1]"
   ]
  },
  {
   "cell_type": "code",
   "execution_count": 70,
   "metadata": {},
   "outputs": [
    {
     "data": {
      "text/plain": [
       "9.127762483927592e-6"
      ]
     },
     "execution_count": 70,
     "metadata": {},
     "output_type": "execute_result"
    }
   ],
   "source": [
    "float(Hu.pvalues[1])\n"
   ]
  },
  {
   "cell_type": "code",
   "execution_count": 60,
   "metadata": {},
   "outputs": [
    {
     "data": {
      "text/plain": [
       "─────────────────────────────────────────────────────────────────────────\n",
       "                                    Estimate  Std.Error  z value  P(>|z|)\n",
       "─────────────────────────────────────────────────────────────────────────\n",
       "(Intercept)                       -0.0850084  0.359732     -0.24   0.8132\n",
       "Difference                         2.56008    0.3418        7.49   <1e-13\n",
       "ConditionOfInterest               -1.31981    0.0840234   -15.71   <1e-54\n",
       "Difference & ConditionOfInterest  -0.454971   0.068253     -6.67   <1e-10\n",
       "─────────────────────────────────────────────────────────────────────────"
      ]
     },
     "execution_count": 60,
     "metadata": {},
     "output_type": "execute_result"
    }
   ],
   "source": [
    "(coeftable(GLMM))"
   ]
  }
 ],
 "metadata": {
  "kernelspec": {
   "display_name": "Julia 1.4.0",
   "language": "julia",
   "name": "julia-1.4"
  },
  "language_info": {
   "file_extension": ".jl",
   "mimetype": "application/julia",
   "name": "julia",
   "version": "1.4.0"
  }
 },
 "nbformat": 4,
 "nbformat_minor": 4
}
