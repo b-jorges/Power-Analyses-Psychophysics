{
 "cells": [
  {
   "cell_type": "code",
   "execution_count": 1,
   "metadata": {},
   "outputs": [
    {
     "name": "stderr",
     "output_type": "stream",
     "text": [
      "\u001b[32m\u001b[1m Activating\u001b[22m\u001b[39m environment at `C:\\Users\\bjoer\\.julia\\environments\\v1.4\\Project.toml`\n"
     ]
    },
    {
     "name": "stdout",
     "output_type": "stream",
     "text": [
      "\n",
      "R version 3.6.1 (2019-07-05) -- \"Action of the Toes\"\n",
      "Copyright (C) 2019 The R Foundation for Statistical Computing\n",
      "Platform: x86_64-w64-mingw32/x64 (64-bit)\n",
      "\n",
      "R is free software and comes with ABSOLUTELY NO WARRANTY.\n",
      "You are welcome to redistribute it under certain conditions.\n",
      "Type 'license()' or 'licence()' for distribution details.\n",
      "\n",
      "R is a collaborative project with many contributors.\n",
      "Type 'contributors()' for more information and\n",
      "'citation()' on how to cite R or R packages in publications.\n",
      "\n",
      "Type 'demo()' for some demos, 'help()' for on-line help, or\n",
      "'help.start()' for an HTML browser interface to help.\n",
      "Type 'q()' to quit R.\n",
      "\n"
     ]
    },
    {
     "name": "stderr",
     "output_type": "stream",
     "text": [
      "┌ Warning: RCall.jl: [Previously saved workspace restored]\n",
      "│ \n",
      "└ @ RCall C:\\Users\\bjoer\\.julia\\packages\\RCall\\g7dhB\\src\\io.jl:113\n"
     ]
    }
   ],
   "source": [
    "cd(@__DIR__) #makes the directory where this script is located the new working directory\n",
    "using Pkg\n",
    "Pkg.activate()\n",
    "Pkg.instantiate()\n",
    "using MixedModels\n",
    "using RCall\n",
    "using DataFrames\n",
    "using CSV\n",
    "using RData\n",
    "using Statistics\n",
    "using Dates"
   ]
  },
  {
   "cell_type": "code",
   "execution_count": 2,
   "metadata": {},
   "outputs": [
    {
     "name": "stderr",
     "output_type": "stream",
     "text": [
      "┌ Warning: RCall.jl: Warning: package 'dplyr' was built under R version 3.6.3\n",
      "│ \n",
      "│ Attaching package: 'dplyr'\n",
      "│ \n",
      "│ The following objects are masked from 'package:stats':\n",
      "│ \n",
      "│     filter, lag\n",
      "│ \n",
      "│ The following objects are masked from 'package:base':\n",
      "│ \n",
      "│     intersect, setdiff, setequal, union\n",
      "│ \n",
      "└ @ RCall C:\\Users\\bjoer\\.julia\\packages\\RCall\\g7dhB\\src\\io.jl:113\n",
      "┌ Warning: RCall.jl: Warning: package 'tidyverse' was built under R version 3.6.3\n",
      "│ -- Attaching packages --------------------------------------- tidyverse 1.3.0 --\n",
      "│ v ggplot2 3.3.0     v purrr   0.3.3\n",
      "│ v tibble  3.0.0     v stringr 1.4.0\n",
      "│ v tidyr   1.0.2     v forcats 0.5.0\n",
      "│ v readr   1.3.1     \n",
      "│ Warning: package 'ggplot2' was built under R version 3.6.3\n",
      "│ Warning: package 'tibble' was built under R version 3.6.3\n",
      "│ Warning: package 'tidyr' was built under R version 3.6.3\n",
      "│ Warning: package 'forcats' was built under R version 3.6.3\n",
      "│ -- Conflicts ------------------------------------------ tidyverse_conflicts() --\n",
      "│ x dplyr::filter() masks stats::filter()\n",
      "│ x dplyr::lag()    masks stats::lag()\n",
      "└ @ RCall C:\\Users\\bjoer\\.julia\\packages\\RCall\\g7dhB\\src\\io.jl:113\n",
      "┌ Warning: RCall.jl: Loading required package: lme4\n",
      "│ Loading required package: Matrix\n",
      "│ \n",
      "│ Attaching package: 'Matrix'\n",
      "│ \n",
      "│ The following objects are masked from 'package:tidyr':\n",
      "│ \n",
      "│     expand, pack, unpack\n",
      "│ \n",
      "└ @ RCall C:\\Users\\bjoer\\.julia\\packages\\RCall\\g7dhB\\src\\io.jl:113\n",
      "┌ Warning: RCall.jl: Loading required package: lmerTest\n",
      "│ Warning: package 'lmerTest' was built under R version 3.6.3\n",
      "│ \n",
      "│ Attaching package: 'lmerTest'\n",
      "│ \n",
      "│ The following object is masked from 'package:lme4':\n",
      "│ \n",
      "│     lmer\n",
      "│ \n",
      "│ The following object is masked from 'package:stats':\n",
      "│ \n",
      "│     step\n",
      "│ \n",
      "└ @ RCall C:\\Users\\bjoer\\.julia\\packages\\RCall\\g7dhB\\src\\io.jl:113\n",
      "┌ Warning: RCall.jl: Loading required package: quickpsy\n",
      "│ Warning: package 'quickpsy' was built under R version 3.6.3\n",
      "│ Loading required package: DEoptim\n",
      "│ Warning: package 'DEoptim' was built under R version 3.6.3\n",
      "│ Loading required package: parallel\n",
      "│ \n",
      "│ DEoptim package\n",
      "│ Differential Evolution algorithm in R\n",
      "│ Authors: D. Ardia, K. Mullen, B. Peterson and J. Ulrich\n",
      "│ \n",
      "│ \n",
      "│ Attaching package: 'quickpsy'\n",
      "│ \n",
      "│ The following object is masked from 'package:stats':\n",
      "│ \n",
      "│     deviance\n",
      "│ \n",
      "└ @ RCall C:\\Users\\bjoer\\.julia\\packages\\RCall\\g7dhB\\src\\io.jl:113\n"
     ]
    }
   ],
   "source": [
    "R\"\"\"\n",
    "require(dplyr, quietly = TRUE)   # for data wrangling\n",
    "require(tidyverse, quietly = TRUE)   # for data wrangling\n",
    "require(lme4)\n",
    "require(lmerTest)\n",
    "require(quickpsy)\n",
    "\n",
    "SimulatePsychometricFunction_Staircase = function(ID, \n",
    "                                                  ConditionOfInterest, \n",
    "                                                  StandardValues, \n",
    "                                                  reps, \n",
    "                                                  PSE_Difference, \n",
    "                                                  JND_Difference, \n",
    "                                                  Multiplicator_PSE_Standard, \n",
    "                                                  Multiplicator_SD_Standard, \n",
    "                                                  SD_ResponseFunction, \n",
    "                                                  Mean_Variability_Between = 0.1, \n",
    "                                                  SD_Variability_Between = 0.1){\n",
    "  Psychometric = expand.grid(ID=ID, ConditionOfInterest=ConditionOfInterest, StandardValues=StandardValues, reps = reps)\n",
    "  \n",
    "  Psychometric = Psychometric %>%\n",
    "    group_by(ID) %>%#\n",
    "    mutate(PSE_Factor_ID = rnorm(1,1,Mean_Variability_Between),\n",
    "           SD_Factor_ID = rnorm(1,1,SD_Variability_Between))\n",
    "  \n",
    "  Psychometric = Psychometric %>%\n",
    "    mutate(\n",
    "      Mean_Standard = StandardValues+StandardValues*Multiplicator_PSE_Standard,\n",
    "      SD_Standard = StandardValues*Multiplicator_SD_Standard,\n",
    "      Mean = (Mean_Standard + (ConditionOfInterest==ConditionOfInterest[2])*StandardValues*PSE_Difference)*PSE_Factor_ID,\n",
    "      SD = abs((SD_Standard + (ConditionOfInterest==ConditionOfInterest[2])*SD_Standard*JND_Difference)*SD_Factor_ID),\n",
    "      staircase_factor = rcauchy(length(reps),1,SD_ResponseFunction), \n",
    "      Presented_TestStimulusStrength = Mean*staircase_factor,\n",
    "      Difference = Presented_TestStimulusStrength - StandardValues,\n",
    "      AnswerProbability = pnorm(Presented_TestStimulusStrength,Mean,SD),\n",
    "      Answer = as.numeric(rbernoulli(length(AnswerProbability),AnswerProbability))\n",
    "    )\n",
    "  \n",
    "  Psychometric = Psychometric %>%\n",
    "    filter(abs(staircase_factor-1) < 0.75) %>%\n",
    "    group_by(ID,ConditionOfInterest,StandardValues,Difference) %>%\n",
    "    mutate(Yes = sum(Answer==1),\n",
    "           Total = length(ConditionOfInterest))\n",
    "  \n",
    "  Psychometric\n",
    "}\n",
    "\"\"\";"
   ]
  },
  {
   "cell_type": "code",
   "execution_count": 3,
   "metadata": {},
   "outputs": [
    {
     "data": {
      "text/plain": [
       "SimulateDataframe_Twolevel (generic function with 1 method)"
      ]
     },
     "execution_count": 3,
     "metadata": {},
     "output_type": "execute_result"
    }
   ],
   "source": [
    "function SimulateDataframe_Twolevel(n,\n",
    "        ConditionOfInterest,\n",
    "        StandardValues,\n",
    "        reps,\n",
    "        PSE_Difference,\n",
    "        JND_Difference,\n",
    "        Multiplicator_PSE_Standard,\n",
    "        Multiplicator_SD_Standard,\n",
    "        SD_ResponseFunction,\n",
    "        Mean_Variability_Between,\n",
    "        SD_Variability_Between)\n",
    "    \n",
    "    @rput n ConditionOfInterest StandardValues reps PSE_Difference JND_Difference Multiplicator_PSE_Standard Multiplicator_SD_Standard SD_ResponseFunction Mean_Variability_Between SD_Variability_Between\n",
    "\n",
    "    R\"\"\"\n",
    "    ID = paste0(\"s\",1:n)\n",
    "        Psychometric = SimulatePsychometricFunction_Staircase(ID,\n",
    "            ConditionOfInterest,\n",
    "            StandardValues,\n",
    "            1:reps,\n",
    "            PSE_Difference,\n",
    "            JND_Difference,\n",
    "            Multiplicator_PSE_Standard,\n",
    "            Multiplicator_SD_Standard,\n",
    "            SD_ResponseFunction,\n",
    "            Mean_Variability_Between,\n",
    "            SD_Variability_Between)\n",
    "    \n",
    "        Parameters = quickpsy(Psychometric,Difference,Answer,grouping = .(ID,ConditionOfInterest,StandardValues), bootstrap = \"none\")$par\n",
    "        Parameters2 = Parameters %>%\n",
    "        filter(parn == \"p1\") %>%\n",
    "        select(ID,ConditionOfInterest,Mean=par, StandardValues)\n",
    "        Parameters2$SD = Parameters$par[Parameters$parn == \"p2\"]\n",
    "        FittedPsychometricFunctions = Parameters2\n",
    "    \n",
    "        FittedPsychometricFunctions$StandardValues = as.character(FittedPsychometricFunctions$StandardValues)\n",
    "        Psychometric$StandardValues = as.character(Psychometric$StandardValues)\n",
    "    \n",
    "    \"\"\"\n",
    "    @rget Psychometric FittedPsychometricFunctions\n",
    "    \n",
    "    Psychometric[:StandardValuesAsFactor] = \"placeholder\"\n",
    "    \n",
    "    formula1 = @formula(Answer ~ Difference*ConditionOfInterest + (Difference + ConditionOfInterest |ID) + (Difference + ConditionOfInterest|StandardValues));\n",
    "    GLMM = fit!(GeneralizedLinearMixedModel(formula1, Psychometric, Binomial()), fast=true)\n",
    "    \n",
    "    formula2 = @formula(Mean ~ ConditionOfInterest + (1|ID) + (1|StandardValues));\n",
    "    TwoLevelMean = fit(MixedModel,formula2, FittedPsychometricFunctions)\n",
    "    \n",
    "    formula3 = @formula(SD ~ ConditionOfInterest + (1|ID) + (1|StandardValues));\n",
    "    TwoLevelSD = fit(MixedModel,formula3, FittedPsychometricFunctions)\n",
    "\n",
    "    [(coeftable(GLMM)).cols[4][2];(coeftable(GLMM)).cols[4][4];(coeftable(TwoLevelMean)).cols[4][2];(coeftable(TwoLevelSD)).cols[4][2]]\n",
    "    \n",
    "end"
   ]
  },
  {
   "cell_type": "code",
   "execution_count": null,
   "metadata": {},
   "outputs": [],
   "source": [
    "ConditionOfInterest = [0;1]\n",
    "StandardValues = [5;8]\n",
    "Range_reps = [40,60]\n",
    "Range_PSE_Difference = [-0.1,-0.05,0,0.05,0.1]\n",
    "Range_JND_Difference = [-0.2,-0.1,0,0.1,0.2]\n",
    "Multiplicator_PSE_Standard = 0\n",
    "Multiplicator_SD_Standard = 0.108\n",
    "SD_ResponseFunction = 0.1\n",
    "Mean_Variability_Between = 0.1\n",
    "SD_Variability_Between = 0.1\n",
    "nIterations = 100\n",
    "Range_Participants = [10,12,14,16,18,20]\n",
    "\n",
    "TotalNumber = length(Range_reps)*length(Range_PSE_Difference)*length(Range_JND_Difference)*length(Range_Participants)\n",
    "CurrentRunthrough = 0\n",
    "rightnow = Dates.now()\n",
    "\n",
    "for reps in Range_reps\n",
    "    for PSE_Difference in Range_PSE_Difference\n",
    "        for JND_Difference in Range_JND_Difference\n",
    "            for n in Range_Participants\n",
    "                \n",
    "                TimeStartTrial = Dates.now()\n",
    "                \n",
    "                Pvalues_Accuracy = []\n",
    "                Pvalues_Precision = []\n",
    "                Pvalues_Accuracy_TwoLevel = []\n",
    "                Pvalues_Precision_TwoLevel = []\n",
    "                \n",
    "                for j in 1:nIterations\n",
    "                Pvalues = SimulateDataframe_Twolevel(n, \n",
    "                                      ConditionOfInterest, \n",
    "                                      StandardValues, \n",
    "                                      reps, \n",
    "                                      PSE_Difference, \n",
    "                                      JND_Difference, \n",
    "                                      Multiplicator_PSE_Standard, \n",
    "                                      Multiplicator_SD_Standard, \n",
    "                                      SD_ResponseFunction, \n",
    "                                      Mean_Variability_Between, \n",
    "                                      SD_Variability_Between)\n",
    "                    Pvalues_Accuracy = [Pvalues_Accuracy;Pvalues[1]]\n",
    "                    Pvalues_Precision = [Pvalues_Precision;Pvalues[2]]\n",
    "                    Pvalues_Accuracy_TwoLevel = [Pvalues_Accuracy_TwoLevel;Pvalues[3]]\n",
    "                    Pvalues_Precision_TwoLevel = [Pvalues_Precision_TwoLevel;Pvalues[4]]\n",
    "                end\n",
    "                \n",
    "                CurrentRunthrough = CurrentRunthrough + 1\n",
    "\n",
    "                if CurrentRunthrough == 1\n",
    "\n",
    "                   global PowerfulDataframe = DataFrame(n=n, \n",
    "                        ConditionsOfInterest=length(ConditionOfInterest), \n",
    "                        StandardValue1=StandardValues[1],\n",
    "                        StandardValue2=StandardValues[2], reps=reps, \n",
    "                        PSE_Difference=PSE_Difference, \n",
    "                        JND_Difference=JND_Difference, \n",
    "                        Multiplicator_PSE_Standard=Multiplicator_PSE_Standard, \n",
    "                        Multiplicator_SD_Standard=Multiplicator_SD_Standard, \n",
    "                        SD_ResponseFunction=SD_ResponseFunction, \n",
    "                        Mean_Variability_Between=Mean_Variability_Between, \n",
    "                        SD_Variability_Between=SD_Variability_Between, \n",
    "                        power_Accuracy = mean(Pvalues_Accuracy .< 0.05),  \n",
    "                        power_Precision = mean(Pvalues_Precision .< 0.05),\n",
    "                        power_Accuracy_Twolevel = mean(Pvalues_Accuracy_TwoLevel .< 0.05),  \n",
    "                        power_Precision_Twolevel = mean(Pvalues_Precision_TwoLevel .< 0.05),\n",
    "                        Duration = ((Dates.now()) - TimeStartTrial))   \n",
    "\n",
    "                else\n",
    "                    row = DataFrame(n=n, \n",
    "                        ConditionsOfInterest=length(ConditionOfInterest), \n",
    "                        StandardValue1=StandardValues[1],StandardValue2=StandardValues[2], \n",
    "                        reps=reps, \n",
    "                        PSE_Difference=PSE_Difference, \n",
    "                        JND_Difference=JND_Difference, \n",
    "                        Multiplicator_PSE_Standard=Multiplicator_PSE_Standard, \n",
    "                        Multiplicator_SD_Standard=Multiplicator_SD_Standard, \n",
    "                        SD_ResponseFunction=SD_ResponseFunction, \n",
    "                        Mean_Variability_Between=Mean_Variability_Between, \n",
    "                        SD_Variability_Between=SD_Variability_Between, \n",
    "                        power_Accuracy = mean(Pvalues_Accuracy .< 0.05),  \n",
    "                        power_Precision = mean(Pvalues_Precision .< 0.05),\n",
    "                        power_Accuracy_Twolevel = mean(Pvalues_Accuracy_TwoLevel .< 0.05),  \n",
    "                        power_Precision_Twolevel = mean(Pvalues_Precision_TwoLevel .< 0.05),\n",
    "                        Duration=((Dates.now()) - TimeStartTrial))\n",
    "                    \n",
    "                    PowerfulDataframe = append!(PowerfulDataframe,row)\n",
    "                end\n",
    "                \n",
    "                print(\"RUNTHROUGH \", CurrentRunthrough, \" out of \", TotalNumber,\": \", n, \" \", reps, \" \", PSE_Difference, \" \", JND_Difference, \" \", mean(Pvalues_Accuracy .< 0.05), \" \", \n",
    "                    mean(Pvalues_Precision .< 0.05), \" \", PowerfulDataframe[!,:Duration][CurrentRunthrough], \" END. \")\n",
    "\n",
    "            end\n",
    "            CSV.write(join([reps,\"_\", PSE_Difference, \"_\", JND_Difference, \".csv\"]),PowerfulDataframe)\n",
    "        end\n",
    "    end\n",
    "end\n",
    "\n"
   ]
  },
  {
   "cell_type": "code",
   "execution_count": null,
   "metadata": {},
   "outputs": [],
   "source": []
  },
  {
   "cell_type": "code",
   "execution_count": 14,
   "metadata": {},
   "outputs": [
    {
     "data": {
      "text/plain": [
       "SimulateDataframe (generic function with 1 method)"
      ]
     },
     "execution_count": 14,
     "metadata": {},
     "output_type": "execute_result"
    }
   ],
   "source": [
    "function SimulateDataframe(n,\n",
    "        ConditionOfInterest,\n",
    "        StandardValues,\n",
    "        reps,\n",
    "        PSE_Difference,\n",
    "        JND_Difference,\n",
    "        Multiplicator_PSE_Standard,\n",
    "        Multiplicator_SD_Standard,\n",
    "        SD_ResponseFunction,\n",
    "        Mean_Variability_Between,\n",
    "        SD_Variability_Between)\n",
    "    \n",
    "    @rput n ConditionOfInterest StandardValues reps PSE_Difference JND_Difference Multiplicator_PSE_Standard Multiplicator_SD_Standard SD_ResponseFunction Mean_Variability_Between SD_Variability_Between\n",
    "\n",
    "    TimeBeforeDataframeinR = Dates.now()\n",
    "    R\"\"\"\n",
    "    ID = paste0(\"s\",1:n)\n",
    "        Psychometric = SimulatePsychometricFunction_Staircase(ID,\n",
    "            ConditionOfInterest,\n",
    "            StandardValues,\n",
    "            1:reps,\n",
    "            PSE_Difference,\n",
    "            JND_Difference,\n",
    "            Multiplicator_PSE_Standard,\n",
    "            Multiplicator_SD_Standard,\n",
    "            SD_ResponseFunction,\n",
    "            Mean_Variability_Between,\n",
    "            SD_Variability_Between)\n",
    "    \n",
    "        Psychometric$StandardValues = as.character(Psychometric$StandardValues)\n",
    "    \n",
    "    \"\"\"\n",
    "    @rget Psychometric FittedPsychometricFunctions\n",
    "\n",
    "    DurationSimulateDataframe = Dates.now() - TimeBeforeDataframeinR\n",
    "    \n",
    "    TimeStartTrial = Dates.now()\n",
    "    \n",
    "    formula1 = @formula(Answer ~ Difference*ConditionOfInterest + (Difference + ConditionOfInterest |ID) + (Difference + ConditionOfInterest|StandardValues));\n",
    "    GLMM = fit!(GeneralizedLinearMixedModel(formula1, Psychometric, Binomial()), fast=false)\n",
    "    \n",
    "    DurationGLMM = ((Dates.now()) - TimeStartTrial)\n",
    "    [(coeftable(GLMM)).cols[4][2];(coeftable(GLMM)).cols[4][4];DurationGLMM;DurationSimulateDataframe]\n",
    "    \n",
    "end"
   ]
  },
  {
   "cell_type": "code",
   "execution_count": 47,
   "metadata": {},
   "outputs": [
    {
     "name": "stdout",
     "output_type": "stream",
     "text": [
      "5RUNTHROUGH 1 out of 24: 10 30 492.08 END. 5RUNTHROUGH 2 out of 24: 12 30 657.44 END. 5RUNTHROUGH 3 out of 24: 14 30 716.48 END. 5RUNTHROUGH 4 out of 24: 16 30 869.4 END. 5RUNTHROUGH 5 out of 24: 18 30 903.76 END. 5RUNTHROUGH 6 out of 24: 20 30 1113.72 END. 5RUNTHROUGH 7 out of 24: 10 40 725.96 END. 5RUNTHROUGH 8 out of 24: 12 40 826.36 END. 5RUNTHROUGH 9 out of 24: 14 40 1047.92 END. 5RUNTHROUGH 10 out of 24: 16 40 1806.08 END. 5RUNTHROUGH 11 out of 24: 18 40 1933.44 END. 5RUNTHROUGH 12 out of 24: 20 40 2041.36 END. 5RUNTHROUGH 13 out of 24: 10 50 887.52 END. 5RUNTHROUGH 14 out of 24: 12 50 1015.4 END. 5RUNTHROUGH 15 out of 24: 14 50 2000.76 END. 5RUNTHROUGH 16 out of 24: 16 50 2244.52 END. 5RUNTHROUGH 17 out of 24: 18 50 2301.52 END. 5RUNTHROUGH 18 out of 24: 20 50 2525.72 END. 5RUNTHROUGH 19 out of 24: 10 60 1292.6 END. 5RUNTHROUGH 20 out of 24: 12 60 1752.84 END. 5RUNTHROUGH 21 out of 24: 14 60 2307.2 END. 5RUNTHROUGH 22 out of 24: 16 60 2597.84 END. 5RUNTHROUGH 23 out of 24: 18 60 3063.88 END. 5RUNTHROUGH 24 out of 24: 20 60 3602.44 END. "
     ]
    },
    {
     "data": {
      "text/plain": [
       "\"Durations.csv\""
      ]
     },
     "execution_count": 47,
     "metadata": {},
     "output_type": "execute_result"
    }
   ],
   "source": [
    "ConditionOfInterest = [0;1]\n",
    "StandardValues = [5;8]\n",
    "Range_reps = [30,40,50,60]\n",
    "Range_PSE_Difference = 0.1\n",
    "Range_JND_Difference = 0.2\n",
    "Multiplicator_PSE_Standard = 0\n",
    "Multiplicator_SD_Standard = 0.108\n",
    "SD_ResponseFunction = 0.1\n",
    "Mean_Variability_Between = 0.1\n",
    "SD_Variability_Between = 0.1\n",
    "nIterations = 25\n",
    "Range_Participants = [10,12,14,16,18,20]\n",
    "\n",
    "TotalNumber = length(Range_reps)*length(Range_PSE_Difference)*length(Range_JND_Difference)*length(Range_Participants)\n",
    "CurrentRunthrough = 0\n",
    "rightnow = Dates.now()\n",
    "\n",
    "for reps in Range_reps\n",
    "    for PSE_Difference in Range_PSE_Difference\n",
    "        for JND_Difference in Range_JND_Difference\n",
    "            for n in Range_Participants\n",
    "                \n",
    "                Pvalues_Accuracy = []\n",
    "                Pvalues_Precision = []\n",
    "                DurationsGLMM = []\n",
    "                DurationsDataframe = []\n",
    "\n",
    "                for j in 1:nIterations\n",
    "                Pvalues = SimulateDataframe(n, \n",
    "                                      ConditionOfInterest, \n",
    "                                      StandardValues, \n",
    "                                      reps, \n",
    "                                      PSE_Difference, \n",
    "                                      JND_Difference, \n",
    "                                      Multiplicator_PSE_Standard, \n",
    "                                      Multiplicator_SD_Standard, \n",
    "                                      SD_ResponseFunction, \n",
    "                                      Mean_Variability_Between, \n",
    "                                      SD_Variability_Between)\n",
    "                    Pvalues_Accuracy = [Pvalues_Accuracy;Pvalues[1]]\n",
    "                    Pvalues_Precision = [Pvalues_Precision;Pvalues[2]]\n",
    "                    DurationsGLMM = [DurationsGLMM;Dates.value(Pvalues[3])]\n",
    "                    DurationsDataframe = [DurationsDataframe;Dates.value(Pvalues[4])]\n",
    "                end\n",
    "                \n",
    "                CurrentRunthrough = CurrentRunthrough + 1\n",
    "\n",
    "                if CurrentRunthrough == 1\n",
    "\n",
    "                   global PowerfulDataframe = DataFrame(n=n, \n",
    "                        ConditionsOfInterest=length(ConditionOfInterest), \n",
    "                        StandardValue1=StandardValues[1],\n",
    "                        StandardValue2=StandardValues[2], reps=reps, \n",
    "                        PSE_Difference=PSE_Difference, \n",
    "                        JND_Difference=JND_Difference, \n",
    "                        Multiplicator_PSE_Standard=Multiplicator_PSE_Standard, \n",
    "                        Multiplicator_SD_Standard=Multiplicator_SD_Standard, \n",
    "                        SD_ResponseFunction=SD_ResponseFunction, \n",
    "                        Mean_Variability_Between=Mean_Variability_Between, \n",
    "                        SD_Variability_Between=SD_Variability_Between, \n",
    "                        power_Accuracy = mean(Pvalues_Accuracy .< 0.05),  \n",
    "                        power_Precision = mean(Pvalues_Precision .< 0.05),\n",
    "                        Mean_DurationGLMM = mean(DurationsGLMM),\n",
    "                        SD_DurationGLMM = std(DurationsGLMM),\n",
    "                        Mean_DurationDataframe = mean(DurationsDataframe),\n",
    "                        SD_DurationDataframe = std(DurationsDataframe),\n",
    "                        nIterations = nIterations)\n",
    "\n",
    "                else\n",
    "                    row = DataFrame(n=n, \n",
    "                        ConditionsOfInterest=length(ConditionOfInterest), \n",
    "                        StandardValue1=StandardValues[1],StandardValue2=StandardValues[2], \n",
    "                        reps=reps, \n",
    "                        PSE_Difference=PSE_Difference, \n",
    "                        JND_Difference=JND_Difference, \n",
    "                        Multiplicator_PSE_Standard=Multiplicator_PSE_Standard, \n",
    "                        Multiplicator_SD_Standard=Multiplicator_SD_Standard, \n",
    "                        SD_ResponseFunction=SD_ResponseFunction, \n",
    "                        Mean_Variability_Between=Mean_Variability_Between, \n",
    "                        SD_Variability_Between=SD_Variability_Between, \n",
    "                        power_Accuracy = mean(Pvalues_Accuracy .< 0.05),  \n",
    "                        power_Precision = mean(Pvalues_Precision .< 0.05),\n",
    "                        Mean_DurationGLMM = mean(DurationsGLMM),\n",
    "                        SD_DurationGLMM = std(DurationsGLMM),\n",
    "                        Mean_DurationDataframe = mean(DurationsDataframe),\n",
    "                        SD_DurationDataframe = std(DurationsDataframe),\n",
    "                        nIterations = nIterations)\n",
    "                    \n",
    "                    PowerfulDataframe = append!(PowerfulDataframe,row)\n",
    "                end\n",
    "\n",
    "                print(\"RUNTHROUGH \", CurrentRunthrough, \" out of \", TotalNumber,\": \", n, \" \", reps, \" \", \n",
    "                    PowerfulDataframe[!,:Mean_DurationGLMM][CurrentRunthrough], \" END. \")\n",
    "\n",
    "            end\n",
    "        end\n",
    "    end\n",
    "end\n"
   ]
  },
  {
   "cell_type": "code",
   "execution_count": 43,
   "metadata": {},
   "outputs": [
    {
     "data": {
      "text/plain": [
       "0 milliseconds"
      ]
     },
     "execution_count": 43,
     "metadata": {},
     "output_type": "execute_result"
    }
   ],
   "source": []
  },
  {
   "cell_type": "code",
   "execution_count": 5,
   "metadata": {},
   "outputs": [
    {
     "data": {
      "text/plain": [
       "10"
      ]
     },
     "execution_count": 5,
     "metadata": {},
     "output_type": "execute_result"
    }
   ],
   "source": []
  },
  {
   "cell_type": "code",
   "execution_count": 40,
   "metadata": {},
   "outputs": [
    {
     "name": "stderr",
     "output_type": "stream",
     "text": [
      "┌ Warning: Implicit broadcasting to a new column in DataFrame assignment is deprecated.Use `df[!, col_ind] .= v`  when `df` has some columns\n",
      "│   caller = top-level scope at In[40]:30\n",
      "└ @ Core In[40]:30\n"
     ]
    },
    {
     "data": {
      "text/plain": [
       "4-element Array{Float64,1}:\n",
       " 1.3163778889109198e-9\n",
       " 0.8767429447794897\n",
       " 3.7544427762073403e-6\n",
       " 0.7859545653528046"
      ]
     },
     "execution_count": 40,
     "metadata": {},
     "output_type": "execute_result"
    }
   ],
   "source": [
    "@rput n ConditionOfInterest StandardValues reps PSE_Difference JND_Difference Multiplicator_PSE_Standard Multiplicator_SD_Standard SD_ResponseFunction Mean_Variability_Between SD_Variability_Between\n",
    "\n",
    "    R\"\"\"\n",
    "    ID = paste0(\"s\",1:n)\n",
    "        Psychometric = SimulatePsychometricFunction_Staircase(ID,\n",
    "            ConditionOfInterest,\n",
    "            StandardValues,\n",
    "            1:reps,\n",
    "            PSE_Difference,\n",
    "            JND_Difference,\n",
    "            Multiplicator_PSE_Standard,\n",
    "            Multiplicator_SD_Standard,\n",
    "            SD_ResponseFunction,\n",
    "            Mean_Variability_Between,\n",
    "            SD_Variability_Between)\n",
    "\n",
    "    require(quickpsy)\n",
    "        Parameters = quickpsy(Psychometric,Difference,Answer,grouping = .(ID,ConditionOfInterest,StandardValues), bootstrap = \"none\")$par\n",
    "        Parameters2 = Parameters %>%\n",
    "        filter(parn == \"p1\") %>%\n",
    "        select(ID,ConditionOfInterest,Mean=par, StandardValues)\n",
    "        Parameters2$SD = Parameters$par[Parameters$parn == \"p2\"]\n",
    "        FittedPsychometricFunctions = Parameters2\n",
    "        \n",
    "        FittedPsychometricFunctions$StandardValues = as.character(FittedPsychometricFunctions$StandardValues)\n",
    "        Psychometric$StandardValues = as.character(Psychometric$StandardValues)\n",
    "    \n",
    "    \"\"\"\n",
    "    @rget Psychometric FittedPsychometricFunctions\n",
    "    \n",
    "    Psychometric[:StandardValuesAsFactor] = \"placeholder\"\n",
    "\n",
    "#    for i = 1:length(Psychometric[!,:StandardValues])\n",
    "#        Psychometric[i,:StandardValuesAsFactor] = string(Psychometric[i,:StandardValues])\n",
    "#    end\n",
    "#    \n",
    "#    Psychometric[!,:StandardValuesAsFactor] = CategoricalArray(Psychometric[!,:StandardValuesAsFactor])\n",
    "\n",
    "#    FittedPsychometricFunctions[:StandardValuesAsFactor] = \"placeholder\"\n",
    "    \n",
    "#    for i = 1:length(FittedPsychometricFunctions[!,:StandardValues])\n",
    "#        FittedPsychometricFunctions[i,:StandardValuesAsFactor] = string(FittedPsychometricFunctions[i,:StandardValues])\n",
    "#    end\n",
    "    \n",
    "#    FittedPsychometricFunctions[!,:StandardValuesAsFactor] = CategoricalArray(FittedPsychometricFunctions[!,:StandardValuesAsFactor])\n",
    "\n",
    "    \n",
    "    #formulaAccuracy = @formula(Answer ~ 1 + ConditionOfInterest + (1 + Difference|ID) + (1 + Difference|StandardValuesAsFactor));\n",
    "    #modelAccuracy = GeneralizedLinearMixedModel(formulaAccuracy, Psychometric, Bernoulli())\n",
    "    \n",
    "    formula1 = @formula(Answer ~ Difference*ConditionOfInterest + (Difference|ID) + (Difference|StandardValues));\n",
    "    GLMM = fit!(GeneralizedLinearMixedModel(formula1, Psychometric, Binomial()), fast=true)\n",
    "    \n",
    "    formula2 = @formula(Mean ~ ConditionOfInterest + (1|ID) + (1|StandardValues));\n",
    "    TwoLevelMean = fit(MixedModel,formula2, FittedPsychometricFunctions)\n",
    "    \n",
    "    formula3 = @formula(SD ~ ConditionOfInterest + (1|ID) + (1|StandardValues));\n",
    "    TwoLevelSD = fit(MixedModel,formula3, FittedPsychometricFunctions)\n",
    "\n",
    "    [(coeftable(GLMM)).cols[4][2];(coeftable(GLMM)).cols[4][4];(coeftable(TwoLevelMean)).cols[4][2];(coeftable(TwoLevelSD)).cols[4][2]]\n"
   ]
  },
  {
   "cell_type": "code",
   "execution_count": 7,
   "metadata": {},
   "outputs": [
    {
     "data": {
      "text/plain": [
       "Linear mixed model fit by maximum likelihood\n",
       " SD ~ 1 + ConditionOfInterest + (1 | ID) + (1 | StandardValuesAsFactor)\n",
       "     logLik        -2 logLik          AIC             BIC       \n",
       "  5.56568452×10³  -1.1131369×10⁴  -1.1121369×10⁴ -1.10929016×10⁴\n",
       "\n",
       "Variance components:\n",
       "                          Column      Variance     Std.Dev.  \n",
       "ID                     (Intercept)  0.00561013099 0.074900808\n",
       "StandardValuesAsFactor (Intercept)  0.02954580988 0.171888946\n",
       "Residual                            0.00035077934 0.018729104\n",
       " Number of obs: 2194; levels of grouping factors: 10, 2\n",
       "\n",
       "  Fixed-effects parameters:\n",
       "──────────────────────────────────────────────────────────────\n",
       "                      Estimate    Std.Error   z value  P(>|z|)\n",
       "──────────────────────────────────────────────────────────────\n",
       "(Intercept)          0.702899   0.123831      5.67626   <1e-7\n",
       "ConditionOfInterest  0.0704736  0.000799976  88.0947    <1e-99\n",
       "──────────────────────────────────────────────────────────────"
      ]
     },
     "execution_count": 7,
     "metadata": {},
     "output_type": "execute_result"
    }
   ],
   "source": [
    "TwoLevelSD"
   ]
  },
  {
   "cell_type": "code",
   "execution_count": 49,
   "metadata": {},
   "outputs": [
    {
     "data": {
      "text/plain": [
       "\"Durations_Julia.csv\""
      ]
     },
     "execution_count": 49,
     "metadata": {},
     "output_type": "execute_result"
    }
   ],
   "source": [
    "CSV.write(join([\"Durations_Julia.csv\"]),PowerfulDataframe)"
   ]
  },
  {
   "cell_type": "code",
   "execution_count": 28,
   "metadata": {},
   "outputs": [
    {
     "data": {
      "text/plain": [
       "CategoricalString{UInt32} \"s1\""
      ]
     },
     "execution_count": 28,
     "metadata": {},
     "output_type": "execute_result"
    }
   ],
   "source": [
    "Psychometric[!,:ID][1]"
   ]
  },
  {
   "cell_type": "code",
   "execution_count": 21,
   "metadata": {},
   "outputs": [
    {
     "data": {
      "text/plain": [
       "4-element Array{Float64,1}:\n",
       " 3.7046258636649417e-13\n",
       " 0.0005415493655042497\n",
       " 0.7922518980824794\n",
       " 0.0"
      ]
     },
     "execution_count": 21,
     "metadata": {},
     "output_type": "execute_result"
    }
   ],
   "source": []
  },
  {
   "cell_type": "code",
   "execution_count": null,
   "metadata": {},
   "outputs": [],
   "source": [
    "n ConditionOfInterest StandardValues reps PSE_Difference JND_Difference Multiplicator_PSE_Standard Multiplicator_SD_Standard SD_ResponseFunction"
   ]
  },
  {
   "cell_type": "code",
   "execution_count": 33,
   "metadata": {},
   "outputs": [
    {
     "data": {
      "text/plain": [
       "\"C:\\\\Users\\\\bjoer\""
      ]
     },
     "execution_count": 33,
     "metadata": {},
     "output_type": "execute_result"
    }
   ],
   "source": [
    "@__DIR__"
   ]
  }
 ],
 "metadata": {
  "kernelspec": {
   "display_name": "Julia 1.4.0",
   "language": "julia",
   "name": "julia-1.4"
  },
  "language_info": {
   "file_extension": ".jl",
   "mimetype": "application/julia",
   "name": "julia",
   "version": "1.4.0"
  }
 },
 "nbformat": 4,
 "nbformat_minor": 4
}
