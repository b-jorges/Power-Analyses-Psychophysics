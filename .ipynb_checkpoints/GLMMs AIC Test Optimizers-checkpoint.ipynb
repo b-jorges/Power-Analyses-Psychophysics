{
 "cells": [
  {
   "cell_type": "code",
   "execution_count": 1,
   "metadata": {},
   "outputs": [
    {
     "name": "stderr",
     "output_type": "stream",
     "text": [
      "\u001b[32m\u001b[1m Activating\u001b[22m\u001b[39m environment at `C:\\Users\\bjoer\\.julia\\environments\\v1.4\\Project.toml`"
     ]
    },
    {
     "name": "stdout",
     "output_type": "stream",
     "text": [
      "\n",
      "R version 3.6.1 (2019-07-05) -- \"Action of the Toes\"\n",
      "Copyright (C) 2019 The R Foundation for Statistical Computing\n",
      "Platform: x86_64-w64-mingw32/x64 (64-bit)\n",
      "\n",
      "R is free software and comes with ABSOLUTELY NO WARRANTY.\n",
      "You are welcome to redistribute it under certain conditions.\n",
      "Type 'license()' or 'licence()' for distribution details.\n",
      "\n",
      "R is a collaborative project with many contributors.\n",
      "Type 'contributors()' for more information and\n",
      "'citation()' on how to cite R or R packages in publications.\n",
      "\n",
      "Type 'demo()' for some demos, 'help()' for on-line help, or\n",
      "'help.start()' for an HTML browser interface to help.\n",
      "Type 'q()' to quit R.\n",
      "\n"
     ]
    },
    {
     "name": "stderr",
     "output_type": "stream",
     "text": [
      "\n",
      "┌ Warning: RCall.jl: [Previously saved workspace restored]\n",
      "│ \n",
      "└ @ RCall C:\\Users\\bjoer\\.julia\\packages\\RCall\\g7dhB\\src\\io.jl:113\n",
      "┌ Warning: RCall.jl: Warning: package 'dplyr' was built under R version 3.6.3\n",
      "│ \n",
      "│ Attaching package: 'dplyr'\n",
      "│ \n",
      "│ The following objects are masked from 'package:stats':\n",
      "│ \n",
      "│     filter, lag\n",
      "│ \n",
      "│ The following objects are masked from 'package:base':\n",
      "│ \n",
      "│     intersect, setdiff, setequal, union\n",
      "│ \n",
      "└ @ RCall C:\\Users\\bjoer\\.julia\\packages\\RCall\\g7dhB\\src\\io.jl:113\n",
      "┌ Warning: RCall.jl: Warning: package 'tidyverse' was built under R version 3.6.3\n",
      "│ -- Attaching packages --------------------------------------- tidyverse 1.3.0 --\n",
      "│ v ggplot2 3.3.0     v purrr   0.3.3\n",
      "│ v tibble  3.0.0     v stringr 1.4.0\n",
      "│ v tidyr   1.0.2     v forcats 0.5.0\n",
      "│ v readr   1.3.1     \n",
      "│ Warning: package 'ggplot2' was built under R version 3.6.3\n",
      "│ Warning: package 'tibble' was built under R version 3.6.3\n",
      "│ Warning: package 'tidyr' was built under R version 3.6.3\n",
      "│ Warning: package 'forcats' was built under R version 3.6.3\n",
      "│ -- Conflicts ------------------------------------------ tidyverse_conflicts() --\n",
      "│ x dplyr::filter() masks stats::filter()\n",
      "│ x dplyr::lag()    masks stats::lag()\n",
      "└ @ RCall C:\\Users\\bjoer\\.julia\\packages\\RCall\\g7dhB\\src\\io.jl:113\n",
      "┌ Warning: RCall.jl: Loading required package: lme4\n",
      "│ Loading required package: Matrix\n",
      "│ \n",
      "│ Attaching package: 'Matrix'\n",
      "│ \n",
      "│ The following objects are masked from 'package:tidyr':\n",
      "│ \n",
      "│     expand, pack, unpack\n",
      "│ \n",
      "└ @ RCall C:\\Users\\bjoer\\.julia\\packages\\RCall\\g7dhB\\src\\io.jl:113\n",
      "┌ Warning: RCall.jl: Loading required package: lmerTest\n",
      "│ Warning: package 'lmerTest' was built under R version 3.6.3\n",
      "│ \n",
      "│ Attaching package: 'lmerTest'\n",
      "│ \n",
      "│ The following object is masked from 'package:lme4':\n",
      "│ \n",
      "│     lmer\n",
      "│ \n",
      "│ The following object is masked from 'package:stats':\n",
      "│ \n",
      "│     step\n",
      "│ \n",
      "└ @ RCall C:\\Users\\bjoer\\.julia\\packages\\RCall\\g7dhB\\src\\io.jl:113\n",
      "┌ Warning: RCall.jl: Loading required package: quickpsy\n",
      "│ Warning: package 'quickpsy' was built under R version 3.6.3\n",
      "│ Loading required package: DEoptim\n",
      "│ Warning: package 'DEoptim' was built under R version 3.6.3\n",
      "│ Loading required package: parallel\n",
      "│ \n",
      "│ DEoptim package\n",
      "│ Differential Evolution algorithm in R\n",
      "│ Authors: D. Ardia, K. Mullen, B. Peterson and J. Ulrich\n",
      "│ \n",
      "│ \n",
      "│ Attaching package: 'quickpsy'\n",
      "│ \n",
      "│ The following object is masked from 'package:stats':\n",
      "│ \n",
      "│     deviance\n",
      "│ \n",
      "└ @ RCall C:\\Users\\bjoer\\.julia\\packages\\RCall\\g7dhB\\src\\io.jl:113\n"
     ]
    }
   ],
   "source": [
    "cd(@__DIR__) #makes the directory where this script is located the new working directory\n",
    "using Pkg\n",
    "Pkg.activate()\n",
    "Pkg.instantiate()\n",
    "using MixedModels\n",
    "using RCall\n",
    "using DataFrames\n",
    "using CSV\n",
    "using RData\n",
    "using Statistics\n",
    "using Dates\n",
    "\n",
    "R\"\"\"\n",
    "require(dplyr, quietly = TRUE)   # for data wrangling\n",
    "require(tidyverse, quietly = TRUE)   # for data wrangling\n",
    "require(lme4)\n",
    "require(lmerTest)\n",
    "require(quickpsy)\n",
    "\n",
    "SimulatePsychometricFunction_Staircase = function(ID, \n",
    "                                                  ConditionOfInterest, \n",
    "                                                  StandardValues, \n",
    "                                                  reps, \n",
    "                                                  PSE_Difference, \n",
    "                                                  JND_Difference, \n",
    "                                                  Multiplicator_PSE_Standard, \n",
    "                                                  Multiplicator_SD_Standard, \n",
    "                                                  SD_ResponseFunction, \n",
    "                                                  Mean_Variability_Between = 0.1, \n",
    "                                                  SD_Variability_Between = 0.1){\n",
    "  Psychometric = expand.grid(ID=ID, ConditionOfInterest=ConditionOfInterest, StandardValues=StandardValues, reps = reps)\n",
    "  \n",
    "  Psychometric = Psychometric %>%\n",
    "    group_by(ID) %>%#\n",
    "    mutate(PSE_Factor_ID = rnorm(1,1,Mean_Variability_Between),\n",
    "           SD_Factor_ID = rnorm(1,1,SD_Variability_Between))\n",
    "  \n",
    "  Psychometric = Psychometric %>%\n",
    "    mutate(\n",
    "      Mean_Standard = StandardValues+StandardValues*Multiplicator_PSE_Standard,\n",
    "      SD_Standard = StandardValues*Multiplicator_SD_Standard,\n",
    "      Mean = (Mean_Standard + (ConditionOfInterest==ConditionOfInterest[2])*StandardValues*PSE_Difference)*PSE_Factor_ID,\n",
    "      SD = abs((SD_Standard + (ConditionOfInterest==ConditionOfInterest[2])*SD_Standard*JND_Difference)*SD_Factor_ID),\n",
    "      staircase_factor = rcauchy(length(reps),1,SD_ResponseFunction), \n",
    "      Presented_TestStimulusStrength = Mean*staircase_factor,\n",
    "      Difference = Presented_TestStimulusStrength - StandardValues,\n",
    "      AnswerProbability = pnorm(Presented_TestStimulusStrength,Mean,SD),\n",
    "      Answer = as.numeric(rbernoulli(length(AnswerProbability),AnswerProbability))\n",
    "    )\n",
    "  \n",
    "  Psychometric = Psychometric %>%\n",
    "    filter(abs(staircase_factor-1) < 0.75) %>%\n",
    "    group_by(ID,ConditionOfInterest,StandardValues,Difference) %>%\n",
    "    mutate(Yes = sum(Answer==1),\n",
    "           Total = length(ConditionOfInterest))\n",
    "  \n",
    "  Psychometric\n",
    "}\n",
    "\"\"\";"
   ]
  },
  {
   "cell_type": "code",
   "execution_count": 10,
   "metadata": {},
   "outputs": [
    {
     "name": "stdout",
     "output_type": "stream",
     "text": [
      "Starting runthrough N° 1 out of 24"
     ]
    },
    {
     "name": "stderr",
     "output_type": "stream",
     "text": [
      "┌ Warning: RCall.jl: Warning in checkConv(attr(opt, \"derivs\"), opt$par, ctrl = control$checkConv,  :\n",
      "│   unable to evaluate scaled gradient\n",
      "│ Warning in checkConv(attr(opt, \"derivs\"), opt$par, ctrl = control$checkConv,  :\n",
      "│   Model failed to converge: degenerate  Hessian with 1 negative eigenvalues\n",
      "└ @ RCall C:\\Users\\bjoer\\.julia\\packages\\RCall\\g7dhB\\src\\io.jl:113\n",
      "┌ Warning: RCall.jl: boundary (singular) fit: see ?isSingular\n",
      "└ @ RCall C:\\Users\\bjoer\\.julia\\packages\\RCall\\g7dhB\\src\\io.jl:113\n"
     ]
    },
    {
     "name": "stdout",
     "output_type": "stream",
     "text": [
      "This runthrough took 43495 milliseconds sStarting runthrough N° 2 out of 24"
     ]
    },
    {
     "name": "stderr",
     "output_type": "stream",
     "text": [
      "┌ Warning: RCall.jl: boundary (singular) fit: see ?isSingular\n",
      "└ @ RCall C:\\Users\\bjoer\\.julia\\packages\\RCall\\g7dhB\\src\\io.jl:113\n",
      "┌ Warning: RCall.jl: Warning in checkConv(attr(opt, \"derivs\"), opt$par, ctrl = control$checkConv,  :\n",
      "│   Model failed to converge with max|grad| = 0.0176481 (tol = 0.001, component 1)\n",
      "└ @ RCall C:\\Users\\bjoer\\.julia\\packages\\RCall\\g7dhB\\src\\io.jl:113\n",
      "┌ Warning: RCall.jl: boundary (singular) fit: see ?isSingular\n",
      "└ @ RCall C:\\Users\\bjoer\\.julia\\packages\\RCall\\g7dhB\\src\\io.jl:113\n",
      "┌ Warning: RCall.jl: boundary (singular) fit: see ?isSingular\n",
      "└ @ RCall C:\\Users\\bjoer\\.julia\\packages\\RCall\\g7dhB\\src\\io.jl:113\n"
     ]
    },
    {
     "name": "stdout",
     "output_type": "stream",
     "text": [
      "This runthrough took 36181 milliseconds sStarting runthrough N° 3 out of 24"
     ]
    },
    {
     "name": "stderr",
     "output_type": "stream",
     "text": [
      "┌ Warning: RCall.jl: Warning in checkConv(attr(opt, \"derivs\"), opt$par, ctrl = control$checkConv,  :\n",
      "│   Model failed to converge with max|grad| = 0.018285 (tol = 0.001, component 1)\n",
      "└ @ RCall C:\\Users\\bjoer\\.julia\\packages\\RCall\\g7dhB\\src\\io.jl:113\n",
      "┌ Warning: RCall.jl: boundary (singular) fit: see ?isSingular\n",
      "└ @ RCall C:\\Users\\bjoer\\.julia\\packages\\RCall\\g7dhB\\src\\io.jl:113\n"
     ]
    },
    {
     "name": "stdout",
     "output_type": "stream",
     "text": [
      "This runthrough took 36041 milliseconds sStarting runthrough N° 4 out of "
     ]
    },
    {
     "name": "stderr",
     "output_type": "stream",
     "text": [
      "┌ Warning: RCall.jl: boundary (singular) fit: see ?isSingular\n",
      "└ @ RCall C:\\Users\\bjoer\\.julia\\packages\\RCall\\g7dhB\\src\\io.jl:113\n"
     ]
    },
    {
     "name": "stdout",
     "output_type": "stream",
     "text": [
      "24"
     ]
    },
    {
     "name": "stderr",
     "output_type": "stream",
     "text": [
      "┌ Warning: RCall.jl: boundary (singular) fit: see ?isSingular\n",
      "└ @ RCall C:\\Users\\bjoer\\.julia\\packages\\RCall\\g7dhB\\src\\io.jl:113\n",
      "┌ Warning: RCall.jl: boundary (singular) fit: see ?isSingular\n",
      "└ @ RCall C:\\Users\\bjoer\\.julia\\packages\\RCall\\g7dhB\\src\\io.jl:113\n"
     ]
    },
    {
     "name": "stdout",
     "output_type": "stream",
     "text": [
      "This runthrough took 44115 milliseconds sStarting runthrough N° 5 out of "
     ]
    },
    {
     "name": "stderr",
     "output_type": "stream",
     "text": [
      "┌ Warning: RCall.jl: boundary (singular) fit: see ?isSingular\n",
      "└ @ RCall C:\\Users\\bjoer\\.julia\\packages\\RCall\\g7dhB\\src\\io.jl:113\n"
     ]
    },
    {
     "name": "stdout",
     "output_type": "stream",
     "text": [
      "24"
     ]
    },
    {
     "name": "stderr",
     "output_type": "stream",
     "text": [
      "┌ Warning: RCall.jl: Warning in checkConv(attr(opt, \"derivs\"), opt$par, ctrl = control$checkConv,  :\n",
      "│   Model failed to converge with max|grad| = 0.0169177 (tol = 0.001, component 1)\n",
      "└ @ RCall C:\\Users\\bjoer\\.julia\\packages\\RCall\\g7dhB\\src\\io.jl:113\n",
      "┌ Warning: RCall.jl: boundary (singular) fit: see ?isSingular\n",
      "└ @ RCall C:\\Users\\bjoer\\.julia\\packages\\RCall\\g7dhB\\src\\io.jl:113\n"
     ]
    },
    {
     "name": "stdout",
     "output_type": "stream",
     "text": [
      "This runthrough took 65886 milliseconds sStarting runthrough N° 6 out of "
     ]
    },
    {
     "name": "stderr",
     "output_type": "stream",
     "text": [
      "┌ Warning: RCall.jl: boundary (singular) fit: see ?isSingular\n",
      "└ @ RCall C:\\Users\\bjoer\\.julia\\packages\\RCall\\g7dhB\\src\\io.jl:113\n"
     ]
    },
    {
     "name": "stdout",
     "output_type": "stream",
     "text": [
      "24"
     ]
    },
    {
     "name": "stderr",
     "output_type": "stream",
     "text": [
      "┌ Warning: RCall.jl: Warning in checkConv(attr(opt, \"derivs\"), opt$par, ctrl = control$checkConv,  :\n",
      "│   Model failed to converge with max|grad| = 0.0040431 (tol = 0.001, component 1)\n",
      "└ @ RCall C:\\Users\\bjoer\\.julia\\packages\\RCall\\g7dhB\\src\\io.jl:113\n",
      "┌ Warning: RCall.jl: boundary (singular) fit: see ?isSingular\n",
      "└ @ RCall C:\\Users\\bjoer\\.julia\\packages\\RCall\\g7dhB\\src\\io.jl:113\n"
     ]
    },
    {
     "name": "stdout",
     "output_type": "stream",
     "text": [
      "This runthrough took 81715 milliseconds sStarting runthrough N° 7 out of 24"
     ]
    },
    {
     "name": "stderr",
     "output_type": "stream",
     "text": [
      "┌ Warning: RCall.jl: boundary (singular) fit: see ?isSingular\n",
      "└ @ RCall C:\\Users\\bjoer\\.julia\\packages\\RCall\\g7dhB\\src\\io.jl:113\n",
      "┌ Warning: RCall.jl: boundary (singular) fit: see ?isSingular\n",
      "└ @ RCall C:\\Users\\bjoer\\.julia\\packages\\RCall\\g7dhB\\src\\io.jl:113\n",
      "┌ Warning: RCall.jl: boundary (singular) fit: see ?isSingular\n",
      "└ @ RCall C:\\Users\\bjoer\\.julia\\packages\\RCall\\g7dhB\\src\\io.jl:113\n",
      "┌ Warning: RCall.jl: boundary (singular) fit: see ?isSingular\n",
      "└ @ RCall C:\\Users\\bjoer\\.julia\\packages\\RCall\\g7dhB\\src\\io.jl:113\n"
     ]
    },
    {
     "name": "stdout",
     "output_type": "stream",
     "text": [
      "This runthrough took 53532 milliseconds sStarting runthrough N° 8 out of 24"
     ]
    },
    {
     "name": "stderr",
     "output_type": "stream",
     "text": [
      "┌ Warning: RCall.jl: Warning in checkConv(attr(opt, \"derivs\"), opt$par, ctrl = control$checkConv,  :\n",
      "│   Model failed to converge with max|grad| = 0.0158864 (tol = 0.001, component 1)\n",
      "└ @ RCall C:\\Users\\bjoer\\.julia\\packages\\RCall\\g7dhB\\src\\io.jl:113\n",
      "┌ Warning: RCall.jl: boundary (singular) fit: see ?isSingular\n",
      "└ @ RCall C:\\Users\\bjoer\\.julia\\packages\\RCall\\g7dhB\\src\\io.jl:113\n",
      "┌ Warning: RCall.jl: boundary (singular) fit: see ?isSingular\n",
      "└ @ RCall C:\\Users\\bjoer\\.julia\\packages\\RCall\\g7dhB\\src\\io.jl:113\n"
     ]
    },
    {
     "name": "stdout",
     "output_type": "stream",
     "text": [
      "This runthrough took 50335 milliseconds sStarting runthrough N° 9 out of 24"
     ]
    },
    {
     "name": "stderr",
     "output_type": "stream",
     "text": [
      "┌ Warning: RCall.jl: boundary (singular) fit: see ?isSingular\n",
      "└ @ RCall C:\\Users\\bjoer\\.julia\\packages\\RCall\\g7dhB\\src\\io.jl:113\n",
      "┌ Warning: RCall.jl: boundary (singular) fit: see ?isSingular\n",
      "└ @ RCall C:\\Users\\bjoer\\.julia\\packages\\RCall\\g7dhB\\src\\io.jl:113\n"
     ]
    },
    {
     "ename": "InterruptException",
     "evalue": "InterruptException:",
     "output_type": "error",
     "traceback": [
      "InterruptException:",
      "",
      "Stacktrace:",
      " [1] try_yieldto(::typeof(Base.ensure_rescheduled), ::Base.RefValue{Task}) at .\\task.jl:654",
      " [2] wait() at .\\task.jl:710",
      " [3] uv_write(::Base.PipeEndpoint, ::Ptr{UInt8}, ::UInt64) at .\\stream.jl:935",
      " [4] unsafe_write(::Base.PipeEndpoint, ::Ptr{UInt8}, ::UInt64) at .\\stream.jl:1007",
      " [5] unsafe_write at .\\io.jl:310 [inlined]",
      " [6] unsafe_write at .\\io.jl:593 [inlined]",
      " [7] write(::IJulia.IJuliaStdio{Base.PipeEndpoint}, ::Array{UInt8,1}) at .\\io.jl:616",
      " [8] handle_message(::Base.CoreLogging.SimpleLogger, ::Base.CoreLogging.LogLevel, ::String, ::Module, ::Symbol, ::Symbol, ::String, ::Int64; maxlog::Nothing, kwargs::Base.Iterators.Pairs{Union{},Union{},Tuple{},NamedTuple{,Tuple{}}}) at .\\logging.jl:558",
      " [9] handle_message at .\\logging.jl:540 [inlined]",
      " [10] macro expansion at .\\logging.jl:323 [inlined]",
      " [11] handle_eval_stderr(; as_warning::Bool) at C:\\Users\\bjoer\\.julia\\packages\\RCall\\g7dhB\\src\\io.jl:113",
      " [12] reval_p(::Ptr{LangSxp}, ::Ptr{EnvSxp}) at C:\\Users\\bjoer\\.julia\\packages\\RCall\\g7dhB\\src\\eval.jl:99",
      " [13] reval_p(::Ptr{RCall.ExprSxp}, ::Ptr{EnvSxp}) at C:\\Users\\bjoer\\.julia\\packages\\RCall\\g7dhB\\src\\eval.jl:115",
      " [14] reval(::String, ::RObject{EnvSxp}) at C:\\Users\\bjoer\\.julia\\packages\\RCall\\g7dhB\\src\\eval.jl:132",
      " [15] macro expansion at C:\\Users\\bjoer\\.julia\\packages\\RCall\\g7dhB\\src\\macros.jl:71 [inlined]",
      " [16] top-level scope at .\\In[10]:35"
     ]
    }
   ],
   "source": [
    "ConditionOfInterest = [0;1]\n",
    "StandardValues = [5;8]\n",
    "Range_reps = [30,40,50,60]\n",
    "PSE_Difference = 0.1\n",
    "JND_Difference = 0.2\n",
    "Multiplicator_PSE_Standard = 0\n",
    "Multiplicator_SD_Standard = 0.108\n",
    "SD_ResponseFunction = 0.1\n",
    "Mean_Variability_Between = 0.1\n",
    "SD_Variability_Between = 0.1\n",
    "nIterations = 1\n",
    "Range_Participants = [10,12,14,16,18,20]\n",
    "\n",
    "TotalNumber = length(Range_reps)*length(Range_Participants)\n",
    "CurrentRunthrough = 0\n",
    "rightnow = Dates.now()\n",
    "formula1 = @formula(Answer ~ Difference*ConditionOfInterest + (Difference + ConditionOfInterest |ID) + (Difference + ConditionOfInterest|StandardValues));\n",
    "\n",
    "for reps in Range_reps\n",
    "    for n in Range_Participants\n",
    "        CurrentRunthrough = CurrentRunthrough + 1\n",
    "\n",
    "        if CurrentRunthrough > 1\n",
    "        print(\"This runthrough took \", Dates.now()-TimeStartRunthrough, \" s\")                \n",
    "        end\n",
    "        \n",
    "        print(\"Starting runthrough N° \", CurrentRunthrough, \" out of \", TotalNumber)\n",
    "        global TimeStartRunthrough = Dates.now()\n",
    "\n",
    "        for j in 1:nIterations\n",
    "            \n",
    "            @rput reps n j ConditionOfInterest StandardValues PSE_Difference JND_Difference Multiplicator_PSE_Standard\n",
    "            @rput Multiplicator_SD_Standard SD_ResponseFunction Mean_Variability_Between SD_Variability_Between\n",
    "            \n",
    "            R\"\"\"\n",
    "            ID = paste0(\"s\",1:n)\n",
    "            \n",
    "            Psychometric = SimulatePsychometricFunction_Staircase(ID,\n",
    "                            ConditionOfInterest,\n",
    "                            StandardValues,\n",
    "                            1:reps,\n",
    "                            PSE_Difference,\n",
    "                            JND_Difference,\n",
    "                            Multiplicator_PSE_Standard,\n",
    "                            Multiplicator_SD_Standard,\n",
    "                            SD_ResponseFunction,\n",
    "                            Mean_Variability_Between,\n",
    "                            SD_Variability_Between)\n",
    "\n",
    "              TimeStartTrial = Sys.time() #get time at beginning of trial\n",
    "              GLMM = glmer(cbind(Yes, Total - Yes) ~ ConditionOfInterest*Difference + (ConditionOfInterest+Difference| ID) + (ConditionOfInterest+Difference| StandardValues), \n",
    "                           family = binomial(link = \"logit\"), \n",
    "                           data = Psychometric,\n",
    "                           nAGQ = 0)\n",
    "              RDuration_NelderMead_nAGQ0 = Sys.time() - TimeStartTrial #get duration of fitting\n",
    "              RPvalues_NelderMead_nAGQ0 = summary(GLMM)$coefficients[c(14,16)]\n",
    "              RAIC_NelderMead_nAGQ0 = AIC(GLMM)\n",
    "\n",
    "              TimeStartTrial = Sys.time() #get time at beginning of trial\n",
    "              GLMM = glmer(cbind(Yes, Total - Yes) ~ ConditionOfInterest*Difference + (ConditionOfInterest+Difference| ID) + (ConditionOfInterest+Difference| StandardValues), \n",
    "                           family = binomial(link = \"logit\"), \n",
    "                           data = Psychometric,\n",
    "                           nAGQ = 1)\n",
    "              RDuration_NelderMead_nAGQ1 = Sys.time() - TimeStartTrial #get duration of fitting\n",
    "              RPvalues_NelderMead_nAGQ1 = summary(GLMM)$coefficients[c(14,16)]\n",
    "              RAIC_NelderMead_nAGQ1 = AIC(GLMM)\n",
    "\n",
    "              TimeStartTrial = Sys.time() #get time at beginning of trial\n",
    "              GLMM = glmer(cbind(Yes, Total - Yes) ~ ConditionOfInterest*Difference + (ConditionOfInterest+Difference| ID) + (ConditionOfInterest+Difference| StandardValues), \n",
    "                           family = binomial(link = \"logit\"), \n",
    "                           data = Psychometric,\n",
    "                           nAGQ = 0,\n",
    "                           glmerControl(optimizer = \"bobyqa\"))\n",
    "              RDuration_Bobyqa_nAGQ0 = Sys.time() - TimeStartTrial #get duration of fitting\n",
    "              RPvalues_Bobyqa_nAGQ0 = summary(GLMM)$coefficients[c(14,16)]      \n",
    "              RAIC_Bobyqa_nAGQ0 = AIC(GLMM)\n",
    "\n",
    "              TimeStartTrial = Sys.time() #get time at beginning of trial\n",
    "              GLMM = glmer(cbind(Yes, Total - Yes) ~ ConditionOfInterest*Difference + (ConditionOfInterest+Difference| ID) + (ConditionOfInterest+Difference| StandardValues), \n",
    "                           family = binomial(link = \"logit\"), \n",
    "                           data = Psychometric,\n",
    "                           nAGQ = 1,\n",
    "                           glmerControl(optimizer = \"bobyqa\"))\n",
    "              RDuration_Bobyqa_nAGQ1 = Sys.time() - TimeStartTrial #get duration of fitting\n",
    "              RPvalues_Bobyqa_nAGQ1 = summary(GLMM)$coefficients[c(14,16)]\n",
    "              RAIC_Bobyqa_nAGQ1 = AIC(GLMM)\n",
    "\n",
    "              TimeStartTrial = Sys.time() #get time at beginning of trial\n",
    "              GLMM = glmer(cbind(Yes, Total - Yes) ~ ConditionOfInterest*Difference + (ConditionOfInterest+Difference| ID) + (ConditionOfInterest+Difference| StandardValues), \n",
    "                           family = binomial(link = \"logit\"), \n",
    "                           data = Psychometric,\n",
    "                           nAGQ = 0,\n",
    "                           glmerControl(optimizer = \"nloptwrap\"))\n",
    "              RDuration_nloptwrap_nAGQ0 = Sys.time() - TimeStartTrial #get duration of fitting\n",
    "              RPvalues_nloptwrap_nAGQ0 = summary(GLMM)$coefficients[c(14,16)]      \n",
    "              RAIC_nloptwrap_nAGQ0 = AIC(GLMM)\n",
    "\n",
    "              TimeStartTrial = Sys.time() #get time at beginning of trial\n",
    "              GLMM = glmer(cbind(Yes, Total - Yes) ~ ConditionOfInterest*Difference + (ConditionOfInterest+Difference| ID) + (ConditionOfInterest+Difference| StandardValues), \n",
    "                           family = binomial(link = \"logit\"), \n",
    "                           data = Psychometric,\n",
    "                           nAGQ = 1,\n",
    "                           glmerControl(optimizer = \"nloptwrap\"))\n",
    "              RDuration_nloptwrap_nAGQ1 = Sys.time() - TimeStartTrial #get duration of fitting\n",
    "              RPvalues_nloptwrap_nAGQ1 = summary(GLMM)$coefficients[c(14,16)]\n",
    "              RAIC_nloptwrap_nAGQ1 = AIC(GLMM)\n",
    "            \n",
    "            \n",
    "            Psychometric$StandardValues = as.character(Psychometric$StandardValues)\n",
    "            R = data.frame(iteration = j, \n",
    "                 reps = reps,\n",
    "                 n = n, \n",
    "            \n",
    "                label = c(\"NelderMead_nAGQ0\",\"NelderMead_nAGQ1\",\"Bobyqa_nAGQ0\", \"Bobyqa_nAGQ1\",\n",
    "                        \"nloptwrap_nAGQ0\",\"nloptwrap_nAGQ1\"), \n",
    "                AIC = c(RAIC_NelderMead_nAGQ0,RAIC_NelderMead_nAGQ1,RAIC_Bobyqa_nAGQ0,RAIC_Bobyqa_nAGQ1,\n",
    "                        RAIC_nloptwrap_nAGQ0,RAIC_nloptwrap_nAGQ1),\n",
    "                Pvalues_Accuracy = c(RPvalues_NelderMead_nAGQ0[1],RPvalues_NelderMead_nAGQ1[1],RPvalues_Bobyqa_nAGQ0[1],\n",
    "                        RPvalues_Bobyqa_nAGQ1[1],RPvalues_nloptwrap_nAGQ0[1],RPvalues_nloptwrap_nAGQ1[1]),\n",
    "                Pvalues_Interaction = c(RPvalues_NelderMead_nAGQ0[2],RPvalues_NelderMead_nAGQ1[2],RPvalues_Bobyqa_nAGQ0[2],\n",
    "                        RPvalues_Bobyqa_nAGQ1[2],RPvalues_nloptwrap_nAGQ0[2],RPvalues_nloptwrap_nAGQ1[2]),\n",
    "                Duration = c(RDuration_NelderMead_nAGQ0,RDuration_NelderMead_nAGQ1,RDuration_Bobyqa_nAGQ0,\n",
    "                        RDuration_Bobyqa_nAGQ1,RDuration_nloptwrap_nAGQ0,RDuration_nloptwrap_nAGQ1),\n",
    "            \n",
    "                ConditionsOfInterest=length(ConditionOfInterest), \n",
    "                StandardValue1=StandardValues[1],\n",
    "                StandardValue2=StandardValues[2], \n",
    "                PSE_Difference=PSE_Difference, \n",
    "                JND_Difference=JND_Difference, \n",
    "                Multiplicator_PSE_Standard=Multiplicator_PSE_Standard, \n",
    "                Multiplicator_SD_Standard=Multiplicator_SD_Standard,\n",
    "                SD_ResponseFunction = SD_ResponseFunction,\n",
    "                Mean_Variability_Between = Mean_Variability_Between,\n",
    "                SD_Variability_Between = SD_Variability_Between,\n",
    "                Program = \"R\")\n",
    "\n",
    "            \"\"\"\n",
    "            \n",
    "            @rget Psychometric R\n",
    "            \n",
    "            TimeStartTrial = Dates.now()\n",
    "            GLMM_Model = GeneralizedLinearMixedModel(formula1, Psychometric, Binomial())\n",
    "            GLMM_Model.optsum.optimizer = :LN_NELDERMEAD\n",
    "            GLMM = fit!(GLMM_Model, fast=true)\n",
    "            JuliaDurationGLMM_NeldMeader_AGP0 = ((Dates.now()) - TimeStartTrial)\n",
    "            JuliaAIC_NeldMeader_AGP0 = aic(GLMM)\n",
    "            JuliaPvalues_NeldMeader_AGP0 = [(coeftable(GLMM)).cols[4][2];(coeftable(GLMM)).cols[4][4]]   \n",
    "\n",
    "            TimeStartTrial = Dates.now()\n",
    "            GLMM = fit!(GeneralizedLinearMixedModel(formula1, Psychometric, Binomial()), fast=true) #default optimizer is bobyqa\n",
    "            JuliaDurationGLMM_bobyqa_AGP0 = ((Dates.now()) - TimeStartTrial)\n",
    "            JuliaAIC_bobyqa_AGP0 = aic(GLMM)\n",
    "            JuliaPvalues_bobyqa_AGP0 = [(coeftable(GLMM)).cols[4][2];(coeftable(GLMM)).cols[4][4]]\n",
    "            \n",
    "            Julia = DataFrame(\n",
    "                        iteration = j,\n",
    "                        reps = reps,\n",
    "                        n = n,\n",
    "                        \n",
    "                        label = [\"JuliaAIC_NeldMeader_AGP0\",\"JuliaAIC_bobyqa_AGP0\"],\n",
    "                        AIC = [JuliaAIC_NeldMeader_AGP0,JuliaAIC_bobyqa_AGP0],\n",
    "                        Pvalues_Accuracy = [JuliaPvalues_NeldMeader_AGP0[1],JuliaPvalues_bobyqa_AGP0[1]],\n",
    "                        Pvalues_Interaction = [JuliaPvalues_NeldMeader_AGP0[2],JuliaPvalues_bobyqa_AGP0[2]],\n",
    "                        Duration = [JuliaDurationGLMM_NeldMeader_AGP0.value/1000,JuliaDurationGLMM_bobyqa_AGP0.value/1000],\n",
    "                \n",
    "                        ConditionsOfInterest=length(ConditionOfInterest), \n",
    "                        StandardValue1=StandardValues[1],\n",
    "                        StandardValue2=StandardValues[2], \n",
    "                        PSE_Difference=PSE_Difference, \n",
    "                        JND_Difference=JND_Difference, \n",
    "                        Multiplicator_PSE_Standard=Multiplicator_PSE_Standard, \n",
    "                        Multiplicator_SD_Standard=Multiplicator_SD_Standard,\n",
    "                        SD_ResponseFunction = SD_ResponseFunction,\n",
    "                        Mean_Variability_Between = Mean_Variability_Between,\n",
    "                        SD_Variability_Between = SD_Variability_Between,\n",
    "                        Program = \"Julia\")\n",
    "            \n",
    "            if CurrentRunthrough == 1 && j == 1 && reps == Range_reps[1] && n == Range_Participants[1]\n",
    "            \n",
    "                global PowerfulDataframe = append!(R,Julia)\n",
    "                \n",
    "            else\n",
    "                \n",
    "                PowerfulDataframe = append!(PowerfulDataframe,R)\n",
    "                PowerfulDataframe = append!(PowerfulDataframe,Julia)\n",
    "            end\n",
    "        end\n",
    "    end\n",
    "end\n",
    "\n",
    "CSV.write(join([\"Durations_Julia.csv\"]),PowerfulDataframe)"
   ]
  },
  {
   "cell_type": "code",
   "execution_count": 4,
   "metadata": {},
   "outputs": [
    {
     "data": {
      "text/html": [
       "<table class=\"data-frame\"><thead><tr><th></th><th>nIteration</th><th>n</th><th>reps</th><th>DurationGLMM_NeldMeader_AGP0</th><th>AIC_NeldMeader_AGP0</th><th>Pvalues_NeldMeader_AGP0_Accuracy</th></tr><tr><th></th><th>Int64</th><th>Int64</th><th>Int64</th><th>Millisec…</th><th>Float64</th><th>Float64</th></tr></thead><tbody><p>24 rows × 21 columns (omitted printing of 15 columns)</p><tr><th>1</th><td>1</td><td>10</td><td>30</td><td>123211 milliseconds</td><td>4077.32</td><td>4.30388e-14</td></tr><tr><th>2</th><td>1</td><td>12</td><td>30</td><td>56875 milliseconds</td><td>4036.01</td><td>9.7691e-10</td></tr><tr><th>3</th><td>1</td><td>14</td><td>30</td><td>37153 milliseconds</td><td>4169.71</td><td>4.58931e-9</td></tr><tr><th>4</th><td>1</td><td>16</td><td>30</td><td>48692 milliseconds</td><td>4118.0</td><td>1.40641e-9</td></tr><tr><th>5</th><td>1</td><td>18</td><td>30</td><td>42031 milliseconds</td><td>3976.38</td><td>2.93625e-14</td></tr><tr><th>6</th><td>1</td><td>20</td><td>30</td><td>29418 milliseconds</td><td>4168.15</td><td>4.36978e-11</td></tr><tr><th>7</th><td>1</td><td>10</td><td>40</td><td>53537 milliseconds</td><td>4075.99</td><td>1.1792e-14</td></tr><tr><th>8</th><td>1</td><td>12</td><td>40</td><td>36506 milliseconds</td><td>4012.85</td><td>1.19685e-14</td></tr><tr><th>9</th><td>1</td><td>14</td><td>40</td><td>42479 milliseconds</td><td>4033.97</td><td>2.51751e-9</td></tr><tr><th>10</th><td>1</td><td>16</td><td>40</td><td>45766 milliseconds</td><td>4144.67</td><td>1.44435e-13</td></tr><tr><th>11</th><td>1</td><td>18</td><td>40</td><td>54436 milliseconds</td><td>4076.44</td><td>6.38635e-12</td></tr><tr><th>12</th><td>1</td><td>20</td><td>40</td><td>49723 milliseconds</td><td>4048.1</td><td>3.53276e-11</td></tr><tr><th>13</th><td>1</td><td>10</td><td>50</td><td>26521 milliseconds</td><td>4049.73</td><td>2.14448e-13</td></tr><tr><th>14</th><td>1</td><td>12</td><td>50</td><td>34997 milliseconds</td><td>4213.3</td><td>2.5166e-13</td></tr><tr><th>15</th><td>1</td><td>14</td><td>50</td><td>50674 milliseconds</td><td>4062.41</td><td>4.0405e-14</td></tr><tr><th>16</th><td>1</td><td>16</td><td>50</td><td>34166 milliseconds</td><td>4182.28</td><td>2.53538e-12</td></tr><tr><th>17</th><td>1</td><td>18</td><td>50</td><td>44425 milliseconds</td><td>4148.61</td><td>1.88133e-10</td></tr><tr><th>18</th><td>1</td><td>20</td><td>50</td><td>40366 milliseconds</td><td>3998.65</td><td>3.14406e-14</td></tr><tr><th>19</th><td>1</td><td>10</td><td>60</td><td>53900 milliseconds</td><td>4150.95</td><td>1.73378e-13</td></tr><tr><th>20</th><td>1</td><td>12</td><td>60</td><td>27675 milliseconds</td><td>4136.5</td><td>3.53186e-12</td></tr><tr><th>21</th><td>1</td><td>14</td><td>60</td><td>19767 milliseconds</td><td>4173.1</td><td>5.92435e-11</td></tr><tr><th>22</th><td>1</td><td>16</td><td>60</td><td>61584 milliseconds</td><td>4222.64</td><td>1.08887e-11</td></tr><tr><th>23</th><td>1</td><td>18</td><td>60</td><td>22023 milliseconds</td><td>3909.67</td><td>7.06385e-10</td></tr><tr><th>24</th><td>1</td><td>20</td><td>60</td><td>58427 milliseconds</td><td>4278.41</td><td>9.3484e-10</td></tr></tbody></table>"
      ],
      "text/latex": [
       "\\begin{tabular}{r|ccccccc}\n",
       "\t& nIteration & n & reps & DurationGLMM\\_NeldMeader\\_AGP0 & AIC\\_NeldMeader\\_AGP0 & Pvalues\\_NeldMeader\\_AGP0\\_Accuracy & \\\\\n",
       "\t\\hline\n",
       "\t& Int64 & Int64 & Int64 & Millisec… & Float64 & Float64 & \\\\\n",
       "\t\\hline\n",
       "\t1 & 1 & 10 & 30 & 123211 milliseconds & 4077.32 & 4.30388e-14 & $\\dots$ \\\\\n",
       "\t2 & 1 & 12 & 30 & 56875 milliseconds & 4036.01 & 9.7691e-10 & $\\dots$ \\\\\n",
       "\t3 & 1 & 14 & 30 & 37153 milliseconds & 4169.71 & 4.58931e-9 & $\\dots$ \\\\\n",
       "\t4 & 1 & 16 & 30 & 48692 milliseconds & 4118.0 & 1.40641e-9 & $\\dots$ \\\\\n",
       "\t5 & 1 & 18 & 30 & 42031 milliseconds & 3976.38 & 2.93625e-14 & $\\dots$ \\\\\n",
       "\t6 & 1 & 20 & 30 & 29418 milliseconds & 4168.15 & 4.36978e-11 & $\\dots$ \\\\\n",
       "\t7 & 1 & 10 & 40 & 53537 milliseconds & 4075.99 & 1.1792e-14 & $\\dots$ \\\\\n",
       "\t8 & 1 & 12 & 40 & 36506 milliseconds & 4012.85 & 1.19685e-14 & $\\dots$ \\\\\n",
       "\t9 & 1 & 14 & 40 & 42479 milliseconds & 4033.97 & 2.51751e-9 & $\\dots$ \\\\\n",
       "\t10 & 1 & 16 & 40 & 45766 milliseconds & 4144.67 & 1.44435e-13 & $\\dots$ \\\\\n",
       "\t11 & 1 & 18 & 40 & 54436 milliseconds & 4076.44 & 6.38635e-12 & $\\dots$ \\\\\n",
       "\t12 & 1 & 20 & 40 & 49723 milliseconds & 4048.1 & 3.53276e-11 & $\\dots$ \\\\\n",
       "\t13 & 1 & 10 & 50 & 26521 milliseconds & 4049.73 & 2.14448e-13 & $\\dots$ \\\\\n",
       "\t14 & 1 & 12 & 50 & 34997 milliseconds & 4213.3 & 2.5166e-13 & $\\dots$ \\\\\n",
       "\t15 & 1 & 14 & 50 & 50674 milliseconds & 4062.41 & 4.0405e-14 & $\\dots$ \\\\\n",
       "\t16 & 1 & 16 & 50 & 34166 milliseconds & 4182.28 & 2.53538e-12 & $\\dots$ \\\\\n",
       "\t17 & 1 & 18 & 50 & 44425 milliseconds & 4148.61 & 1.88133e-10 & $\\dots$ \\\\\n",
       "\t18 & 1 & 20 & 50 & 40366 milliseconds & 3998.65 & 3.14406e-14 & $\\dots$ \\\\\n",
       "\t19 & 1 & 10 & 60 & 53900 milliseconds & 4150.95 & 1.73378e-13 & $\\dots$ \\\\\n",
       "\t20 & 1 & 12 & 60 & 27675 milliseconds & 4136.5 & 3.53186e-12 & $\\dots$ \\\\\n",
       "\t21 & 1 & 14 & 60 & 19767 milliseconds & 4173.1 & 5.92435e-11 & $\\dots$ \\\\\n",
       "\t22 & 1 & 16 & 60 & 61584 milliseconds & 4222.64 & 1.08887e-11 & $\\dots$ \\\\\n",
       "\t23 & 1 & 18 & 60 & 22023 milliseconds & 3909.67 & 7.06385e-10 & $\\dots$ \\\\\n",
       "\t24 & 1 & 20 & 60 & 58427 milliseconds & 4278.41 & 9.3484e-10 & $\\dots$ \\\\\n",
       "\\end{tabular}\n"
      ],
      "text/plain": [
       "24×21 DataFrame. Omitted printing of 17 columns\n",
       "│ Row │ nIteration │ n     │ reps  │ DurationGLMM_NeldMeader_AGP0 │\n",
       "│     │ \u001b[90mInt64\u001b[39m      │ \u001b[90mInt64\u001b[39m │ \u001b[90mInt64\u001b[39m │ \u001b[90mMillisecond\u001b[39m                  │\n",
       "├─────┼────────────┼───────┼───────┼──────────────────────────────┤\n",
       "│ 1   │ 1          │ 10    │ 30    │ 123211 milliseconds          │\n",
       "│ 2   │ 1          │ 12    │ 30    │ 56875 milliseconds           │\n",
       "│ 3   │ 1          │ 14    │ 30    │ 37153 milliseconds           │\n",
       "│ 4   │ 1          │ 16    │ 30    │ 48692 milliseconds           │\n",
       "│ 5   │ 1          │ 18    │ 30    │ 42031 milliseconds           │\n",
       "│ 6   │ 1          │ 20    │ 30    │ 29418 milliseconds           │\n",
       "│ 7   │ 1          │ 10    │ 40    │ 53537 milliseconds           │\n",
       "│ 8   │ 1          │ 12    │ 40    │ 36506 milliseconds           │\n",
       "│ 9   │ 1          │ 14    │ 40    │ 42479 milliseconds           │\n",
       "│ 10  │ 1          │ 16    │ 40    │ 45766 milliseconds           │\n",
       "⋮\n",
       "│ 14  │ 1          │ 12    │ 50    │ 34997 milliseconds           │\n",
       "│ 15  │ 1          │ 14    │ 50    │ 50674 milliseconds           │\n",
       "│ 16  │ 1          │ 16    │ 50    │ 34166 milliseconds           │\n",
       "│ 17  │ 1          │ 18    │ 50    │ 44425 milliseconds           │\n",
       "│ 18  │ 1          │ 20    │ 50    │ 40366 milliseconds           │\n",
       "│ 19  │ 1          │ 10    │ 60    │ 53900 milliseconds           │\n",
       "│ 20  │ 1          │ 12    │ 60    │ 27675 milliseconds           │\n",
       "│ 21  │ 1          │ 14    │ 60    │ 19767 milliseconds           │\n",
       "│ 22  │ 1          │ 16    │ 60    │ 61584 milliseconds           │\n",
       "│ 23  │ 1          │ 18    │ 60    │ 22023 milliseconds           │\n",
       "│ 24  │ 1          │ 20    │ 60    │ 58427 milliseconds           │"
      ]
     },
     "execution_count": 4,
     "metadata": {},
     "output_type": "execute_result"
    }
   ],
   "source": [
    "PowerfulDataframe"
   ]
  },
  {
   "cell_type": "code",
   "execution_count": 19,
   "metadata": {},
   "outputs": [
    {
     "name": "stdout",
     "output_type": "stream",
     "text": [
      "123"
     ]
    },
    {
     "ename": "ArgumentError",
     "evalue": "ArgumentError: invalid NLopt arguments: zero step size",
     "output_type": "error",
     "traceback": [
      "ArgumentError: invalid NLopt arguments: zero step size",
      "",
      "Stacktrace:",
      " [1] chk(::NLopt.Opt, ::NLopt.Result) at C:\\Users\\bjoer\\.julia\\packages\\NLopt\\eqN9a\\src\\NLopt.jl:237",
      " [2] initial_step! at C:\\Users\\bjoer\\.julia\\packages\\NLopt\\eqN9a\\src\\NLopt.jl:340 [inlined]",
      " [3] NLopt.Opt(::OptSummary{Float64}) at C:\\Users\\bjoer\\.julia\\packages\\MixedModels\\ALNok\\src\\optsummary.jl:85",
      " [4] fit!(::GeneralizedLinearMixedModel{Float64}; verbose::Bool, fast::Bool, nAGQ::Int64) at C:\\Users\\bjoer\\.julia\\packages\\MixedModels\\ALNok\\src\\generalizedlinearmixedmodel.jl:182",
      " [5] fit!(::GeneralizedLinearMixedModel{Float64}) at C:\\Users\\bjoer\\.julia\\packages\\MixedModels\\ALNok\\src\\generalizedlinearmixedmodel.jl:160",
      " [6] top-level scope at In[19]:10"
     ]
    }
   ],
   "source": []
  }
 ],
 "metadata": {
  "kernelspec": {
   "display_name": "Julia 1.4.0",
   "language": "julia",
   "name": "julia-1.4"
  },
  "language_info": {
   "file_extension": ".jl",
   "mimetype": "application/julia",
   "name": "julia",
   "version": "1.4.0"
  }
 },
 "nbformat": 4,
 "nbformat_minor": 4
}
